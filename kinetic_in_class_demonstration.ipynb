{
 "cells": [
  {
   "cell_type": "code",
   "execution_count": null,
   "metadata": {},
   "outputs": [],
   "source": [
    "% some housekeeping stuff\n",
    "register_graphics_toolkit (\"gnuplot\");\n",
    "available_graphics_toolkits ();\n",
    "graphics_toolkit (\"gnuplot\")\n",
    "clear\n",
    "% end of housekeeping"
   ]
  },
  {
   "cell_type": "markdown",
   "metadata": {},
   "source": [
    "# simulate first order kinetics\n",
    "\n"
   ]
  },
  {
   "cell_type": "code",
   "execution_count": null,
   "metadata": {},
   "outputs": [],
   "source": [
    "%plot -s 600,500 -f 'svg' \n",
    "\n",
    "%insert data\n",
    "\n",
    "data=[...\n",
    "%time   count\n",
    "0        100\n",
    "1         90\n",
    "2         81\n",
    "3         73\n",
    "4         66\n",
    "5         60\n",
    "6         54 \n",
    "7         49\n",
    "8         44\n",
    "9         40\n",
    "10        36\n",
    "];\n",
    "\n",
    "time=data(:,1); count=data(:,2);\n",
    "\n",
    "plot(time,count,'ko','markersize',4,'markerfacecolor','b')\n",
    "set(gca,'linewidth',1.5,'fontsize',12)\n",
    "xlabel('time','fontsize',14); ylabel('count','fontsize',14)"
   ]
  },
  {
   "cell_type": "code",
   "execution_count": null,
   "metadata": {},
   "outputs": [],
   "source": [
    "%plot -s 600,500 -f 'svg' \n",
    "\n",
    "% now linearize the plot and determine rate constant and No\n",
    "\n",
    "x=time;  y=log(count);\n",
    "\n",
    "param=polyfit(x,y,1); slope=param(1); intercept=param(2);\n",
    "\n",
    "fit=slope*time+intercept;\n",
    "\n",
    "% plot it\n",
    "\n",
    "plot(x,y,'ko','markersize',4,'markerfacecolor','b')\n",
    "hold on\n",
    "plot(x,fit,'k','linewidth',2)\n",
    "\n",
    "set(gca,'linewidth',1.5,'fontsize',12)\n",
    "xlabel('time','fontsize',14); ylabel('ln(count)','fontsize',14)\n",
    "\n",
    "Nostr=num2str(exp(intercept));\n",
    "slopestr=num2str(slope);\n",
    "\n",
    "timept=min(time)+0.5*(max(time)-min(time));\n",
    "%lncountpt=min(y)+0.5*(max(y)-min(y));\n",
    "lncountpt=max(y);\n",
    "\n",
    "Noplt=['N_0 = ',Nostr];\n",
    "text(timept,lncountpt,Noplt,'fontsize',15)\n",
    "slopeplt=['Slope = ',slopestr];\n",
    "text(timept,lncountpt-0.05*lncountpt,slopeplt,'fontsize',15)"
   ]
  },
  {
   "cell_type": "code",
   "execution_count": null,
   "metadata": {},
   "outputs": [],
   "source": [
    "%plot -s 600,500 -f 'svg' \n",
    "\n",
    "% plot the exponential version\n",
    "\n",
    "model=exp(intercept)*exp(slope*time);\n",
    "\n",
    "plot(time,count,'ko','markersize',4,'markerfacecolor','b')\n",
    "set(gca,'linewidth',1.5,'fontsize',12)\n",
    "xlabel('time','fontsize',14); ylabel('count','fontsize',14)\n",
    "\n",
    "hold on\n",
    "plot(time,model,'k','linewidth',2)\n",
    "\n"
   ]
  }
 ],
 "metadata": {
  "kernelspec": {
   "display_name": "Octave",
   "language": "octave",
   "name": "octave"
  },
  "language_info": {
   "file_extension": ".m",
   "help_links": [
    {
     "text": "GNU Octave",
     "url": "https://www.gnu.org/software/octave/support.html"
    },
    {
     "text": "Octave Kernel",
     "url": "https://github.com/Calysto/octave_kernel"
    },
    {
     "text": "MetaKernel Magics",
     "url": "https://metakernel.readthedocs.io/en/latest/source/README.html"
    }
   ],
   "mimetype": "text/x-octave",
   "name": "octave",
   "version": "7.3.0"
  }
 },
 "nbformat": 4,
 "nbformat_minor": 4
}
