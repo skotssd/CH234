{
 "cells": [
  {
   "cell_type": "code",
   "execution_count": 17,
   "metadata": {},
   "outputs": [
    {
     "name": "stdout",
     "output_type": "stream",
     "text": [
      "ans =\n",
      "{\n",
      "  [1,1] = fltk\n",
      "  [1,2] = gnuplot\n",
      "}\n",
      "\n"
     ]
    }
   ],
   "source": [
    "% some housekeeping stuff\n",
    "register_graphics_toolkit (\"gnuplot\");\n",
    "available_graphics_toolkits ()\n",
    "graphics_toolkit(\"gnuplot\")\n",
    "clear\n",
    "% end of housekeeping"
   ]
  },
  {
   "cell_type": "markdown",
   "metadata": {},
   "source": [
    "# Roots of a quadratic equation\n",
    "\n",
    "The general form of a quadratic equation is :\n",
    "\n",
    "$ax^2 + bx+c=0$\n",
    "\n",
    "it is possible to solve for the roots (x values where y=0) using the quadratic equation.  You can also solve numerically using this script.  Just input the values for a, b and c in the code below.\n",
    "\n",
    "This might be useful for doing assignments in CH234"
   ]
  },
  {
   "cell_type": "code",
   "execution_count": 11,
   "metadata": {},
   "outputs": [
    {
     "name": "stdout",
     "output_type": "stream",
     "text": [
      "pH = 11.806\n",
      "Kb = 1.6982e-05\n",
      "t =\n",
      "\n",
      "  -5.3607e-02\n",
      "   2.0244e-06\n",
      "\n",
      "t = 2.0244e-06\n",
      "pt = 5.6937\n",
      "pOH = 8.3063\n"
     ]
    }
   ],
   "source": [
    "%plot -s 600,500 -f 'svg'\n",
    "CaT=(0.01*0.05)/(V1+V2+0.01);\n",
    "OH=2*CaT; H=1e-14/OH; pH=-log10(H)\n",
    "BT=(V1*0.1)/(V1+V2+0.01);\n",
    "Kb=10^(9.23-14)\n",
    "a=1; b=Kb+BT-2*CaT; c=-2*CaT*Kb;\n",
    "%finds the roots\n",
    "t=roots([a b c])\n",
    "t=t(imag(t)==0); %sets any imaginary roots to zero\n",
    "% display the positive real root\n",
    "\n",
    "t=t(t>0)\n",
    "\n",
    "% take minus log in case that might be useful\n",
    "\n",
    "pt=-log10(t)\n",
    "pOH=14-pt"
   ]
  },
  {
   "cell_type": "code",
   "execution_count": 20,
   "metadata": {},
   "outputs": [
    {
     "data": {
      "image/svg+xml": [
       "<svg xmlns=\"http://www.w3.org/2000/svg\" xmlns:xlink=\"http://www.w3.org/1999/xlink\" width=\"600px\" height=\"500px\" viewBox=\"0 0 560 420\">\n",
       "\n",
       "<title>Gnuplot</title>\n",
       "<desc>Produced by GNUPLOT 5.4 patchlevel 2 </desc>\n",
       "\n",
       "<g id=\"gnuplot_canvas\">\n",
       "\n",
       "<rect x=\"0\" y=\"0\" width=\"560\" height=\"420\" fill=\"none\"/>\n",
       "<defs>\n",
       "\n",
       "\t<circle id=\"gpDot\" r=\"0.5\" stroke-width=\"0.5\" stroke=\"currentColor\"/>\n",
       "\t<path id=\"gpPt0\" stroke-width=\"0.222\" stroke=\"currentColor\" d=\"M-1,0 h2 M0,-1 v2\"/>\n",
       "\t<path id=\"gpPt1\" stroke-width=\"0.222\" stroke=\"currentColor\" d=\"M-1,-1 L1,1 M1,-1 L-1,1\"/>\n",
       "\t<path id=\"gpPt2\" stroke-width=\"0.222\" stroke=\"currentColor\" d=\"M-1,0 L1,0 M0,-1 L0,1 M-1,-1 L1,1 M-1,1 L1,-1\"/>\n",
       "\t<rect id=\"gpPt3\" stroke-width=\"0.222\" stroke=\"currentColor\" x=\"-1\" y=\"-1\" width=\"2\" height=\"2\"/>\n",
       "\t<rect id=\"gpPt4\" stroke-width=\"0.222\" stroke=\"currentColor\" fill=\"currentColor\" x=\"-1\" y=\"-1\" width=\"2\" height=\"2\"/>\n",
       "\t<circle id=\"gpPt5\" stroke-width=\"0.222\" stroke=\"currentColor\" cx=\"0\" cy=\"0\" r=\"1\"/>\n",
       "\t<use xlink:href=\"#gpPt5\" id=\"gpPt6\" fill=\"currentColor\" stroke=\"none\"/>\n",
       "\t<path id=\"gpPt7\" stroke-width=\"0.222\" stroke=\"currentColor\" d=\"M0,-1.33 L-1.33,0.67 L1.33,0.67 z\"/>\n",
       "\t<use xlink:href=\"#gpPt7\" id=\"gpPt8\" fill=\"currentColor\" stroke=\"none\"/>\n",
       "\t<use xlink:href=\"#gpPt7\" id=\"gpPt9\" stroke=\"currentColor\" transform=\"rotate(180)\"/>\n",
       "\t<use xlink:href=\"#gpPt9\" id=\"gpPt10\" fill=\"currentColor\" stroke=\"none\"/>\n",
       "\t<use xlink:href=\"#gpPt3\" id=\"gpPt11\" stroke=\"currentColor\" transform=\"rotate(45)\"/>\n",
       "\t<use xlink:href=\"#gpPt11\" id=\"gpPt12\" fill=\"currentColor\" stroke=\"none\"/>\n",
       "\t<path id=\"gpPt13\" stroke-width=\"0.222\" stroke=\"currentColor\" d=\"M0,1.330 L1.265,0.411 L0.782,-1.067 L-0.782,-1.076 L-1.265,0.411 z\"/>\n",
       "\t<use xlink:href=\"#gpPt13\" id=\"gpPt14\" fill=\"currentColor\" stroke=\"none\"/>\n",
       "\t<filter id=\"textbox\" filterUnits=\"objectBoundingBox\" x=\"0\" y=\"0\" height=\"1\" width=\"1\">\n",
       "\t  <feFlood flood-color=\"white\" flood-opacity=\"1\" result=\"bgnd\"/>\n",
       "\t  <feComposite in=\"SourceGraphic\" in2=\"bgnd\" operator=\"atop\"/>\n",
       "\t</filter>\n",
       "\t<filter id=\"greybox\" filterUnits=\"objectBoundingBox\" x=\"0\" y=\"0\" height=\"1\" width=\"1\">\n",
       "\t  <feFlood flood-color=\"lightgrey\" flood-opacity=\"1\" result=\"grey\"/>\n",
       "\t  <feComposite in=\"SourceGraphic\" in2=\"grey\" operator=\"atop\"/>\n",
       "\t</filter>\n",
       "</defs>\n",
       "<g fill=\"none\" color=\"white\" stroke=\"currentColor\" stroke-width=\"1.00\" stroke-linecap=\"butt\" stroke-linejoin=\"miter\">\n",
       "</g>\n",
       "<g fill=\"none\" color=\"black\" stroke=\"currentColor\" stroke-width=\"1.00\" stroke-linecap=\"butt\" stroke-linejoin=\"miter\">\n",
       "\t<g stroke=\"none\" shape-rendering=\"crispEdges\">\n",
       "\t\t<polygon fill=\"rgb(255, 255, 255)\" points=\"71.31,384.00 530.63,384.00 530.63,18.02 71.31,18.02 \"/>\n",
       "\t</g>\n",
       "</g>\n",
       "<g fill=\"none\" color=\"black\" stroke=\"currentColor\" stroke-width=\"1.00\" stroke-linecap=\"butt\" stroke-linejoin=\"miter\">\n",
       "\t<path stroke=\"rgb(  0,   0,   0)\" d=\"M71.31,384.00 L83.91,384.00 M530.64,384.00 L518.04,384.00  \"/>\t<g transform=\"translate(62.92,387.25)\" stroke=\"none\" fill=\"rgb(38,38,38)\" font-family=\"Arial\" font-size=\"10.00\" text-anchor=\"end\">\n",
       "\t\t<text><tspan font-family=\"Arial\">-2e-06</tspan></text>\n",
       "\t</g>\n",
       "</g>\n",
       "<g fill=\"none\" color=\"black\" stroke=\"currentColor\" stroke-width=\"1.00\" stroke-linecap=\"butt\" stroke-linejoin=\"miter\">\n",
       "\t<path stroke=\"rgb(  0,   0,   0)\" d=\"M71.31,323.00 L83.91,323.00 M530.64,323.00 L518.04,323.00  \"/>\t<g transform=\"translate(62.92,326.25)\" stroke=\"none\" fill=\"rgb(38,38,38)\" font-family=\"Arial\" font-size=\"10.00\" text-anchor=\"end\">\n",
       "\t\t<text><tspan font-family=\"Arial\">0</tspan></text>\n",
       "\t</g>\n",
       "</g>\n",
       "<g fill=\"none\" color=\"black\" stroke=\"currentColor\" stroke-width=\"1.00\" stroke-linecap=\"butt\" stroke-linejoin=\"miter\">\n",
       "\t<path stroke=\"rgb(  0,   0,   0)\" d=\"M71.31,262.00 L83.91,262.00 M530.64,262.00 L518.04,262.00  \"/>\t<g transform=\"translate(62.92,265.25)\" stroke=\"none\" fill=\"rgb(38,38,38)\" font-family=\"Arial\" font-size=\"10.00\" text-anchor=\"end\">\n",
       "\t\t<text><tspan font-family=\"Arial\">2e-06</tspan></text>\n",
       "\t</g>\n",
       "</g>\n",
       "<g fill=\"none\" color=\"black\" stroke=\"currentColor\" stroke-width=\"1.00\" stroke-linecap=\"butt\" stroke-linejoin=\"miter\">\n",
       "\t<path stroke=\"rgb(  0,   0,   0)\" d=\"M71.31,201.00 L83.91,201.00 M530.64,201.00 L518.04,201.00  \"/>\t<g transform=\"translate(62.92,204.25)\" stroke=\"none\" fill=\"rgb(38,38,38)\" font-family=\"Arial\" font-size=\"10.00\" text-anchor=\"end\">\n",
       "\t\t<text><tspan font-family=\"Arial\">4e-06</tspan></text>\n",
       "\t</g>\n",
       "</g>\n",
       "<g fill=\"none\" color=\"black\" stroke=\"currentColor\" stroke-width=\"1.00\" stroke-linecap=\"butt\" stroke-linejoin=\"miter\">\n",
       "\t<path stroke=\"rgb(  0,   0,   0)\" d=\"M71.31,140.01 L83.91,140.01 M530.64,140.01 L518.04,140.01  \"/>\t<g transform=\"translate(62.92,143.26)\" stroke=\"none\" fill=\"rgb(38,38,38)\" font-family=\"Arial\" font-size=\"10.00\" text-anchor=\"end\">\n",
       "\t\t<text><tspan font-family=\"Arial\">6e-06</tspan></text>\n",
       "\t</g>\n",
       "</g>\n",
       "<g fill=\"none\" color=\"black\" stroke=\"currentColor\" stroke-width=\"1.00\" stroke-linecap=\"butt\" stroke-linejoin=\"miter\">\n",
       "\t<path stroke=\"rgb(  0,   0,   0)\" d=\"M71.31,79.01 L83.91,79.01 M530.64,79.01 L518.04,79.01  \"/>\t<g transform=\"translate(62.92,82.26)\" stroke=\"none\" fill=\"rgb(38,38,38)\" font-family=\"Arial\" font-size=\"10.00\" text-anchor=\"end\">\n",
       "\t\t<text><tspan font-family=\"Arial\">8e-06</tspan></text>\n",
       "\t</g>\n",
       "</g>\n",
       "<g fill=\"none\" color=\"black\" stroke=\"currentColor\" stroke-width=\"1.00\" stroke-linecap=\"butt\" stroke-linejoin=\"miter\">\n",
       "\t<path stroke=\"rgb(  0,   0,   0)\" d=\"M71.31,18.01 L83.91,18.01 M530.64,18.01 L518.04,18.01  \"/>\t<g transform=\"translate(62.92,21.26)\" stroke=\"none\" fill=\"rgb(38,38,38)\" font-family=\"Arial\" font-size=\"10.00\" text-anchor=\"end\">\n",
       "\t\t<text><tspan font-family=\"Arial\">1e-05</tspan></text>\n",
       "\t</g>\n",
       "</g>\n",
       "<g fill=\"none\" color=\"black\" stroke=\"currentColor\" stroke-width=\"1.00\" stroke-linecap=\"butt\" stroke-linejoin=\"miter\">\n",
       "\t<path stroke=\"rgb(  0,   0,   0)\" d=\"M71.31,384.00 L71.31,371.40 M71.31,18.01 L71.31,30.61  \"/>\t<g transform=\"translate(71.31,405.25)\" stroke=\"none\" fill=\"rgb(38,38,38)\" font-family=\"Arial\" font-size=\"10.00\" text-anchor=\"middle\">\n",
       "\t\t<text><tspan font-family=\"Arial\">-0.004</tspan></text>\n",
       "\t</g>\n",
       "</g>\n",
       "<g fill=\"none\" color=\"black\" stroke=\"currentColor\" stroke-width=\"1.00\" stroke-linecap=\"butt\" stroke-linejoin=\"miter\">\n",
       "\t<path stroke=\"rgb(  0,   0,   0)\" d=\"M186.14,384.00 L186.14,371.40 M186.14,18.01 L186.14,30.61  \"/>\t<g transform=\"translate(186.14,405.25)\" stroke=\"none\" fill=\"rgb(38,38,38)\" font-family=\"Arial\" font-size=\"10.00\" text-anchor=\"middle\">\n",
       "\t\t<text><tspan font-family=\"Arial\">-0.002</tspan></text>\n",
       "\t</g>\n",
       "</g>\n",
       "<g fill=\"none\" color=\"black\" stroke=\"currentColor\" stroke-width=\"1.00\" stroke-linecap=\"butt\" stroke-linejoin=\"miter\">\n",
       "\t<path stroke=\"rgb(  0,   0,   0)\" d=\"M300.98,384.00 L300.98,371.40 M300.98,18.01 L300.98,30.61  \"/>\t<g transform=\"translate(300.98,405.25)\" stroke=\"none\" fill=\"rgb(38,38,38)\" font-family=\"Arial\" font-size=\"10.00\" text-anchor=\"middle\">\n",
       "\t\t<text><tspan font-family=\"Arial\">0</tspan></text>\n",
       "\t</g>\n",
       "</g>\n",
       "<g fill=\"none\" color=\"black\" stroke=\"currentColor\" stroke-width=\"1.00\" stroke-linecap=\"butt\" stroke-linejoin=\"miter\">\n",
       "\t<path stroke=\"rgb(  0,   0,   0)\" d=\"M415.81,384.00 L415.81,371.40 M415.81,18.01 L415.81,30.61  \"/>\t<g transform=\"translate(415.81,405.25)\" stroke=\"none\" fill=\"rgb(38,38,38)\" font-family=\"Arial\" font-size=\"10.00\" text-anchor=\"middle\">\n",
       "\t\t<text><tspan font-family=\"Arial\">0.002</tspan></text>\n",
       "\t</g>\n",
       "</g>\n",
       "<g fill=\"none\" color=\"black\" stroke=\"currentColor\" stroke-width=\"1.00\" stroke-linecap=\"butt\" stroke-linejoin=\"miter\">\n",
       "\t<path stroke=\"rgb(  0,   0,   0)\" d=\"M530.64,384.00 L530.64,371.40 M530.64,18.01 L530.64,30.61  \"/>\t<g transform=\"translate(530.64,405.25)\" stroke=\"none\" fill=\"rgb(38,38,38)\" font-family=\"Arial\" font-size=\"10.00\" text-anchor=\"middle\">\n",
       "\t\t<text><tspan font-family=\"Arial\">0.004</tspan></text>\n",
       "\t</g>\n",
       "</g>\n",
       "<g fill=\"none\" color=\"black\" stroke=\"currentColor\" stroke-width=\"1.00\" stroke-linecap=\"butt\" stroke-linejoin=\"miter\">\n",
       "</g>\n",
       "<g fill=\"none\" color=\"black\" stroke=\"currentColor\" stroke-width=\"1.00\" stroke-linecap=\"butt\" stroke-linejoin=\"miter\">\n",
       "</g>\n",
       "\t<g id=\"gnuplot_plot_1a\"><title>gnuplot_plot_1a</title>\n",
       "<g fill=\"none\" color=\"white\" stroke=\"rgb(  0,   0,   0)\" stroke-width=\"2.00\" stroke-linecap=\"butt\" stroke-linejoin=\"miter\">\n",
       "</g>\n",
       "<g fill=\"none\" color=\"black\" stroke=\"currentColor\" stroke-width=\"2.00\" stroke-linecap=\"butt\" stroke-linejoin=\"miter\">\n",
       "\t<path stroke=\"rgb(  0,   0, 255)\" d=\"M122.26,31.50 L124.04,37.37 L125.83,43.19 L127.62,48.94 L129.41,54.63 L131.19,60.27 L132.98,65.84 L134.77,71.36   L136.55,76.82 L138.34,82.21 L140.13,87.55 L141.92,92.83 L143.70,98.05 L145.49,103.21 L147.28,108.32 L149.06,113.36   L150.85,118.35 L152.64,123.27 L154.43,128.14 L156.21,132.94 L158.00,137.69 L159.79,142.38 L161.57,147.01 L163.36,151.58   L165.15,156.09 L166.94,160.55 L168.72,164.94 L170.51,169.27 L172.30,173.55 L174.09,177.76 L175.87,181.92 L177.66,186.02   L179.45,190.06 L181.23,194.04 L183.02,197.96 L184.81,201.82 L186.60,205.62 L188.38,209.37 L190.17,213.05 L191.96,216.68   L193.74,220.24 L195.53,223.75 L197.32,227.20 L199.11,230.59 L200.89,233.91 L202.68,237.19 L204.47,240.40 L206.25,243.55   L208.04,246.64 L209.83,249.68 L211.62,252.65 L213.40,255.57 L215.19,258.42 L216.98,261.22 L218.76,263.96 L220.55,266.64   L222.34,269.26 L224.13,271.82 L225.91,274.32 L227.70,276.77 L229.49,279.15 L231.27,281.48 L233.06,283.74 L234.85,285.95   L236.64,288.10 L238.42,290.19 L240.21,292.21 L242.00,294.19 L243.79,296.10 L245.57,297.95 L247.36,299.74 L249.15,301.48   L250.93,303.15 L252.72,304.77 L254.51,306.32 L256.30,307.82 L258.08,309.26 L259.87,310.64 L261.66,311.96 L263.44,313.22   L265.23,314.42 L267.02,315.56 L268.81,316.65 L270.59,317.67 L272.38,318.64 L274.17,319.55 L275.95,320.39 L277.74,321.18   L279.53,321.91 L281.32,322.58 L283.10,323.19 L284.89,323.74 L286.68,324.24 L288.46,324.67 L290.25,325.04 L292.04,325.36   L293.83,325.62 L295.61,325.81 L297.40,325.95 L299.19,326.03 L300.98,326.05 L302.76,326.01 L304.55,325.91 L306.34,325.76   L308.12,325.54 L309.91,325.27 L311.70,324.93 L313.49,324.54 L315.27,324.08 L317.06,323.57 L318.85,323.00 L320.63,322.37   L322.42,321.68 L324.21,320.93 L326.00,320.13 L327.78,319.26 L329.57,318.33 L331.36,317.35 L333.14,316.31 L334.93,315.20   L336.72,314.04 L338.51,312.82 L340.29,311.54 L342.08,310.20 L343.87,308.80 L345.65,307.35 L347.44,305.83 L349.23,304.25   L351.02,302.62 L352.80,300.92 L354.59,299.17 L356.38,297.36 L358.16,295.49 L359.95,293.56 L361.74,291.57 L363.53,289.52   L365.31,287.41 L367.10,285.25 L368.89,283.02 L370.68,280.74 L372.46,278.39 L374.25,275.99 L376.04,273.53 L377.82,271.01   L379.61,268.43 L381.40,265.79 L383.19,263.09 L384.97,260.33 L386.76,257.51 L388.55,254.64 L390.33,251.70 L392.12,248.71   L393.91,245.66 L395.70,242.54 L397.48,239.37 L399.27,236.14 L401.06,232.85 L402.84,229.50 L404.63,226.10 L406.42,222.63   L408.21,219.10 L409.99,215.52 L411.78,211.87 L413.57,208.17 L415.35,204.41 L417.14,200.59 L418.93,196.71 L420.72,192.77   L422.50,188.77 L424.29,184.71 L426.08,180.59 L427.86,176.42 L429.65,172.18 L431.44,167.89 L433.23,163.53 L435.01,159.12   L436.80,154.65 L438.59,150.12 L440.38,145.53 L442.16,140.88 L443.95,136.17 L445.74,131.41 L447.52,126.58 L449.31,121.69   L451.10,116.75 L452.89,111.75 L454.67,106.68 L456.46,101.56 L458.25,96.38 L460.03,91.14 L461.82,85.84 L463.61,80.49   L465.40,75.07 L467.18,69.59 L468.97,64.06 L470.76,58.46 L472.54,52.81 L474.33,47.10 L476.12,41.32 L477.91,35.49   L479.69,29.60  \"/></g>\n",
       "\t</g>\n",
       "\t<g id=\"gnuplot_plot_2a\"><title>gnuplot_plot_2a</title>\n",
       "<g fill=\"none\" color=\"black\" stroke=\"currentColor\" stroke-width=\"2.00\" stroke-linecap=\"butt\" stroke-linejoin=\"miter\">\n",
       "\t<path stroke=\"rgb(255,   0,   0)\" d=\"M318.85,355.39 L318.85,29.60  \"/></g>\n",
       "\t</g>\n",
       "\t<g id=\"gnuplot_plot_3a\"><title>gnuplot_plot_3a</title>\n",
       "<g fill=\"none\" color=\"black\" stroke=\"currentColor\" stroke-width=\"2.00\" stroke-linecap=\"butt\" stroke-linejoin=\"miter\">\n",
       "\t<path stroke=\"rgb(  0,   0,   0)\" d=\"M122.26,323.00 L124.04,323.00 L125.83,323.00 L127.62,323.00 L129.41,323.00 L131.19,323.00 L132.98,323.00 L134.77,323.00   L136.55,323.00 L138.34,323.00 L140.13,323.00 L141.92,323.00 L143.70,323.00 L145.49,323.00 L147.28,323.00 L149.06,323.00   L150.85,323.00 L152.64,323.00 L154.43,323.00 L156.21,323.00 L158.00,323.00 L159.79,323.00 L161.57,323.00 L163.36,323.00   L165.15,323.00 L166.94,323.00 L168.72,323.00 L170.51,323.00 L172.30,323.00 L174.09,323.00 L175.87,323.00 L177.66,323.00   L179.45,323.00 L181.23,323.00 L183.02,323.00 L184.81,323.00 L186.60,323.00 L188.38,323.00 L190.17,323.00 L191.96,323.00   L193.74,323.00 L195.53,323.00 L197.32,323.00 L199.11,323.00 L200.89,323.00 L202.68,323.00 L204.47,323.00 L206.25,323.00   L208.04,323.00 L209.83,323.00 L211.62,323.00 L213.40,323.00 L215.19,323.00 L216.98,323.00 L218.76,323.00 L220.55,323.00   L222.34,323.00 L224.13,323.00 L225.91,323.00 L227.70,323.00 L229.49,323.00 L231.27,323.00 L233.06,323.00 L234.85,323.00   L236.64,323.00 L238.42,323.00 L240.21,323.00 L242.00,323.00 L243.79,323.00 L245.57,323.00 L247.36,323.00 L249.15,323.00   L250.93,323.00 L252.72,323.00 L254.51,323.00 L256.30,323.00 L258.08,323.00 L259.87,323.00 L261.66,323.00 L263.44,323.00   L265.23,323.00 L267.02,323.00 L268.81,323.00 L270.59,323.00 L272.38,323.00 L274.17,323.00 L275.95,323.00 L277.74,323.00   L279.53,323.00 L281.32,323.00 L283.10,323.00 L284.89,323.00 L286.68,323.00 L288.46,323.00 L290.25,323.00 L292.04,323.00   L293.83,323.00 L295.61,323.00 L297.40,323.00 L299.19,323.00 L300.98,323.00 L302.76,323.00 L304.55,323.00 L306.34,323.00   L308.12,323.00 L309.91,323.00 L311.70,323.00 L313.49,323.00 L315.27,323.00 L317.06,323.00 L318.85,323.00 L320.63,323.00   L322.42,323.00 L324.21,323.00 L326.00,323.00 L327.78,323.00 L329.57,323.00 L331.36,323.00 L333.14,323.00 L334.93,323.00   L336.72,323.00 L338.51,323.00 L340.29,323.00 L342.08,323.00 L343.87,323.00 L345.65,323.00 L347.44,323.00 L349.23,323.00   L351.02,323.00 L352.80,323.00 L354.59,323.00 L356.38,323.00 L358.16,323.00 L359.95,323.00 L361.74,323.00 L363.53,323.00   L365.31,323.00 L367.10,323.00 L368.89,323.00 L370.68,323.00 L372.46,323.00 L374.25,323.00 L376.04,323.00 L377.82,323.00   L379.61,323.00 L381.40,323.00 L383.19,323.00 L384.97,323.00 L386.76,323.00 L388.55,323.00 L390.33,323.00 L392.12,323.00   L393.91,323.00 L395.70,323.00 L397.48,323.00 L399.27,323.00 L401.06,323.00 L402.84,323.00 L404.63,323.00 L406.42,323.00   L408.21,323.00 L409.99,323.00 L411.78,323.00 L413.57,323.00 L415.35,323.00 L417.14,323.00 L418.93,323.00 L420.72,323.00   L422.50,323.00 L424.29,323.00 L426.08,323.00 L427.86,323.00 L429.65,323.00 L431.44,323.00 L433.23,323.00 L435.01,323.00   L436.80,323.00 L438.59,323.00 L440.38,323.00 L442.16,323.00 L443.95,323.00 L445.74,323.00 L447.52,323.00 L449.31,323.00   L451.10,323.00 L452.89,323.00 L454.67,323.00 L456.46,323.00 L458.25,323.00 L460.03,323.00 L461.82,323.00 L463.61,323.00   L465.40,323.00 L467.18,323.00 L468.97,323.00 L470.76,323.00 L472.54,323.00 L474.33,323.00 L476.12,323.00 L477.91,323.00   L479.69,323.00  \"/></g>\n",
       "\t</g>\n",
       "<g fill=\"none\" color=\"black\" stroke=\"currentColor\" stroke-width=\"2.00\" stroke-linecap=\"butt\" stroke-linejoin=\"miter\">\n",
       "</g>\n",
       "<g fill=\"none\" color=\"black\" stroke=\"black\" stroke-width=\"0.50\" stroke-linecap=\"butt\" stroke-linejoin=\"miter\">\n",
       "\t<path stroke=\"rgb( 38,  38,  38)\" d=\"M71.32,383.99 L530.65,383.99 M71.32,18.00 L530.65,18.00 M71.32,383.99 L71.32,18.00 M530.65,383.99 L530.65,18.00    \"/></g>\n",
       "<g fill=\"none\" color=\"black\" stroke=\"rgb( 38,  38,  38)\" stroke-width=\"1.00\" stroke-linecap=\"butt\" stroke-linejoin=\"miter\">\n",
       "</g>\n",
       "<g fill=\"none\" color=\"black\" stroke=\"currentColor\" stroke-width=\"1.00\" stroke-linecap=\"butt\" stroke-linejoin=\"miter\">\n",
       "</g>\n",
       "</g>\n",
       "</svg>"
      ],
      "text/plain": [
       "<IPython.core.display.SVG object>"
      ]
     },
     "metadata": {},
     "output_type": "display_data"
    }
   ],
   "source": [
    "%plot -s 600,500 -f 'svg'\n",
    "\n",
    "x=[-10*t:t/10:t*10];\n",
    "y=a*x.^2+b.*x+c;\n",
    "\n",
    "plot(x,y,'b-','linewidth',2)\n",
    "hold on\n",
    "plot([t t],[min(y)-0.1*max(y) max(y)],'r','linewidth',2)\n",
    "plot(x,zeros(size(x)),'k','linewidth',2)"
   ]
  },
  {
   "cell_type": "code",
   "execution_count": null,
   "metadata": {},
   "outputs": [],
   "source": []
  },
  {
   "cell_type": "code",
   "execution_count": null,
   "metadata": {},
   "outputs": [],
   "source": []
  }
 ],
 "metadata": {
  "kernelspec": {
   "display_name": "Octave",
   "language": "octave",
   "name": "octave"
  },
  "language_info": {
   "file_extension": ".m",
   "help_links": [
    {
     "text": "GNU Octave",
     "url": "https://www.gnu.org/software/octave/support.html"
    },
    {
     "text": "Octave Kernel",
     "url": "https://github.com/Calysto/octave_kernel"
    },
    {
     "text": "MetaKernel Magics",
     "url": "https://metakernel.readthedocs.io/en/latest/source/README.html"
    }
   ],
   "mimetype": "text/x-octave",
   "name": "octave",
   "version": "6.4.0"
  }
 },
 "nbformat": 4,
 "nbformat_minor": 4
}
