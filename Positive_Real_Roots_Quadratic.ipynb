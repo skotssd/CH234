{
 "cells": [
  {
   "cell_type": "code",
   "execution_count": 13,
   "metadata": {},
   "outputs": [],
   "source": [
    "% some housekeeping stuff\n",
    "register_graphics_toolkit (\"gnuplot\");\n",
    "available_graphics_toolkits ();\n",
    "graphics_toolkit(\"gnuplot\")\n",
    "clear\n",
    "% end of housekeeping"
   ]
  },
  {
   "cell_type": "markdown",
   "metadata": {},
   "source": [
    "# Roots of a quadratic equation\n",
    "\n",
    "The general form of a quadratic equation is :\n",
    "\n",
    "$ax^2 + bx+c=0$\n",
    "\n",
    "it is possible to solve for the roots (x values where y=0) using the quadratic equation.  You can also solve numerically using this script.  Just input the values for a, b and c in the code below.\n",
    "\n",
    "This might be useful for doing assignments in CH234"
   ]
  },
  {
   "cell_type": "code",
   "execution_count": 14,
   "metadata": {},
   "outputs": [
    {
     "name": "stdout",
     "output_type": "stream",
     "text": [
      "t = 1.6946e-05\n",
      "pt = 4.7709\n"
     ]
    }
   ],
   "source": [
    "%plot -s 600,500 -f 'svg'\n",
    "a=1; Ka=10^-4.75; LiT=(0.002813*0.020+0.001*0.001)/0.021; \n",
    "AT=(5.626e-3*0.02)/0.021;\n",
    "a=1; b=Ka+LiT; c=LiT*Ka-Ka*AT;\n",
    "t=roots([a b c]); %finds the roots\n",
    "t=t(imag(t)==0); %sets any imaginary roots to zero\n",
    "% display the positive real root\n",
    "\n",
    "t=t(t>0)\n",
    "\n",
    "% take minus log in case that might be useful\n",
    "\n",
    "pt=-log10(t)"
   ]
  },
  {
   "cell_type": "code",
   "execution_count": 15,
   "metadata": {},
   "outputs": [
    {
     "data": {
      "image/svg+xml": [
       "<svg xmlns=\"http://www.w3.org/2000/svg\" xmlns:xlink=\"http://www.w3.org/1999/xlink\" width=\"600px\" height=\"500px\" viewBox=\"0 0 560 420\">\n",
       "\n",
       "<title>Gnuplot</title>\n",
       "<desc>Produced by GNUPLOT 5.2 patchlevel 7 </desc>\n",
       "\n",
       "<g id=\"gnuplot_canvas\">\n",
       "\n",
       "<rect x=\"0\" y=\"0\" width=\"560\" height=\"420\" fill=\"none\"/>\n",
       "<defs>\n",
       "\n",
       "\t<circle id=\"gpDot\" r=\"0.5\" stroke-width=\"0.5\" stroke=\"currentColor\"/>\n",
       "\t<path id=\"gpPt0\" stroke-width=\"0.222\" stroke=\"currentColor\" d=\"M-1,0 h2 M0,-1 v2\"/>\n",
       "\t<path id=\"gpPt1\" stroke-width=\"0.222\" stroke=\"currentColor\" d=\"M-1,-1 L1,1 M1,-1 L-1,1\"/>\n",
       "\t<path id=\"gpPt2\" stroke-width=\"0.222\" stroke=\"currentColor\" d=\"M-1,0 L1,0 M0,-1 L0,1 M-1,-1 L1,1 M-1,1 L1,-1\"/>\n",
       "\t<rect id=\"gpPt3\" stroke-width=\"0.222\" stroke=\"currentColor\" x=\"-1\" y=\"-1\" width=\"2\" height=\"2\"/>\n",
       "\t<rect id=\"gpPt4\" stroke-width=\"0.222\" stroke=\"currentColor\" fill=\"currentColor\" x=\"-1\" y=\"-1\" width=\"2\" height=\"2\"/>\n",
       "\t<circle id=\"gpPt5\" stroke-width=\"0.222\" stroke=\"currentColor\" cx=\"0\" cy=\"0\" r=\"1\"/>\n",
       "\t<use xlink:href=\"#gpPt5\" id=\"gpPt6\" fill=\"currentColor\" stroke=\"none\"/>\n",
       "\t<path id=\"gpPt7\" stroke-width=\"0.222\" stroke=\"currentColor\" d=\"M0,-1.33 L-1.33,0.67 L1.33,0.67 z\"/>\n",
       "\t<use xlink:href=\"#gpPt7\" id=\"gpPt8\" fill=\"currentColor\" stroke=\"none\"/>\n",
       "\t<use xlink:href=\"#gpPt7\" id=\"gpPt9\" stroke=\"currentColor\" transform=\"rotate(180)\"/>\n",
       "\t<use xlink:href=\"#gpPt9\" id=\"gpPt10\" fill=\"currentColor\" stroke=\"none\"/>\n",
       "\t<use xlink:href=\"#gpPt3\" id=\"gpPt11\" stroke=\"currentColor\" transform=\"rotate(45)\"/>\n",
       "\t<use xlink:href=\"#gpPt11\" id=\"gpPt12\" fill=\"currentColor\" stroke=\"none\"/>\n",
       "\t<path id=\"gpPt13\" stroke-width=\"0.222\" stroke=\"currentColor\" d=\"M0,1.330 L1.265,0.411 L0.782,-1.067 L-0.782,-1.076 L-1.265,0.411 z\"/>\n",
       "\t<use xlink:href=\"#gpPt13\" id=\"gpPt14\" fill=\"currentColor\" stroke=\"none\"/>\n",
       "\t<filter id=\"textbox\" filterUnits=\"objectBoundingBox\" x=\"0\" y=\"0\" height=\"1\" width=\"1\">\n",
       "\t  <feFlood flood-color=\"white\" flood-opacity=\"1\" result=\"bgnd\"/>\n",
       "\t  <feComposite in=\"SourceGraphic\" in2=\"bgnd\" operator=\"atop\"/>\n",
       "\t</filter>\n",
       "\t<filter id=\"greybox\" filterUnits=\"objectBoundingBox\" x=\"0\" y=\"0\" height=\"1\" width=\"1\">\n",
       "\t  <feFlood flood-color=\"lightgrey\" flood-opacity=\"1\" result=\"grey\"/>\n",
       "\t  <feComposite in=\"SourceGraphic\" in2=\"grey\" operator=\"atop\"/>\n",
       "\t</filter>\n",
       "</defs>\n",
       "<g fill=\"none\" color=\"white\" stroke=\"currentColor\" stroke-width=\"1.00\" stroke-linecap=\"butt\" stroke-linejoin=\"miter\">\n",
       "</g>\n",
       "<g fill=\"none\" color=\"black\" stroke=\"currentColor\" stroke-width=\"1.00\" stroke-linecap=\"butt\" stroke-linejoin=\"miter\">\n",
       "\t<g stroke=\"none\" shape-rendering=\"crispEdges\">\n",
       "\t\t<polygon fill=\"rgb(255, 255, 255)\" points=\"70.5,384.0 526.7,384.0 526.7,18.2 70.5,18.2 \"/>\n",
       "\t</g>\n",
       "</g>\n",
       "<g fill=\"none\" color=\"black\" stroke=\"currentColor\" stroke-width=\"1.00\" stroke-linecap=\"butt\" stroke-linejoin=\"miter\">\n",
       "\t<path stroke=\"rgb(  0,   0,   0)\" d=\"M70.5,384.0 L83.0,384.0 M526.8,384.0 L514.3,384.0  \"/>\t<g transform=\"translate(62.2,387.3)\" stroke=\"none\" fill=\"rgb(38,38,38)\" font-family=\"Arial\" font-size=\"10.00\" text-anchor=\"end\">\n",
       "\t\t<text><tspan font-family=\"Arial\">-6e-07</tspan></text>\n",
       "\t</g>\n",
       "</g>\n",
       "<g fill=\"none\" color=\"black\" stroke=\"currentColor\" stroke-width=\"1.00\" stroke-linecap=\"butt\" stroke-linejoin=\"miter\">\n",
       "\t<path stroke=\"rgb(  0,   0,   0)\" d=\"M70.5,323.0 L83.0,323.0 M526.8,323.0 L514.3,323.0  \"/>\t<g transform=\"translate(62.2,326.3)\" stroke=\"none\" fill=\"rgb(38,38,38)\" font-family=\"Arial\" font-size=\"10.00\" text-anchor=\"end\">\n",
       "\t\t<text><tspan font-family=\"Arial\">-4e-07</tspan></text>\n",
       "\t</g>\n",
       "</g>\n",
       "<g fill=\"none\" color=\"black\" stroke=\"currentColor\" stroke-width=\"1.00\" stroke-linecap=\"butt\" stroke-linejoin=\"miter\">\n",
       "\t<path stroke=\"rgb(  0,   0,   0)\" d=\"M70.5,262.0 L83.0,262.0 M526.8,262.0 L514.3,262.0  \"/>\t<g transform=\"translate(62.2,265.3)\" stroke=\"none\" fill=\"rgb(38,38,38)\" font-family=\"Arial\" font-size=\"10.00\" text-anchor=\"end\">\n",
       "\t\t<text><tspan font-family=\"Arial\">-2e-07</tspan></text>\n",
       "\t</g>\n",
       "</g>\n",
       "<g fill=\"none\" color=\"black\" stroke=\"currentColor\" stroke-width=\"1.00\" stroke-linecap=\"butt\" stroke-linejoin=\"miter\">\n",
       "\t<path stroke=\"rgb(  0,   0,   0)\" d=\"M70.5,201.0 L83.0,201.0 M526.8,201.0 L514.3,201.0  \"/>\t<g transform=\"translate(62.2,204.3)\" stroke=\"none\" fill=\"rgb(38,38,38)\" font-family=\"Arial\" font-size=\"10.00\" text-anchor=\"end\">\n",
       "\t\t<text><tspan font-family=\"Arial\">0</tspan></text>\n",
       "\t</g>\n",
       "</g>\n",
       "<g fill=\"none\" color=\"black\" stroke=\"currentColor\" stroke-width=\"1.00\" stroke-linecap=\"butt\" stroke-linejoin=\"miter\">\n",
       "\t<path stroke=\"rgb(  0,   0,   0)\" d=\"M70.5,140.1 L83.0,140.1 M526.8,140.1 L514.3,140.1  \"/>\t<g transform=\"translate(62.2,143.4)\" stroke=\"none\" fill=\"rgb(38,38,38)\" font-family=\"Arial\" font-size=\"10.00\" text-anchor=\"end\">\n",
       "\t\t<text><tspan font-family=\"Arial\">2e-07</tspan></text>\n",
       "\t</g>\n",
       "</g>\n",
       "<g fill=\"none\" color=\"black\" stroke=\"currentColor\" stroke-width=\"1.00\" stroke-linecap=\"butt\" stroke-linejoin=\"miter\">\n",
       "\t<path stroke=\"rgb(  0,   0,   0)\" d=\"M70.5,79.1 L83.0,79.1 M526.8,79.1 L514.3,79.1  \"/>\t<g transform=\"translate(62.2,82.4)\" stroke=\"none\" fill=\"rgb(38,38,38)\" font-family=\"Arial\" font-size=\"10.00\" text-anchor=\"end\">\n",
       "\t\t<text><tspan font-family=\"Arial\">4e-07</tspan></text>\n",
       "\t</g>\n",
       "</g>\n",
       "<g fill=\"none\" color=\"black\" stroke=\"currentColor\" stroke-width=\"1.00\" stroke-linecap=\"butt\" stroke-linejoin=\"miter\">\n",
       "\t<path stroke=\"rgb(  0,   0,   0)\" d=\"M70.5,18.1 L83.0,18.1 M526.8,18.1 L514.3,18.1  \"/>\t<g transform=\"translate(62.2,21.4)\" stroke=\"none\" fill=\"rgb(38,38,38)\" font-family=\"Arial\" font-size=\"10.00\" text-anchor=\"end\">\n",
       "\t\t<text><tspan font-family=\"Arial\">6e-07</tspan></text>\n",
       "\t</g>\n",
       "</g>\n",
       "<g fill=\"none\" color=\"black\" stroke=\"currentColor\" stroke-width=\"1.00\" stroke-linecap=\"butt\" stroke-linejoin=\"miter\">\n",
       "\t<path stroke=\"rgb(  0,   0,   0)\" d=\"M70.5,384.0 L70.5,371.5 M70.5,18.1 L70.5,30.6  \"/>\t<g transform=\"translate(70.5,405.3)\" stroke=\"none\" fill=\"rgb(38,38,38)\" font-family=\"Arial\" font-size=\"10.00\" text-anchor=\"middle\">\n",
       "\t\t<text><tspan font-family=\"Arial\">-0.0002</tspan></text>\n",
       "\t</g>\n",
       "</g>\n",
       "<g fill=\"none\" color=\"black\" stroke=\"currentColor\" stroke-width=\"1.00\" stroke-linecap=\"butt\" stroke-linejoin=\"miter\">\n",
       "\t<path stroke=\"rgb(  0,   0,   0)\" d=\"M184.6,384.0 L184.6,371.5 M184.6,18.1 L184.6,30.6  \"/>\t<g transform=\"translate(184.6,405.3)\" stroke=\"none\" fill=\"rgb(38,38,38)\" font-family=\"Arial\" font-size=\"10.00\" text-anchor=\"middle\">\n",
       "\t\t<text><tspan font-family=\"Arial\">-0.0001</tspan></text>\n",
       "\t</g>\n",
       "</g>\n",
       "<g fill=\"none\" color=\"black\" stroke=\"currentColor\" stroke-width=\"1.00\" stroke-linecap=\"butt\" stroke-linejoin=\"miter\">\n",
       "\t<path stroke=\"rgb(  0,   0,   0)\" d=\"M298.7,384.0 L298.7,371.5 M298.7,18.1 L298.7,30.6  \"/>\t<g transform=\"translate(298.7,405.3)\" stroke=\"none\" fill=\"rgb(38,38,38)\" font-family=\"Arial\" font-size=\"10.00\" text-anchor=\"middle\">\n",
       "\t\t<text><tspan font-family=\"Arial\">0</tspan></text>\n",
       "\t</g>\n",
       "</g>\n",
       "<g fill=\"none\" color=\"black\" stroke=\"currentColor\" stroke-width=\"1.00\" stroke-linecap=\"butt\" stroke-linejoin=\"miter\">\n",
       "\t<path stroke=\"rgb(  0,   0,   0)\" d=\"M412.7,384.0 L412.7,371.5 M412.7,18.1 L412.7,30.6  \"/>\t<g transform=\"translate(412.7,405.3)\" stroke=\"none\" fill=\"rgb(38,38,38)\" font-family=\"Arial\" font-size=\"10.00\" text-anchor=\"middle\">\n",
       "\t\t<text><tspan font-family=\"Arial\">0.0001</tspan></text>\n",
       "\t</g>\n",
       "</g>\n",
       "<g fill=\"none\" color=\"black\" stroke=\"currentColor\" stroke-width=\"1.00\" stroke-linecap=\"butt\" stroke-linejoin=\"miter\">\n",
       "\t<path stroke=\"rgb(  0,   0,   0)\" d=\"M526.8,384.0 L526.8,371.5 M526.8,18.1 L526.8,30.6  \"/>\t<g transform=\"translate(526.8,405.3)\" stroke=\"none\" fill=\"rgb(38,38,38)\" font-family=\"Arial\" font-size=\"10.00\" text-anchor=\"middle\">\n",
       "\t\t<text><tspan font-family=\"Arial\">0.0002</tspan></text>\n",
       "\t</g>\n",
       "</g>\n",
       "<g fill=\"none\" color=\"black\" stroke=\"currentColor\" stroke-width=\"1.00\" stroke-linecap=\"butt\" stroke-linejoin=\"miter\">\n",
       "</g>\n",
       "<g fill=\"none\" color=\"black\" stroke=\"currentColor\" stroke-width=\"1.00\" stroke-linecap=\"butt\" stroke-linejoin=\"miter\">\n",
       "</g>\n",
       "\t<g id=\"gnuplot_plot_1a\"><title>gnuplot_plot_1a</title>\n",
       "<g fill=\"none\" color=\"white\" stroke=\"rgb(  0,   0,   0)\" stroke-width=\"2.00\" stroke-linecap=\"butt\" stroke-linejoin=\"miter\">\n",
       "</g>\n",
       "<g fill=\"none\" color=\"black\" stroke=\"currentColor\" stroke-width=\"2.00\" stroke-linecap=\"butt\" stroke-linejoin=\"miter\">\n",
       "\t<path stroke=\"rgb(  0,   0, 255)\" d=\"M105.3,348.4 L107.3,347.1 L109.2,345.9 L111.1,344.6 L113.1,343.4 L115.0,342.1 L116.9,340.9 L118.9,339.6   L120.8,338.4 L122.7,337.1 L124.7,335.9 L126.6,334.6 L128.5,333.3 L130.5,332.1 L132.4,330.8 L134.3,329.5   L136.3,328.3 L138.2,327.0 L140.1,325.7 L142.1,324.4 L144.0,323.2 L145.9,321.9 L147.9,320.6 L149.8,319.3   L151.7,318.0 L153.7,316.7 L155.6,315.5 L157.5,314.2 L159.5,312.9 L161.4,311.6 L163.3,310.3 L165.3,309.0   L167.2,307.7 L169.1,306.4 L171.1,305.1 L173.0,303.8 L174.9,302.5 L176.9,301.2 L178.8,299.9 L180.7,298.6   L182.7,297.3 L184.6,295.9 L186.5,294.6 L188.5,293.3 L190.4,292.0 L192.3,290.7 L194.3,289.3 L196.2,288.0   L198.1,286.7 L200.1,285.4 L202.0,284.0 L203.9,282.7 L205.9,281.4 L207.8,280.0 L209.7,278.7 L211.7,277.4   L213.6,276.0 L215.5,274.7 L217.5,273.3 L219.4,272.0 L221.3,270.6 L223.3,269.3 L225.2,267.9 L227.1,266.6   L229.1,265.2 L231.0,263.9 L232.9,262.5 L234.9,261.2 L236.8,259.8 L238.7,258.4 L240.7,257.1 L242.6,255.7   L244.5,254.3 L246.5,253.0 L248.4,251.6 L250.3,250.2 L252.3,248.8 L254.2,247.5 L256.1,246.1 L258.1,244.7   L260.0,243.3 L261.9,241.9 L263.9,240.6 L265.8,239.2 L267.7,237.8 L269.7,236.4 L271.6,235.0 L273.5,233.6   L275.5,232.2 L277.4,230.8 L279.3,229.4 L281.3,228.0 L283.2,226.6 L285.1,225.2 L287.1,223.8 L289.0,222.4   L290.9,221.0 L292.9,219.6 L294.8,218.2 L296.7,216.7 L298.7,215.3 L300.6,213.9 L302.5,212.5 L304.4,211.1   L306.4,209.6 L308.3,208.2 L310.2,206.8 L312.2,205.3 L314.1,203.9 L316.0,202.5 L318.0,201.0 L319.9,199.6   L321.8,198.2 L323.8,196.7 L325.7,195.3 L327.6,193.9 L329.6,192.4 L331.5,191.0 L333.4,189.5 L335.4,188.1   L337.3,186.6 L339.2,185.2 L341.2,183.7 L343.1,182.2 L345.0,180.8 L347.0,179.3 L348.9,177.9 L350.8,176.4   L352.8,174.9 L354.7,173.5 L356.6,172.0 L358.6,170.5 L360.5,169.0 L362.4,167.6 L364.4,166.1 L366.3,164.6   L368.2,163.1 L370.2,161.7 L372.1,160.2 L374.0,158.7 L376.0,157.2 L377.9,155.7 L379.8,154.2 L381.8,152.7   L383.7,151.2 L385.6,149.7 L387.6,148.2 L389.5,146.7 L391.4,145.2 L393.4,143.7 L395.3,142.2 L397.2,140.7   L399.2,139.2 L401.1,137.7 L403.0,136.2 L405.0,134.7 L406.9,133.2 L408.8,131.6 L410.8,130.1 L412.7,128.6   L414.6,127.1 L416.6,125.6 L418.5,124.0 L420.4,122.5 L422.4,121.0 L424.3,119.4 L426.2,117.9 L428.2,116.4   L430.1,114.8 L432.0,113.3 L434.0,111.8 L435.9,110.2 L437.8,108.7 L439.8,107.1 L441.7,105.6 L443.6,104.0   L445.6,102.5 L447.5,100.9 L449.4,99.4 L451.4,97.8 L453.3,96.3 L455.2,94.7 L457.2,93.1 L459.1,91.6   L461.0,90.0 L463.0,88.5 L464.9,86.9 L466.8,85.3 L468.8,83.7 L470.7,82.2 L472.6,80.6 L474.6,79.0   L476.5,77.4 L478.4,75.9 L480.4,74.3 L482.3,72.7 L484.2,71.1 L486.2,69.5 L488.1,67.9 L490.0,66.3   L492.0,64.8  \"/></g>\n",
       "\t</g>\n",
       "\t<g id=\"gnuplot_plot_2a\"><title>gnuplot_plot_2a</title>\n",
       "<g fill=\"none\" color=\"black\" stroke=\"currentColor\" stroke-width=\"2.00\" stroke-linecap=\"butt\" stroke-linejoin=\"miter\">\n",
       "\t<path stroke=\"rgb(255,   0,   0)\" d=\"M318.0,362.0 L318.0,64.8  \"/></g>\n",
       "\t</g>\n",
       "\t<g id=\"gnuplot_plot_3a\"><title>gnuplot_plot_3a</title>\n",
       "<g fill=\"none\" color=\"black\" stroke=\"currentColor\" stroke-width=\"2.00\" stroke-linecap=\"butt\" stroke-linejoin=\"miter\">\n",
       "\t<path stroke=\"rgb(  0,   0,   0)\" d=\"M105.3,201.0 L107.3,201.0 L109.2,201.0 L111.1,201.0 L113.1,201.0 L115.0,201.0 L116.9,201.0 L118.9,201.0   L120.8,201.0 L122.7,201.0 L124.7,201.0 L126.6,201.0 L128.5,201.0 L130.5,201.0 L132.4,201.0 L134.3,201.0   L136.3,201.0 L138.2,201.0 L140.1,201.0 L142.1,201.0 L144.0,201.0 L145.9,201.0 L147.9,201.0 L149.8,201.0   L151.7,201.0 L153.7,201.0 L155.6,201.0 L157.5,201.0 L159.5,201.0 L161.4,201.0 L163.3,201.0 L165.3,201.0   L167.2,201.0 L169.1,201.0 L171.1,201.0 L173.0,201.0 L174.9,201.0 L176.9,201.0 L178.8,201.0 L180.7,201.0   L182.7,201.0 L184.6,201.0 L186.5,201.0 L188.5,201.0 L190.4,201.0 L192.3,201.0 L194.3,201.0 L196.2,201.0   L198.1,201.0 L200.1,201.0 L202.0,201.0 L203.9,201.0 L205.9,201.0 L207.8,201.0 L209.7,201.0 L211.7,201.0   L213.6,201.0 L215.5,201.0 L217.5,201.0 L219.4,201.0 L221.3,201.0 L223.3,201.0 L225.2,201.0 L227.1,201.0   L229.1,201.0 L231.0,201.0 L232.9,201.0 L234.9,201.0 L236.8,201.0 L238.7,201.0 L240.7,201.0 L242.6,201.0   L244.5,201.0 L246.5,201.0 L248.4,201.0 L250.3,201.0 L252.3,201.0 L254.2,201.0 L256.1,201.0 L258.1,201.0   L260.0,201.0 L261.9,201.0 L263.9,201.0 L265.8,201.0 L267.7,201.0 L269.7,201.0 L271.6,201.0 L273.5,201.0   L275.5,201.0 L277.4,201.0 L279.3,201.0 L281.3,201.0 L283.2,201.0 L285.1,201.0 L287.1,201.0 L289.0,201.0   L290.9,201.0 L292.9,201.0 L294.8,201.0 L296.7,201.0 L298.7,201.0 L300.6,201.0 L302.5,201.0 L304.4,201.0   L306.4,201.0 L308.3,201.0 L310.2,201.0 L312.2,201.0 L314.1,201.0 L316.0,201.0 L318.0,201.0 L319.9,201.0   L321.8,201.0 L323.8,201.0 L325.7,201.0 L327.6,201.0 L329.6,201.0 L331.5,201.0 L333.4,201.0 L335.4,201.0   L337.3,201.0 L339.2,201.0 L341.2,201.0 L343.1,201.0 L345.0,201.0 L347.0,201.0 L348.9,201.0 L350.8,201.0   L352.8,201.0 L354.7,201.0 L356.6,201.0 L358.6,201.0 L360.5,201.0 L362.4,201.0 L364.4,201.0 L366.3,201.0   L368.2,201.0 L370.2,201.0 L372.1,201.0 L374.0,201.0 L376.0,201.0 L377.9,201.0 L379.8,201.0 L381.8,201.0   L383.7,201.0 L385.6,201.0 L387.6,201.0 L389.5,201.0 L391.4,201.0 L393.4,201.0 L395.3,201.0 L397.2,201.0   L399.2,201.0 L401.1,201.0 L403.0,201.0 L405.0,201.0 L406.9,201.0 L408.8,201.0 L410.8,201.0 L412.7,201.0   L414.6,201.0 L416.6,201.0 L418.5,201.0 L420.4,201.0 L422.4,201.0 L424.3,201.0 L426.2,201.0 L428.2,201.0   L430.1,201.0 L432.0,201.0 L434.0,201.0 L435.9,201.0 L437.8,201.0 L439.8,201.0 L441.7,201.0 L443.6,201.0   L445.6,201.0 L447.5,201.0 L449.4,201.0 L451.4,201.0 L453.3,201.0 L455.2,201.0 L457.2,201.0 L459.1,201.0   L461.0,201.0 L463.0,201.0 L464.9,201.0 L466.8,201.0 L468.8,201.0 L470.7,201.0 L472.6,201.0 L474.6,201.0   L476.5,201.0 L478.4,201.0 L480.4,201.0 L482.3,201.0 L484.2,201.0 L486.2,201.0 L488.1,201.0 L490.0,201.0   L492.0,201.0  \"/></g>\n",
       "\t</g>\n",
       "<g fill=\"none\" color=\"black\" stroke=\"currentColor\" stroke-width=\"2.00\" stroke-linecap=\"butt\" stroke-linejoin=\"miter\">\n",
       "</g>\n",
       "<g fill=\"none\" color=\"black\" stroke=\"black\" stroke-width=\"0.50\" stroke-linecap=\"butt\" stroke-linejoin=\"miter\">\n",
       "\t<path stroke=\"rgb( 38,  38,  38)\" d=\"M70.5,384.0 L526.8,384.0 M70.5,18.1 L526.8,18.1 M70.5,384.0 L70.5,18.1 M526.8,384.0 L526.8,18.1    \"/></g>\n",
       "<g fill=\"none\" color=\"black\" stroke=\"rgb( 38,  38,  38)\" stroke-width=\"1.00\" stroke-linecap=\"butt\" stroke-linejoin=\"miter\">\n",
       "</g>\n",
       "<g fill=\"none\" color=\"black\" stroke=\"currentColor\" stroke-width=\"1.00\" stroke-linecap=\"butt\" stroke-linejoin=\"miter\">\n",
       "</g>\n",
       "</g>\n",
       "</svg>"
      ],
      "text/plain": [
       "<IPython.core.display.SVG object>"
      ]
     },
     "metadata": {},
     "output_type": "display_data"
    }
   ],
   "source": [
    "%plot -s 600,500 -f 'svg'\n",
    "\n",
    "x=[-10*t:t/10:t*10];\n",
    "y=a*x.^2+b.*x+c;\n",
    "\n",
    "plot(x,y,'b-','linewidth',2)\n",
    "hold on\n",
    "plot([t t],[min(y)-0.1*max(y) max(y)],'r','linewidth',2)\n",
    "plot(x,zeros(size(x)),'k','linewidth',2)"
   ]
  },
  {
   "cell_type": "code",
   "execution_count": null,
   "metadata": {},
   "outputs": [],
   "source": []
  }
 ],
 "metadata": {
  "kernelspec": {
   "display_name": "Octave",
   "language": "octave",
   "name": "octave"
  },
  "language_info": {
   "file_extension": ".m",
   "help_links": [
    {
     "text": "GNU Octave",
     "url": "https://www.gnu.org/software/octave/support.html"
    },
    {
     "text": "Octave Kernel",
     "url": "https://github.com/Calysto/octave_kernel"
    },
    {
     "text": "MetaKernel Magics",
     "url": "https://metakernel.readthedocs.io/en/latest/source/README.html"
    }
   ],
   "mimetype": "text/x-octave",
   "name": "octave",
   "version": "6.4.0"
  }
 },
 "nbformat": 4,
 "nbformat_minor": 4
}
