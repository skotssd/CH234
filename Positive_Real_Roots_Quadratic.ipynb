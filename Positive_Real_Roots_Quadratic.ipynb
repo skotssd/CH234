{
 "cells": [
  {
   "cell_type": "code",
   "execution_count": 10,
   "metadata": {},
   "outputs": [],
   "source": [
    "% some housekeeping stuff\n",
    "register_graphics_toolkit (\"gnuplot\");\n",
    "available_graphics_toolkits ();\n",
    "graphics_toolkit(\"gnuplot\")\n",
    "clear\n",
    "% end of housekeeping"
   ]
  },
  {
   "cell_type": "markdown",
   "metadata": {},
   "source": [
    "# Roots of a quadratic equation\n",
    "\n",
    "The general form of a quadratic equation is :\n",
    "\n",
    "$ax^2 + bx+c=0$\n",
    "\n",
    "it is possible to solve for the roots (x values where y=0) using the quadratic equation.  You can also solve numerically using this script.  Just input the values for a, b and c in the code below.\n",
    "\n",
    "This might be useful for doing assignments in CH234"
   ]
  },
  {
   "cell_type": "code",
   "execution_count": 11,
   "metadata": {},
   "outputs": [
    {
     "name": "stdout",
     "output_type": "stream",
     "text": [
      "t = 5.6260e-03\n",
      "pt = 2.2498\n"
     ]
    }
   ],
   "source": [
    "%plot -s 600,500 -f 'svg'\n",
    "a=1; Ka=10^-9.25; AT=5.626e-3; ClT=AT;\n",
    "b=Ka-ClT; c=-Ka*AT-Ka*ClT;\n",
    "t=roots([a b c]); %finds the roots\n",
    "t=t(imag(t)==0); %sets any imaginary roots to zero\n",
    "% display the positive real root\n",
    "\n",
    "t=t(t>0)\n",
    "\n",
    "% take minus log in case that might be useful\n",
    "\n",
    "pt=-log10(t)"
   ]
  },
  {
   "cell_type": "code",
   "execution_count": 12,
   "metadata": {},
   "outputs": [
    {
     "data": {
      "image/svg+xml": [
       "<svg xmlns=\"http://www.w3.org/2000/svg\" xmlns:xlink=\"http://www.w3.org/1999/xlink\" width=\"600px\" height=\"500px\" viewBox=\"0 0 560 420\">\n",
       "\n",
       "<title>Gnuplot</title>\n",
       "<desc>Produced by GNUPLOT 5.2 patchlevel 7 </desc>\n",
       "\n",
       "<g id=\"gnuplot_canvas\">\n",
       "\n",
       "<rect x=\"0\" y=\"0\" width=\"560\" height=\"420\" fill=\"none\"/>\n",
       "<defs>\n",
       "\n",
       "\t<circle id=\"gpDot\" r=\"0.5\" stroke-width=\"0.5\" stroke=\"currentColor\"/>\n",
       "\t<path id=\"gpPt0\" stroke-width=\"0.222\" stroke=\"currentColor\" d=\"M-1,0 h2 M0,-1 v2\"/>\n",
       "\t<path id=\"gpPt1\" stroke-width=\"0.222\" stroke=\"currentColor\" d=\"M-1,-1 L1,1 M1,-1 L-1,1\"/>\n",
       "\t<path id=\"gpPt2\" stroke-width=\"0.222\" stroke=\"currentColor\" d=\"M-1,0 L1,0 M0,-1 L0,1 M-1,-1 L1,1 M-1,1 L1,-1\"/>\n",
       "\t<rect id=\"gpPt3\" stroke-width=\"0.222\" stroke=\"currentColor\" x=\"-1\" y=\"-1\" width=\"2\" height=\"2\"/>\n",
       "\t<rect id=\"gpPt4\" stroke-width=\"0.222\" stroke=\"currentColor\" fill=\"currentColor\" x=\"-1\" y=\"-1\" width=\"2\" height=\"2\"/>\n",
       "\t<circle id=\"gpPt5\" stroke-width=\"0.222\" stroke=\"currentColor\" cx=\"0\" cy=\"0\" r=\"1\"/>\n",
       "\t<use xlink:href=\"#gpPt5\" id=\"gpPt6\" fill=\"currentColor\" stroke=\"none\"/>\n",
       "\t<path id=\"gpPt7\" stroke-width=\"0.222\" stroke=\"currentColor\" d=\"M0,-1.33 L-1.33,0.67 L1.33,0.67 z\"/>\n",
       "\t<use xlink:href=\"#gpPt7\" id=\"gpPt8\" fill=\"currentColor\" stroke=\"none\"/>\n",
       "\t<use xlink:href=\"#gpPt7\" id=\"gpPt9\" stroke=\"currentColor\" transform=\"rotate(180)\"/>\n",
       "\t<use xlink:href=\"#gpPt9\" id=\"gpPt10\" fill=\"currentColor\" stroke=\"none\"/>\n",
       "\t<use xlink:href=\"#gpPt3\" id=\"gpPt11\" stroke=\"currentColor\" transform=\"rotate(45)\"/>\n",
       "\t<use xlink:href=\"#gpPt11\" id=\"gpPt12\" fill=\"currentColor\" stroke=\"none\"/>\n",
       "\t<path id=\"gpPt13\" stroke-width=\"0.222\" stroke=\"currentColor\" d=\"M0,1.330 L1.265,0.411 L0.782,-1.067 L-0.782,-1.076 L-1.265,0.411 z\"/>\n",
       "\t<use xlink:href=\"#gpPt13\" id=\"gpPt14\" fill=\"currentColor\" stroke=\"none\"/>\n",
       "\t<filter id=\"textbox\" filterUnits=\"objectBoundingBox\" x=\"0\" y=\"0\" height=\"1\" width=\"1\">\n",
       "\t  <feFlood flood-color=\"white\" flood-opacity=\"1\" result=\"bgnd\"/>\n",
       "\t  <feComposite in=\"SourceGraphic\" in2=\"bgnd\" operator=\"atop\"/>\n",
       "\t</filter>\n",
       "\t<filter id=\"greybox\" filterUnits=\"objectBoundingBox\" x=\"0\" y=\"0\" height=\"1\" width=\"1\">\n",
       "\t  <feFlood flood-color=\"lightgrey\" flood-opacity=\"1\" result=\"grey\"/>\n",
       "\t  <feComposite in=\"SourceGraphic\" in2=\"grey\" operator=\"atop\"/>\n",
       "\t</filter>\n",
       "</defs>\n",
       "<g fill=\"none\" color=\"white\" stroke=\"currentColor\" stroke-width=\"1.00\" stroke-linecap=\"butt\" stroke-linejoin=\"miter\">\n",
       "</g>\n",
       "<g fill=\"none\" color=\"black\" stroke=\"currentColor\" stroke-width=\"1.00\" stroke-linecap=\"butt\" stroke-linejoin=\"miter\">\n",
       "\t<g stroke=\"none\" shape-rendering=\"crispEdges\">\n",
       "\t\t<polygon fill=\"rgb(255, 255, 255)\" points=\"70.5,384.0 534.9,384.0 534.9,18.2 70.5,18.2 \"/>\n",
       "\t</g>\n",
       "</g>\n",
       "<g fill=\"none\" color=\"black\" stroke=\"currentColor\" stroke-width=\"1.00\" stroke-linecap=\"butt\" stroke-linejoin=\"miter\">\n",
       "\t<path stroke=\"rgb(  0,   0,   0)\" d=\"M70.5,384.0 L83.0,384.0 M535.0,384.0 L522.5,384.0  \"/>\t<g transform=\"translate(62.2,387.3)\" stroke=\"none\" fill=\"rgb(38,38,38)\" font-family=\"Arial\" font-size=\"10.00\" text-anchor=\"end\">\n",
       "\t\t<text><tspan font-family=\"Arial\">-0.001</tspan></text>\n",
       "\t</g>\n",
       "</g>\n",
       "<g fill=\"none\" color=\"black\" stroke=\"currentColor\" stroke-width=\"1.00\" stroke-linecap=\"butt\" stroke-linejoin=\"miter\">\n",
       "\t<path stroke=\"rgb(  0,   0,   0)\" d=\"M70.5,310.8 L83.0,310.8 M535.0,310.8 L522.5,310.8  \"/>\t<g transform=\"translate(62.2,314.1)\" stroke=\"none\" fill=\"rgb(38,38,38)\" font-family=\"Arial\" font-size=\"10.00\" text-anchor=\"end\">\n",
       "\t\t<text><tspan font-family=\"Arial\">0</tspan></text>\n",
       "\t</g>\n",
       "</g>\n",
       "<g fill=\"none\" color=\"black\" stroke=\"currentColor\" stroke-width=\"1.00\" stroke-linecap=\"butt\" stroke-linejoin=\"miter\">\n",
       "\t<path stroke=\"rgb(  0,   0,   0)\" d=\"M70.5,237.6 L83.0,237.6 M535.0,237.6 L522.5,237.6  \"/>\t<g transform=\"translate(62.2,240.9)\" stroke=\"none\" fill=\"rgb(38,38,38)\" font-family=\"Arial\" font-size=\"10.00\" text-anchor=\"end\">\n",
       "\t\t<text><tspan font-family=\"Arial\">0.001</tspan></text>\n",
       "\t</g>\n",
       "</g>\n",
       "<g fill=\"none\" color=\"black\" stroke=\"currentColor\" stroke-width=\"1.00\" stroke-linecap=\"butt\" stroke-linejoin=\"miter\">\n",
       "\t<path stroke=\"rgb(  0,   0,   0)\" d=\"M70.5,164.5 L83.0,164.5 M535.0,164.5 L522.5,164.5  \"/>\t<g transform=\"translate(62.2,167.8)\" stroke=\"none\" fill=\"rgb(38,38,38)\" font-family=\"Arial\" font-size=\"10.00\" text-anchor=\"end\">\n",
       "\t\t<text><tspan font-family=\"Arial\">0.002</tspan></text>\n",
       "\t</g>\n",
       "</g>\n",
       "<g fill=\"none\" color=\"black\" stroke=\"currentColor\" stroke-width=\"1.00\" stroke-linecap=\"butt\" stroke-linejoin=\"miter\">\n",
       "\t<path stroke=\"rgb(  0,   0,   0)\" d=\"M70.5,91.3 L83.0,91.3 M535.0,91.3 L522.5,91.3  \"/>\t<g transform=\"translate(62.2,94.6)\" stroke=\"none\" fill=\"rgb(38,38,38)\" font-family=\"Arial\" font-size=\"10.00\" text-anchor=\"end\">\n",
       "\t\t<text><tspan font-family=\"Arial\">0.003</tspan></text>\n",
       "\t</g>\n",
       "</g>\n",
       "<g fill=\"none\" color=\"black\" stroke=\"currentColor\" stroke-width=\"1.00\" stroke-linecap=\"butt\" stroke-linejoin=\"miter\">\n",
       "\t<path stroke=\"rgb(  0,   0,   0)\" d=\"M70.5,18.1 L83.0,18.1 M535.0,18.1 L522.5,18.1  \"/>\t<g transform=\"translate(62.2,21.4)\" stroke=\"none\" fill=\"rgb(38,38,38)\" font-family=\"Arial\" font-size=\"10.00\" text-anchor=\"end\">\n",
       "\t\t<text><tspan font-family=\"Arial\">0.004</tspan></text>\n",
       "\t</g>\n",
       "</g>\n",
       "<g fill=\"none\" color=\"black\" stroke=\"currentColor\" stroke-width=\"1.00\" stroke-linecap=\"butt\" stroke-linejoin=\"miter\">\n",
       "\t<path stroke=\"rgb(  0,   0,   0)\" d=\"M70.5,384.0 L70.5,371.5 M70.5,18.1 L70.5,30.6  \"/>\t<g transform=\"translate(70.5,405.3)\" stroke=\"none\" fill=\"rgb(38,38,38)\" font-family=\"Arial\" font-size=\"10.00\" text-anchor=\"middle\">\n",
       "\t\t<text><tspan font-family=\"Arial\">-0.06</tspan></text>\n",
       "\t</g>\n",
       "</g>\n",
       "<g fill=\"none\" color=\"black\" stroke=\"currentColor\" stroke-width=\"1.00\" stroke-linecap=\"butt\" stroke-linejoin=\"miter\">\n",
       "\t<path stroke=\"rgb(  0,   0,   0)\" d=\"M147.9,384.0 L147.9,371.5 M147.9,18.1 L147.9,30.6  \"/>\t<g transform=\"translate(147.9,405.3)\" stroke=\"none\" fill=\"rgb(38,38,38)\" font-family=\"Arial\" font-size=\"10.00\" text-anchor=\"middle\">\n",
       "\t\t<text><tspan font-family=\"Arial\">-0.04</tspan></text>\n",
       "\t</g>\n",
       "</g>\n",
       "<g fill=\"none\" color=\"black\" stroke=\"currentColor\" stroke-width=\"1.00\" stroke-linecap=\"butt\" stroke-linejoin=\"miter\">\n",
       "\t<path stroke=\"rgb(  0,   0,   0)\" d=\"M225.3,384.0 L225.3,371.5 M225.3,18.1 L225.3,30.6  \"/>\t<g transform=\"translate(225.3,405.3)\" stroke=\"none\" fill=\"rgb(38,38,38)\" font-family=\"Arial\" font-size=\"10.00\" text-anchor=\"middle\">\n",
       "\t\t<text><tspan font-family=\"Arial\">-0.02</tspan></text>\n",
       "\t</g>\n",
       "</g>\n",
       "<g fill=\"none\" color=\"black\" stroke=\"currentColor\" stroke-width=\"1.00\" stroke-linecap=\"butt\" stroke-linejoin=\"miter\">\n",
       "\t<path stroke=\"rgb(  0,   0,   0)\" d=\"M302.8,384.0 L302.8,371.5 M302.8,18.1 L302.8,30.6  \"/>\t<g transform=\"translate(302.8,405.3)\" stroke=\"none\" fill=\"rgb(38,38,38)\" font-family=\"Arial\" font-size=\"10.00\" text-anchor=\"middle\">\n",
       "\t\t<text><tspan font-family=\"Arial\">0</tspan></text>\n",
       "\t</g>\n",
       "</g>\n",
       "<g fill=\"none\" color=\"black\" stroke=\"currentColor\" stroke-width=\"1.00\" stroke-linecap=\"butt\" stroke-linejoin=\"miter\">\n",
       "\t<path stroke=\"rgb(  0,   0,   0)\" d=\"M380.2,384.0 L380.2,371.5 M380.2,18.1 L380.2,30.6  \"/>\t<g transform=\"translate(380.2,405.3)\" stroke=\"none\" fill=\"rgb(38,38,38)\" font-family=\"Arial\" font-size=\"10.00\" text-anchor=\"middle\">\n",
       "\t\t<text><tspan font-family=\"Arial\">0.02</tspan></text>\n",
       "\t</g>\n",
       "</g>\n",
       "<g fill=\"none\" color=\"black\" stroke=\"currentColor\" stroke-width=\"1.00\" stroke-linecap=\"butt\" stroke-linejoin=\"miter\">\n",
       "\t<path stroke=\"rgb(  0,   0,   0)\" d=\"M457.6,384.0 L457.6,371.5 M457.6,18.1 L457.6,30.6  \"/>\t<g transform=\"translate(457.6,405.3)\" stroke=\"none\" fill=\"rgb(38,38,38)\" font-family=\"Arial\" font-size=\"10.00\" text-anchor=\"middle\">\n",
       "\t\t<text><tspan font-family=\"Arial\">0.04</tspan></text>\n",
       "\t</g>\n",
       "</g>\n",
       "<g fill=\"none\" color=\"black\" stroke=\"currentColor\" stroke-width=\"1.00\" stroke-linecap=\"butt\" stroke-linejoin=\"miter\">\n",
       "\t<path stroke=\"rgb(  0,   0,   0)\" d=\"M535.0,384.0 L535.0,371.5 M535.0,18.1 L535.0,30.6  \"/>\t<g transform=\"translate(535.0,405.3)\" stroke=\"none\" fill=\"rgb(38,38,38)\" font-family=\"Arial\" font-size=\"10.00\" text-anchor=\"middle\">\n",
       "\t\t<text><tspan font-family=\"Arial\">0.06</tspan></text>\n",
       "\t</g>\n",
       "</g>\n",
       "<g fill=\"none\" color=\"black\" stroke=\"currentColor\" stroke-width=\"1.00\" stroke-linecap=\"butt\" stroke-linejoin=\"miter\">\n",
       "</g>\n",
       "<g fill=\"none\" color=\"black\" stroke=\"currentColor\" stroke-width=\"1.00\" stroke-linecap=\"butt\" stroke-linejoin=\"miter\">\n",
       "</g>\n",
       "\t<g id=\"gnuplot_plot_1a\"><title>gnuplot_plot_1a</title>\n",
       "<g fill=\"none\" color=\"white\" stroke=\"rgb(  0,   0,   0)\" stroke-width=\"2.00\" stroke-linecap=\"butt\" stroke-linejoin=\"miter\">\n",
       "</g>\n",
       "<g fill=\"none\" color=\"black\" stroke=\"currentColor\" stroke-width=\"2.00\" stroke-linecap=\"butt\" stroke-linejoin=\"miter\">\n",
       "\t<path stroke=\"rgb(  0,   0, 255)\" d=\"M85.0,56.0 L87.2,60.9 L89.3,65.7 L91.5,70.4 L93.7,75.1 L95.9,79.8 L98.0,84.4 L100.2,88.9   L102.4,93.5 L104.6,97.9 L106.8,102.4 L108.9,106.7 L111.1,111.1 L113.3,115.3 L115.5,119.6 L117.6,123.8   L119.8,127.9 L122.0,132.0 L124.2,136.1 L126.4,140.1 L128.5,144.0 L130.7,148.0 L132.9,151.8 L135.1,155.7   L137.2,159.4 L139.4,163.2 L141.6,166.8 L143.8,170.5 L146.0,174.1 L148.1,177.6 L150.3,181.1 L152.5,184.6   L154.7,188.0 L156.8,191.3 L159.0,194.6 L161.2,197.9 L163.4,201.1 L165.6,204.3 L167.7,207.4 L169.9,210.5   L172.1,213.5 L174.3,216.5 L176.4,219.5 L178.6,222.4 L180.8,225.2 L183.0,228.0 L185.2,230.8 L187.3,233.5   L189.5,236.1 L191.7,238.8 L193.9,241.3 L196.0,243.9 L198.2,246.3 L200.4,248.8 L202.6,251.2 L204.8,253.5   L206.9,255.8 L209.1,258.0 L211.3,260.2 L213.5,262.4 L215.6,264.5 L217.8,266.6 L220.0,268.6 L222.2,270.5   L224.4,272.5 L226.5,274.3 L228.7,276.2 L230.9,278.0 L233.1,279.7 L235.2,281.4 L237.4,283.0 L239.6,284.6   L241.8,286.2 L244.0,287.7 L246.1,289.1 L248.3,290.6 L250.5,291.9 L252.7,293.2 L254.8,294.5 L257.0,295.7   L259.2,296.9 L261.4,298.1 L263.6,299.1 L265.7,300.2 L267.9,301.2 L270.1,302.1 L272.3,303.0 L274.4,303.9   L276.6,304.7 L278.8,305.5 L281.0,306.2 L283.2,306.9 L285.3,307.5 L287.5,308.1 L289.7,308.6 L291.9,309.1   L294.0,309.5 L296.2,309.9 L298.4,310.3 L300.6,310.6 L302.8,310.8 L304.9,311.0 L307.1,311.2 L309.3,311.3   L311.5,311.4 L313.6,311.4 L315.8,311.4 L318.0,311.3 L320.2,311.2 L322.3,311.0 L324.5,310.8 L326.7,310.6   L328.9,310.3 L331.1,309.9 L333.2,309.5 L335.4,309.1 L337.6,308.6 L339.8,308.1 L341.9,307.5 L344.1,306.9   L346.3,306.2 L348.5,305.5 L350.7,304.7 L352.8,303.9 L355.0,303.0 L357.2,302.1 L359.4,301.2 L361.5,300.2   L363.7,299.1 L365.9,298.1 L368.1,296.9 L370.3,295.7 L372.4,294.5 L374.6,293.2 L376.8,291.9 L379.0,290.6   L381.1,289.1 L383.3,287.7 L385.5,286.2 L387.7,284.6 L389.9,283.0 L392.0,281.4 L394.2,279.7 L396.4,278.0   L398.6,276.2 L400.7,274.3 L402.9,272.5 L405.1,270.5 L407.3,268.6 L409.5,266.6 L411.6,264.5 L413.8,262.4   L416.0,260.2 L418.2,258.0 L420.3,255.8 L422.5,253.5 L424.7,251.2 L426.9,248.8 L429.1,246.3 L431.2,243.9   L433.4,241.3 L435.6,238.8 L437.8,236.1 L439.9,233.5 L442.1,230.8 L444.3,228.0 L446.5,225.2 L448.7,222.4   L450.8,219.5 L453.0,216.5 L455.2,213.5 L457.4,210.5 L459.5,207.4 L461.7,204.3 L463.9,201.1 L466.1,197.9   L468.3,194.6 L470.4,191.3 L472.6,188.0 L474.8,184.6 L477.0,181.1 L479.1,177.6 L481.3,174.1 L483.5,170.5   L485.7,166.8 L487.9,163.2 L490.0,159.4 L492.2,155.7 L494.4,151.8 L496.6,148.0 L498.7,144.0 L500.9,140.1   L503.1,136.1 L505.3,132.0 L507.5,127.9 L509.6,123.8 L511.8,119.6 L514.0,115.3 L516.2,111.1 L518.3,106.7   L520.5,102.4  \"/></g>\n",
       "\t</g>\n",
       "\t<g id=\"gnuplot_plot_2a\"><title>gnuplot_plot_2a</title>\n",
       "<g fill=\"none\" color=\"black\" stroke=\"currentColor\" stroke-width=\"2.00\" stroke-linecap=\"butt\" stroke-linejoin=\"miter\">\n",
       "\t<path stroke=\"rgb(255,   0,   0)\" d=\"M324.5,336.9 L324.5,56.0  \"/></g>\n",
       "\t</g>\n",
       "\t<g id=\"gnuplot_plot_3a\"><title>gnuplot_plot_3a</title>\n",
       "<g fill=\"none\" color=\"black\" stroke=\"currentColor\" stroke-width=\"2.00\" stroke-linecap=\"butt\" stroke-linejoin=\"miter\">\n",
       "\t<path stroke=\"rgb(  0,   0,   0)\" d=\"M85.0,310.8 L87.2,310.8 L89.3,310.8 L91.5,310.8 L93.7,310.8 L95.9,310.8 L98.0,310.8 L100.2,310.8   L102.4,310.8 L104.6,310.8 L106.8,310.8 L108.9,310.8 L111.1,310.8 L113.3,310.8 L115.5,310.8 L117.6,310.8   L119.8,310.8 L122.0,310.8 L124.2,310.8 L126.4,310.8 L128.5,310.8 L130.7,310.8 L132.9,310.8 L135.1,310.8   L137.2,310.8 L139.4,310.8 L141.6,310.8 L143.8,310.8 L146.0,310.8 L148.1,310.8 L150.3,310.8 L152.5,310.8   L154.7,310.8 L156.8,310.8 L159.0,310.8 L161.2,310.8 L163.4,310.8 L165.6,310.8 L167.7,310.8 L169.9,310.8   L172.1,310.8 L174.3,310.8 L176.4,310.8 L178.6,310.8 L180.8,310.8 L183.0,310.8 L185.2,310.8 L187.3,310.8   L189.5,310.8 L191.7,310.8 L193.9,310.8 L196.0,310.8 L198.2,310.8 L200.4,310.8 L202.6,310.8 L204.8,310.8   L206.9,310.8 L209.1,310.8 L211.3,310.8 L213.5,310.8 L215.6,310.8 L217.8,310.8 L220.0,310.8 L222.2,310.8   L224.4,310.8 L226.5,310.8 L228.7,310.8 L230.9,310.8 L233.1,310.8 L235.2,310.8 L237.4,310.8 L239.6,310.8   L241.8,310.8 L244.0,310.8 L246.1,310.8 L248.3,310.8 L250.5,310.8 L252.7,310.8 L254.8,310.8 L257.0,310.8   L259.2,310.8 L261.4,310.8 L263.6,310.8 L265.7,310.8 L267.9,310.8 L270.1,310.8 L272.3,310.8 L274.4,310.8   L276.6,310.8 L278.8,310.8 L281.0,310.8 L283.2,310.8 L285.3,310.8 L287.5,310.8 L289.7,310.8 L291.9,310.8   L294.0,310.8 L296.2,310.8 L298.4,310.8 L300.6,310.8 L302.8,310.8 L304.9,310.8 L307.1,310.8 L309.3,310.8   L311.5,310.8 L313.6,310.8 L315.8,310.8 L318.0,310.8 L320.2,310.8 L322.3,310.8 L324.5,310.8 L326.7,310.8   L328.9,310.8 L331.1,310.8 L333.2,310.8 L335.4,310.8 L337.6,310.8 L339.8,310.8 L341.9,310.8 L344.1,310.8   L346.3,310.8 L348.5,310.8 L350.7,310.8 L352.8,310.8 L355.0,310.8 L357.2,310.8 L359.4,310.8 L361.5,310.8   L363.7,310.8 L365.9,310.8 L368.1,310.8 L370.3,310.8 L372.4,310.8 L374.6,310.8 L376.8,310.8 L379.0,310.8   L381.1,310.8 L383.3,310.8 L385.5,310.8 L387.7,310.8 L389.9,310.8 L392.0,310.8 L394.2,310.8 L396.4,310.8   L398.6,310.8 L400.7,310.8 L402.9,310.8 L405.1,310.8 L407.3,310.8 L409.5,310.8 L411.6,310.8 L413.8,310.8   L416.0,310.8 L418.2,310.8 L420.3,310.8 L422.5,310.8 L424.7,310.8 L426.9,310.8 L429.1,310.8 L431.2,310.8   L433.4,310.8 L435.6,310.8 L437.8,310.8 L439.9,310.8 L442.1,310.8 L444.3,310.8 L446.5,310.8 L448.7,310.8   L450.8,310.8 L453.0,310.8 L455.2,310.8 L457.4,310.8 L459.5,310.8 L461.7,310.8 L463.9,310.8 L466.1,310.8   L468.3,310.8 L470.4,310.8 L472.6,310.8 L474.8,310.8 L477.0,310.8 L479.1,310.8 L481.3,310.8 L483.5,310.8   L485.7,310.8 L487.9,310.8 L490.0,310.8 L492.2,310.8 L494.4,310.8 L496.6,310.8 L498.7,310.8 L500.9,310.8   L503.1,310.8 L505.3,310.8 L507.5,310.8 L509.6,310.8 L511.8,310.8 L514.0,310.8 L516.2,310.8 L518.3,310.8   L520.5,310.8  \"/></g>\n",
       "\t</g>\n",
       "<g fill=\"none\" color=\"black\" stroke=\"currentColor\" stroke-width=\"2.00\" stroke-linecap=\"butt\" stroke-linejoin=\"miter\">\n",
       "</g>\n",
       "<g fill=\"none\" color=\"black\" stroke=\"black\" stroke-width=\"0.50\" stroke-linecap=\"butt\" stroke-linejoin=\"miter\">\n",
       "\t<path stroke=\"rgb( 38,  38,  38)\" d=\"M70.5,384.0 L535.0,384.0 M70.5,18.1 L535.0,18.1 M70.5,384.0 L70.5,18.1 M535.0,384.0 L535.0,18.1    \"/></g>\n",
       "<g fill=\"none\" color=\"black\" stroke=\"rgb( 38,  38,  38)\" stroke-width=\"1.00\" stroke-linecap=\"butt\" stroke-linejoin=\"miter\">\n",
       "</g>\n",
       "<g fill=\"none\" color=\"black\" stroke=\"currentColor\" stroke-width=\"1.00\" stroke-linecap=\"butt\" stroke-linejoin=\"miter\">\n",
       "</g>\n",
       "</g>\n",
       "</svg>"
      ],
      "text/plain": [
       "<IPython.core.display.SVG object>"
      ]
     },
     "metadata": {},
     "output_type": "display_data"
    }
   ],
   "source": [
    "%plot -s 600,500 -f 'svg'\n",
    "\n",
    "x=[-10*t:t/10:t*10];\n",
    "y=a*x.^2+b.*x+c;\n",
    "\n",
    "plot(x,y,'b-','linewidth',2)\n",
    "hold on\n",
    "plot([t t],[min(y)-0.1*max(y) max(y)],'r','linewidth',2)\n",
    "plot(x,zeros(size(x)),'k','linewidth',2)"
   ]
  },
  {
   "cell_type": "code",
   "execution_count": null,
   "metadata": {},
   "outputs": [],
   "source": []
  }
 ],
 "metadata": {
  "kernelspec": {
   "display_name": "Octave",
   "language": "octave",
   "name": "octave"
  },
  "language_info": {
   "file_extension": ".m",
   "help_links": [
    {
     "text": "GNU Octave",
     "url": "https://www.gnu.org/software/octave/support.html"
    },
    {
     "text": "Octave Kernel",
     "url": "https://github.com/Calysto/octave_kernel"
    },
    {
     "text": "MetaKernel Magics",
     "url": "https://metakernel.readthedocs.io/en/latest/source/README.html"
    }
   ],
   "mimetype": "text/x-octave",
   "name": "octave",
   "version": "6.1.0"
  }
 },
 "nbformat": 4,
 "nbformat_minor": 2
}
