{
 "cells": [
  {
   "cell_type": "code",
   "execution_count": 6,
   "id": "16ba4d47-6066-48c0-af76-1f509a12c559",
   "metadata": {
    "jupyter": {
     "source_hidden": true
    }
   },
   "outputs": [
    {
     "name": "stderr",
     "output_type": "stream",
     "text": [
      "\u001b[1;31mInline plot failed, consider trying another graphics toolkit\n",
      "error: __gnuplot_drawnow__: the gnuplot terminal, \"svg\", is not available\n",
      "error: called from\n",
      "    __gnuplot_drawnow__ at line 55 column 9\n",
      "    _make_figures at line 47 column 13\n",
      "\n",
      "\u001b[0m"
     ]
    }
   ],
   "source": [
    "% some housekeeping stuff\n",
    "register_graphics_toolkit (\"gnuplot\");\n",
    "available_graphics_toolkits ();\n",
    "graphics_toolkit (\"gnuplot\")\n",
    "clear\n",
    "% load packages\n",
    "pkg load statistics\n",
    "% clear and warning off\n",
    "clear\n",
    "warning off\n",
    "% end of housekeeping"
   ]
  },
  {
   "cell_type": "markdown",
   "id": "edeac363-ffb4-4b53-85e6-1905cd9674ff",
   "metadata": {
    "tags": []
   },
   "source": [
    "# Species sensitivity distribution (SSD)\n",
    "\n",
    "![SSD](SSD.jpg)\n",
    "\n",
    "Species sensitivity distrubutions are used to help set guidelines for metals in aquatic environments.\n",
    "\n",
    "https://entoxsimplified.com/2018/08/03/species-sensitivity-distribution/#comments\n",
    "\n",
    "- different juristictions have different tolerances, and safety factors\n",
    "- SSD can be modified to take into acount receiving water chemistry using the BLM"
   ]
  },
  {
   "cell_type": "markdown",
   "id": "725f486a",
   "metadata": {
    "tags": []
   },
   "source": [
    "# Biotic Ligand Model (BLM)\n",
    "\n",
    "![BLM](BLM.png)\n",
    "\n",
    "BLM is used for risk assessment of metals in the environment.  It can even be used as part of \"permit writing\" (license to pollute).  \n",
    "\n",
    "- three C's\n",
    "- based on chemical equilibrium modelling\n",
    "- all the types of reactions we talk about PLUS reaction at the biotic ligand (such as fish gill)\n",
    "- toxicity proportional to accumulation at the biotic ligand\n",
    "- replaces the free ion activity model (FIAM)\n",
    "- \"invented\" at Laurier ! (Professor Rick Playle)\n",
    "- need 7 water chemistry parameters (Na, Ca, K, Mg, Cl, Alk, DOC)\n"
   ]
  },
  {
   "cell_type": "markdown",
   "id": "3e7822de-a3ed-4977-8402-cbacd5ae9937",
   "metadata": {},
   "source": [
    "### reaction of metal at the biotic ligand\n",
    "\n",
    "This is a simple metal-ligand complexation reaction.  For metal consider M$^{2+}$ and ligand BL$^-$.  Let's assume a binding capacity (BL$_T$) of 10 nM and a logK value of 7.5 for metal complexation at the BL.  Assume 50\\% saturation of the binding site for 50\\% toxicity (LA50).\n",
    "\n",
    "LA50 does not change, but the LC50 does change.\n"
   ]
  },
  {
   "cell_type": "code",
   "execution_count": 7,
   "id": "427bc6af-2c1a-4ab7-a3a6-9ba8a4253e80",
   "metadata": {
    "tags": []
   },
   "outputs": [
    {
     "name": "stdout",
     "output_type": "stream",
     "text": [
      "LC50nM = 39.811\n"
     ]
    },
    {
     "name": "stderr",
     "output_type": "stream",
     "text": [
      "\u001b[1;31mInline plot failed, consider trying another graphics toolkit\n",
      "error: __gnuplot_drawnow__: the gnuplot terminal, \"svg\", is not available\n",
      "error: called from\n",
      "    __gnuplot_drawnow__ at line 55 column 9\n",
      "    _make_figures at line 47 column 13\n",
      "\n",
      "\u001b[0m"
     ]
    }
   ],
   "source": [
    "%plot -s 600,500 -f 'svg'\n",
    "BLT=10e-9; logKf=7.5; logMT=-9:0.1:-5; MT=10.^logMT;\n",
    "\n",
    "TABLEAU=[...\n",
    "%M   BL  logK   species\n",
    "1   0    0      {'M'}\n",
    "0   1    0      {'BL'}\n",
    "1   1    logKf  {'MBL'}\n",
    "];\n",
    "\n",
    "[N,M]=size(TABLEAU); ASOLUTION=cell2mat(TABLEAU(1:N,1:M-2)); KSOLUTION=cell2mat(TABLEAU(1:N,M-1));\n",
    "SOLUTIONNAMES=strvcat(TABLEAU(1:N,M));\n",
    "\n",
    "for i=1:length(MT)\n",
    "    T=[MT(i); BLT];\n",
    "    [X,F,J,SPECIESCONCS]=nl_massbalancerrnosolid_NR(T,ASOLUTION,KSOLUTION,T);\n",
    "    check(i)=100*(max(F./T)); %worst case error in%\n",
    "    % this will generate the outputs\n",
    "    for k=1:size(SPECIESCONCS,1)\n",
    "          txt=[SOLUTIONNAMES(k,:),'(i)=SPECIESCONCS(k);'];eval(txt)\n",
    "    end\n",
    "end\n",
    "\n",
    "alpha=MBL./BLT; [value,index]=min(abs(0.5-alpha)); halfsat=logMT(index);\n",
    "plot(logMT,MBL./BLT,'b-','linewidth',2)\n",
    "set(gca,'linewidth',2); xlabel('logM_T'); ylabel('\\alpha_{MBL}')\n",
    "hold on\n",
    "plot([halfsat halfsat],[0 0.5],'k:','linewidth',2)\n",
    "plot([min(logMT) halfsat],[0.5 0.5],'k:','linewidth',2)\n",
    "legend('only BL','location','southeast');\n",
    "%log10(M(index)) half way sat logM=-logKf\n",
    "\n",
    "LC50nM=(10^halfsat)*1e9"
   ]
  },
  {
   "cell_type": "markdown",
   "id": "533af80f-026c-41f2-8b64-db3c2a051606",
   "metadata": {},
   "source": [
    "### add proton competition\n",
    "\n",
    "protons can also bind at the biotic ligand.  If a proton binds then the metal can't bind so pH (lower) can be protective (toxicity modifying factor).  Of course low pH might have its own toxic effects, but for now we will ignore that.\n",
    "\n",
    "so consider that the biotic ligand has a pKa value of 4.5. \n",
    "\n",
    "LA50 does not change, but the LC50 does change.\n"
   ]
  },
  {
   "cell_type": "code",
   "execution_count": 8,
   "id": "829c14f2-850c-401f-bae8-383f774a5a93",
   "metadata": {
    "jupyter": {
     "source_hidden": true
    },
    "tags": []
   },
   "outputs": [
    {
     "name": "stdout",
     "output_type": "stream",
     "text": [
      "LC50nMpH4 = 125.89\n",
      "LC50nMpH6 = 50.119\n",
      "LC50nMpH8 = 39.811\n"
     ]
    },
    {
     "name": "stderr",
     "output_type": "stream",
     "text": [
      "\u001b[1;31mInline plot failed, consider trying another graphics toolkit\n",
      "error: __gnuplot_drawnow__: the gnuplot terminal, \"svg\", is not available\n",
      "error: called from\n",
      "    __gnuplot_drawnow__ at line 55 column 9\n",
      "    _make_figures at line 47 column 13\n",
      "\n",
      "\u001b[0m"
     ]
    }
   ],
   "source": [
    "%plot -s 600,500 -f 'svg'\n",
    "%BLT=10e-9; logKf=7.5; logMT=-9:0.01:-5; MT=10.^logMT;\n",
    "pKa=4.5;\n",
    "\n",
    "TABLEAU=[...\n",
    "%H    M  BL  logK   species\n",
    "1    0   0    0      {'H'}\n",
    "0    1   0    0      {'M'}\n",
    "0    0   1    0      {'BL'}\n",
    "0    1   1    logKf  {'MBL'}\n",
    "1    0   1    pKa    {'HBL'}\n",
    "];\n",
    "\n",
    "[N,M]=size(TABLEAU); ASOLUTION=cell2mat(TABLEAU(1:N,1:M-2)); KSOLUTION=cell2mat(TABLEAU(1:N,M-1));\n",
    "SOLUTIONNAMES=strvcat(TABLEAU(1:N,M));\n",
    "pH=4;\n",
    "for i=1:length(MT)\n",
    "    [N,M]=size(ASOLUTION); Ksolution=KSOLUTION-ASOLUTION(:,1)*pH; Asolution=[ASOLUTION(:,2:M)];\n",
    "    T=[MT(i); BLT];\n",
    "    [X,F,J,SPECIESCONCS]=nl_massbalancerrnosolid_NR(T,Asolution,Ksolution,T);\n",
    "    check(i)=100*(max(F./T)); %worst case error in%\n",
    "    % this will generate the outputs\n",
    "    for k=1:size(SPECIESCONCS,1)\n",
    "          txt=[SOLUTIONNAMES(k,:),'(i)=SPECIESCONCS(k);'];eval(txt)\n",
    "    end\n",
    "end\n",
    "\n",
    "alpha=MBL./BLT; [value,index]=min(abs(0.5-alpha)); halfsat=logMT(index);\n",
    "plot(logMT,MBL./BLT,'b-','linewidth',2)\n",
    "set(gca,'linewidth',2); xlabel('logM_T'); ylabel('\\alpha_{MBL}')\n",
    "hold on\n",
    "plot([halfsat halfsat],[0 0.5],'k:','linewidth',2)\n",
    "plot([min(logMT) halfsat],[0.5 0.5],'k:','linewidth',2)\n",
    "LC50nMpH4=(10^halfsat)*1e9\n",
    "\n",
    "pH=5;\n",
    "for i=1:length(MT)\n",
    "    [N,M]=size(ASOLUTION); Ksolution=KSOLUTION-ASOLUTION(:,1)*pH; Asolution=[ASOLUTION(:,2:M)];\n",
    "    T=[MT(i); BLT];\n",
    "    [X,F,J,SPECIESCONCS]=nl_massbalancerrnosolid_NR(T,Asolution,Ksolution,T);\n",
    "    check(i)=100*(max(F./T)); %worst case error in%\n",
    "    % this will generate the outputs\n",
    "    for k=1:size(SPECIESCONCS,1)\n",
    "          txt=[SOLUTIONNAMES(k,:),'(i)=SPECIESCONCS(k);'];eval(txt)\n",
    "    end\n",
    "end\n",
    "\n",
    "alpha=MBL./BLT; [value,index]=min(abs(0.5-alpha)); halfsat=logMT(index);\n",
    "plot(logMT,MBL./BLT,'r-','linewidth',2)\n",
    "set(gca,'linewidth',2); xlabel('logM_T'); ylabel('\\alpha_{MBL}')\n",
    "hold on\n",
    "plot([halfsat halfsat],[0 0.5],'k:','linewidth',2)\n",
    "plot([min(logMT) halfsat],[0.5 0.5],'k:','linewidth',2)\n",
    "LC50nMpH6=(10^halfsat)*1e9\n",
    "\n",
    "pH=8;\n",
    "for i=1:length(MT)\n",
    "    [N,M]=size(ASOLUTION); Ksolution=KSOLUTION-ASOLUTION(:,1)*pH; Asolution=[ASOLUTION(:,2:M)];\n",
    "    T=[MT(i); BLT];\n",
    "    [X,F,J,SPECIESCONCS]=nl_massbalancerrnosolid_NR(T,Asolution,Ksolution,T);\n",
    "    check(i)=100*(max(F./T)); %worst case error in%\n",
    "    % this will generate the outputs\n",
    "    for k=1:size(SPECIESCONCS,1)\n",
    "          txt=[SOLUTIONNAMES(k,:),'(i)=SPECIESCONCS(k);'];eval(txt)\n",
    "    end\n",
    "end\n",
    "\n",
    "alpha=MBL./BLT; [value,index]=min(abs(0.5-alpha)); halfsat=logMT(index);\n",
    "plot(logMT,MBL./BLT,'g-','linewidth',2)\n",
    "set(gca,'linewidth',2); xlabel('logM_T'); ylabel('\\alpha_{MBL}')\n",
    "hold on\n",
    "plot([halfsat halfsat],[0 0.5],'k:','linewidth',2)\n",
    "plot([min(logMT) halfsat],[0.5 0.5],'k:','linewidth',2)\n",
    "LC50nMpH8=(10^halfsat)*1e9\n",
    "\n",
    "legend('pH4','','','pH 5','','','pH 8','location','southeast');"
   ]
  },
  {
   "cell_type": "markdown",
   "id": "d17d4da0-b148-4190-a44d-b3eadc13a957",
   "metadata": {},
   "source": [
    "### add strong base cation competition\n",
    "\n",
    "other cations, Na$^+$, K$^+$, Mg$^{2+}$, Ca$^{2+}$, are typically non-toxic and can bind to the biotic ligand site, and prevent toxic metals from binding.\n",
    "\n",
    "so consider that the biotic ligand has a logKf value of 2.5 for Ca$^{2+}$ binding.  Let's simulate a high and a low calcium situation.\n",
    "\n",
    "Again, LA50 does not change, but the LC50 does change.\n"
   ]
  },
  {
   "cell_type": "code",
   "execution_count": 9,
   "id": "950f9d93-a43d-4410-b2f3-c1bd2be8bfbe",
   "metadata": {
    "jupyter": {
     "source_hidden": true
    },
    "tags": []
   },
   "outputs": [
    {
     "name": "stdout",
     "output_type": "stream",
     "text": [
      "LC50nMpH7Calow = 39.811\n",
      "LC50nMpH7Cahigh = 125.89\n"
     ]
    },
    {
     "name": "stderr",
     "output_type": "stream",
     "text": [
      "\u001b[1;31mInline plot failed, consider trying another graphics toolkit\n",
      "error: __gnuplot_drawnow__: the gnuplot terminal, \"svg\", is not available\n",
      "error: called from\n",
      "    __gnuplot_drawnow__ at line 55 column 9\n",
      "    _make_figures at line 47 column 13\n",
      "\n",
      "\u001b[0m"
     ]
    }
   ],
   "source": [
    "%plot -s 600,500 -f 'svg'\n",
    "%BLT=10e-9; logKf=7.5; logMT=-9:0.01:-5; MT=10.^logMT;%pKa=4.5;\n",
    "logKfCa=2.5;\n",
    "\n",
    "TABLEAU=[...\n",
    "%H   M  BL   Ca  logK        species\n",
    "1    0   0   0    0          {'H'}\n",
    "0    1   0   0    0          {'M'}\n",
    "0    0   1   0    0          {'BL'}\n",
    "0    0   0   1    0          {'Ca'}\n",
    "0    1   1   0    logKf      {'MBL'}\n",
    "1    0   1   0    pKa        {'HBL'}\n",
    "0    0   1   1    logKfCa    {'CaBL'}\n",
    "];\n",
    "\n",
    "[N,M]=size(TABLEAU); ASOLUTION=cell2mat(TABLEAU(1:N,1:M-2)); KSOLUTION=cell2mat(TABLEAU(1:N,M-1));\n",
    "SOLUTIONNAMES=strvcat(TABLEAU(1:N,M));\n",
    "pH=7; CaT=1e-4;\n",
    "for i=1:length(MT)\n",
    "    [N,M]=size(ASOLUTION); Ksolution=KSOLUTION-ASOLUTION(:,1)*pH; Asolution=[ASOLUTION(:,2:M)];\n",
    "    T=[MT(i); BLT; CaT];\n",
    "    [X,F,J,SPECIESCONCS]=nl_massbalancerrnosolid_NR(T./10,Asolution,Ksolution,T);\n",
    "    check(i)=100*(max(F./T)); %worst case error in%\n",
    "    % this will generate the outputs\n",
    "    for k=1:size(SPECIESCONCS,1)\n",
    "          txt=[SOLUTIONNAMES(k,:),'(i)=SPECIESCONCS(k);'];eval(txt)\n",
    "    end\n",
    "end\n",
    "\n",
    "alpha=MBL./BLT; [value,index]=min(abs(0.5-alpha)); halfsat=logMT(index);\n",
    "plot(logMT,MBL./BLT,'g-','linewidth',2)\n",
    "set(gca,'linewidth',2); xlabel('logM_T'); ylabel('\\alpha_{MBL}')\n",
    "hold on\n",
    "plot([halfsat halfsat],[0 0.5],'k:','linewidth',2)\n",
    "plot([min(logMT) halfsat],[0.5 0.5],'k:','linewidth',2)\n",
    "LC50nMpH7Calow=(10^halfsat)*1e9\n",
    "\n",
    "pH=7; CaT=1e-2;\n",
    "for i=1:length(MT)\n",
    "    [N,M]=size(ASOLUTION); Ksolution=KSOLUTION-ASOLUTION(:,1)*pH; Asolution=[ASOLUTION(:,2:M)];\n",
    "    T=[MT(i); BLT; CaT];\n",
    "    [X,F,J,SPECIESCONCS]=nl_massbalancerrnosolid_NR(T./10,Asolution,Ksolution,T);\n",
    "    check(i)=100*(max(F./T)); %worst case error in%\n",
    "    % this will generate the outputs\n",
    "    for k=1:size(SPECIESCONCS,1)\n",
    "          txt=[SOLUTIONNAMES(k,:),'(i)=SPECIESCONCS(k);'];eval(txt)\n",
    "    end\n",
    "end\n",
    "\n",
    "alpha=MBL./BLT; [value,index]=min(abs(0.5-alpha)); halfsat=logMT(index);\n",
    "plot(logMT,MBL./BLT,'b-','linewidth',2)\n",
    "set(gca,'linewidth',2); xlabel('logM_T'); ylabel('\\alpha_{MBL}')\n",
    "hold on\n",
    "plot([halfsat halfsat],[0 0.5],'k:','linewidth',2)\n",
    "plot([min(logMT) halfsat],[0.5 0.5],'k:','linewidth',2)\n",
    "LC50nMpH7Cahigh=(10^halfsat)*1e9\n",
    "legend('low Ca','','','high Ca','location','southeast');\n"
   ]
  },
  {
   "cell_type": "markdown",
   "id": "a9ec105e-7ffc-4385-a074-50167e74ccf6",
   "metadata": {},
   "source": [
    "### add NOM complexation\n",
    "\n",
    "other anions can bind the toxic metal and reduce accumulation at the biotic ligand.  Hydroxo, chloro, carbonato complexation for example.  And also natural organic matter complexation. Organic matter also will bind other cations, as well as protons.\n",
    "\n",
    "So let's add in chloro complexation and NOM.  Also, add in metal hydrolysis (MOH formation).\n"
   ]
  },
  {
   "cell_type": "code",
   "execution_count": null,
   "id": "0abc791a-b935-4cbc-808a-be406ddf8fc5",
   "metadata": {
    "jupyter": {
     "source_hidden": true
    },
    "tags": []
   },
   "outputs": [
    {
     "name": "stdout",
     "output_type": "stream",
     "text": [
      "LC50nMpH7CalowClTlowNOM = 79.433\n",
      "LC50nMpH7CalowClThighNOM = 398.11\n"
     ]
    },
    {
     "name": "stderr",
     "output_type": "stream",
     "text": [
      "\u001b[1;31mInline plot failed, consider trying another graphics toolkit\n",
      "error: __gnuplot_drawnow__: the gnuplot terminal, \"svg\", is not available\n",
      "error: called from\n",
      "    __gnuplot_drawnow__ at line 55 column 9\n",
      "    _make_figures at line 47 column 13\n",
      "\n",
      "\u001b[0m"
     ]
    }
   ],
   "source": [
    "%plot -s 600,500 -f 'svg'\n",
    "%BLT=10e-9; logKf=7.5; logMT=-9:0.01:-5; MT=10.^logMT;%pKa=4.5;%logKfCa=2.5;\n",
    "\n",
    "TABLEAU=[...\n",
    "%H   M  BL   Ca  Cl  NOM   logK        species\n",
    "1    0   0   0   0    0     0          {'H'}\n",
    "0    1   0   0   0    0     0          {'M'}\n",
    "0    0   1   0   0    0     0          {'BL'}\n",
    "0    0   0   1   0    0     0          {'Ca'}\n",
    "0    0   0   0   1    0     0          {'Cl'}\n",
    "0    0   0   0   0    1     0          {'NOM'}\n",
    "0    1   1   0   0    0     logKf      {'MBL'}\n",
    "1    0   1   0   0    0     pKa        {'HBL'}\n",
    "0    0   1   1   0    0     logKfCa    {'CaBL'}\n",
    "0    1   0   0   1    0     3          {'MCl'}\n",
    "-1   1   0   0   0    0     -8         {'MOH'}\n",
    "1    0   0   0   0    1     10         {'HNOM'}\n",
    "2    0   0   0   0    1     14         {'H2NOM'}\n",
    "0    1   0   0   0    1     8          {'MNOM'}\n",
    "0    0   0   1   0    1     3.5        {'CaNOM'}\n",
    "];\n",
    "\n",
    "[N,M]=size(TABLEAU); ASOLUTION=cell2mat(TABLEAU(1:N,1:M-2)); KSOLUTION=cell2mat(TABLEAU(1:N,M-1));\n",
    "SOLUTIONNAMES=strvcat(TABLEAU(1:N,M));\n",
    "pH=7; CaT=1e-4; ClT=1e-4; NOMT=10e-6;\n",
    "for i=1:length(MT)\n",
    "    [N,M]=size(ASOLUTION); Ksolution=KSOLUTION-ASOLUTION(:,1)*pH; Asolution=[ASOLUTION(:,2:M)];\n",
    "    T=[MT(i); BLT; CaT; ClT; NOMT];\n",
    "    [X,F,J,SPECIESCONCS]=nl_massbalancerrnosolid_NR(T./10,Asolution,Ksolution,T);\n",
    "    check(i)=100*(max(F./T)); %worst case error in%\n",
    "    % this will generate the outputs\n",
    "    for k=1:size(SPECIESCONCS,1)\n",
    "          txt=[SOLUTIONNAMES(k,:),'(i)=SPECIESCONCS(k);'];eval(txt)\n",
    "    end\n",
    "end\n",
    "\n",
    "alpha=MBL./BLT; [value,index]=min(abs(0.5-alpha)); halfsat=logMT(index);\n",
    "plot(logMT,MBL./BLT,'g-','linewidth',2)\n",
    "set(gca,'linewidth',2); xlabel('logM_T'); ylabel('\\alpha_{MBL}')\n",
    "hold on\n",
    "plot([halfsat halfsat],[0 0.5],'k:','linewidth',2)\n",
    "plot([min(logMT) halfsat],[0.5 0.5],'k:','linewidth',2)\n",
    "LC50nMpH7CalowClTlowNOM=(10^halfsat)*1e9\n",
    "\n",
    "pH=7; CaT=1e-4; ClT=1e-4; NOMT=100e-6;\n",
    "for i=1:length(MT)\n",
    "    [N,M]=size(ASOLUTION); Ksolution=KSOLUTION-ASOLUTION(:,1)*pH; Asolution=[ASOLUTION(:,2:M)];\n",
    "    T=[MT(i); BLT; CaT; ClT; NOMT];\n",
    "    [X,F,J,SPECIESCONCS]=nl_massbalancerrnosolid_NR(T./10,Asolution,Ksolution,T);\n",
    "    check(i)=100*(max(F./T)); %worst case error in%\n",
    "    % this will generate the outputs\n",
    "    for k=1:size(SPECIESCONCS,1)\n",
    "          txt=[SOLUTIONNAMES(k,:),'(i)=SPECIESCONCS(k);'];eval(txt)\n",
    "    end\n",
    "end\n",
    "\n",
    "alpha=MBL./BLT; [value,index]=min(abs(0.5-alpha)); halfsat=logMT(index);\n",
    "plot(logMT,MBL./BLT,'b-','linewidth',2)\n",
    "set(gca,'linewidth',2); xlabel('logM_T'); ylabel('\\alpha_{MBL}')\n",
    "hold on\n",
    "plot([halfsat halfsat],[0 0.5],'k:','linewidth',2)\n",
    "plot([min(logMT) halfsat],[0.5 0.5],'k:','linewidth',2)\n",
    "LC50nMpH7CalowClThighNOM=(10^halfsat)*1e9\n",
    "legend('low DOC','','','high DOC','location','southeast');"
   ]
  },
  {
   "cell_type": "code",
   "execution_count": null,
   "id": "c17dd48b-e4b0-430e-b721-faa41c501ba3",
   "metadata": {},
   "outputs": [],
   "source": []
  }
 ],
 "metadata": {
  "kernelspec": {
   "display_name": "Octave",
   "language": "octave",
   "name": "octave"
  },
  "language_info": {
   "file_extension": ".m",
   "help_links": [
    {
     "text": "GNU Octave",
     "url": "https://www.gnu.org/software/octave/support.html"
    },
    {
     "text": "Octave Kernel",
     "url": "https://github.com/Calysto/octave_kernel"
    },
    {
     "text": "MetaKernel Magics",
     "url": "https://metakernel.readthedocs.io/en/latest/source/README.html"
    }
   ],
   "mimetype": "text/x-octave",
   "name": "octave",
   "version": "6.4.0"
  }
 },
 "nbformat": 4,
 "nbformat_minor": 5
}
