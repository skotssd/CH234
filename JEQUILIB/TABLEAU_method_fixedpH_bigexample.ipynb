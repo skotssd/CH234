{
 "cells": [
  {
   "cell_type": "code",
   "execution_count": 1,
   "id": "16ba4d47-6066-48c0-af76-1f509a12c559",
   "metadata": {},
   "outputs": [],
   "source": [
    "% some housekeeping stuff\n",
    "register_graphics_toolkit (\"gnuplot\");\n",
    "available_graphics_toolkits ();\n",
    "graphics_toolkit (\"gnuplot\")\n",
    "clear\n",
    "% load packages\n",
    "pkg load statistics\n",
    "% clear and warning off\n",
    "clear\n",
    "warning off\n",
    "% end of housekeeping"
   ]
  },
  {
   "cell_type": "markdown",
   "id": "3e7822de-a3ed-4977-8402-cbacd5ae9937",
   "metadata": {},
   "source": [
    "### simple example\n",
    "\n",
    "consider fixed pH.  you don't have to worry about TOTH!\n",
    "\n",
    "tableau for aluminum hydroxide with solids"
   ]
  },
  {
   "cell_type": "code",
   "execution_count": 2,
   "id": "427bc6af-2c1a-4ab7-a3a6-9ba8a4253e80",
   "metadata": {},
   "outputs": [
    {
     "name": "stdout",
     "output_type": "stream",
     "text": [
      "logX solid ITER EXEED\n",
      "mass balance error logX no solids\n",
      "mass balance R error logX no solids\n",
      "logX solid ITER EXEED\n",
      "mass balance error logX no solids\n",
      "mass balance R error logX no solids\n",
      "logX solid ITER EXEED\n",
      "logX solid ITER EXEED\n",
      "logX solid ITER EXEED\n",
      "logX solid ITER EXEED\n",
      "logX solid ITER EXEED\n",
      "logX solid ITER EXEED\n",
      "logX solid ITER EXEED\n",
      "logX solid ITER EXEED\n",
      "logX solid ITER EXEED\n",
      "logX solid ITER EXEED\n",
      "logX solid ITER EXEED\n",
      "logX solid ITER EXEED\n",
      "logX solid ITER EXEED\n",
      "logX solid ITER EXEED\n",
      "logX solid ITER EXEED\n",
      "logX solid ITER EXEED\n",
      "logX solid ITER EXEED\n",
      "logX solid ITER EXEED\n",
      "logX solid ITER EXEED\n",
      "logX solid ITER EXEED\n",
      "logX solid ITER EXEED\n",
      "logX solid ITER EXEED\n"
     ]
    },
    {
     "name": "stderr",
     "output_type": "stream",
     "text": [
      "\u001b[1;31mInline plot failed, consider trying another graphics toolkit\n",
      "error: print: figure must be visible or qt toolkit must be used with __gl_window__ property 'on' or QT_OFFSCREEN feature available\n",
      "error: called from\n",
      "    _make_figures>safe_print at line 125 column 7\n",
      "    _make_figures at line 49 column 13\n",
      "\n",
      "\u001b[0m"
     ]
    }
   ],
   "source": [
    "% simulate reducing conditions increase pH\n",
    "% just Fe, P\n",
    "\n",
    "clear\n",
    "\n",
    "FeT=1e-3; CT=0; PT=1e-3; MgT=0; NT=0; AAT=0; OxT=0; ASF=0.2; \n",
    "pH=6; pelow=-pH; pehigh=20.75-pH; perange=pelow:0.5:pehigh;\n",
    "perange=2:1:10;\n",
    "\n",
    "for i=1:length(perange)\n",
    "\n",
    "[HFO(i),Siderite,Strengite(i),Struvite,Vivianite(i),MgOxs,FeIIOxs,HFOP(i),solP(i),solFe(i),MASSERROR(i)]=RE_FeCPNMgAAOxsystem_solvers(pH,perange(i),FeT,CT,PT,NT,MgT,AAT,OxT,ASF);\n",
    "\n",
    "end\n",
    "\n",
    "plot(perange,(HFOP)./PT,perange,(Vivianite*2)./PT,perange,Strengite./PT,perange,solP./PT, ...\n",
    "    perange,HFOP./PT+(Vivianite*2)./PT+Strengite./PT+solP./PT,'linewidth',2)\n",
    "legend('HFO-P','Vivianite','Strengite','solP','P_T');\n",
    "set(gca,'linewidth',2)\n",
    "\n",
    "%figure(2)\n",
    "%plot(perange,MASSERROR)\n"
   ]
  }
 ],
 "metadata": {
  "kernelspec": {
   "display_name": "Octave",
   "language": "octave",
   "name": "octave"
  },
  "language_info": {
   "file_extension": ".m",
   "help_links": [
    {
     "text": "GNU Octave",
     "url": "https://www.gnu.org/software/octave/support.html"
    },
    {
     "text": "Octave Kernel",
     "url": "https://github.com/Calysto/octave_kernel"
    },
    {
     "text": "MetaKernel Magics",
     "url": "https://metakernel.readthedocs.io/en/latest/source/README.html"
    }
   ],
   "mimetype": "text/x-octave",
   "name": "octave",
   "version": "6.3.0"
  }
 },
 "nbformat": 4,
 "nbformat_minor": 5
}
