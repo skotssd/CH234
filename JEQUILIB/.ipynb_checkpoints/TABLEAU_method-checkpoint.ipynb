{
 "cells": [
  {
   "cell_type": "code",
   "execution_count": 14,
   "id": "16ba4d47-6066-48c0-af76-1f509a12c559",
   "metadata": {},
   "outputs": [],
   "source": [
    "% some housekeeping stuff\n",
    "register_graphics_toolkit (\"gnuplot\");\n",
    "available_graphics_toolkits ();\n",
    "graphics_toolkit (\"gnuplot\")\n",
    "clear\n",
    "% load packages\n",
    "pkg load statistics\n",
    "% end of housekeeping"
   ]
  },
  {
   "cell_type": "markdown",
   "id": "725f486a",
   "metadata": {
    "tags": []
   },
   "source": [
    "# TABLEAU METHOD\n",
    "\n",
    "![tableau](tableau.png)\n",
    "\n",
    "$\\mathbf{X}$ is a vector of log of the component concentrations\n",
    "\n",
    "$\\mathbf{A}$ is the stoichiometric matrix\n",
    "\n",
    "$\\mathbf{K}$ is a vector of the log of the equilibrium constants\n",
    "\n",
    "$\\mathbf{C}$ is a vector of the species concentrations\n",
    "\n",
    "$\\mathbf{T}$ is a vector of the total concentrations.\n",
    "\n",
    "Now the minimization problem is to determine $\\mathbf{X}$ that minimizes the residuals in the mass balance.  This calculation is performed as follows:\n",
    "\n",
    "\\begin{align}\n",
    " \\text{minimize $\\mathbf{R}$ as a function of $\\mathbf{X}$ where}\\quad\n",
    " \\mathbf{R}&=\\mathbf{A}'\\mathbf{C}-\\mathbf{T}\\\\\n",
    "  \\text{and} \\quad      \\mathbf{C}&=10^{(\\mathbf{K}+\\mathbf{A}\\times\\mathbf{X}')}\n",
    "\\end{align}\n"
   ]
  },
  {
   "cell_type": "markdown",
   "id": "3e7822de-a3ed-4977-8402-cbacd5ae9937",
   "metadata": {},
   "source": [
    "### simple example\n",
    "\n",
    "solve for pH of acetic acid.  pKa=4.75, assume total concentration of 0.01.\n",
    "\n",
    "run this using A as the component and again using HA.  TOTH will be 0 for the HA version (electroneutrality) and AT for the A version.  \n"
   ]
  },
  {
   "cell_type": "code",
   "execution_count": 16,
   "id": "427bc6af-2c1a-4ab7-a3a6-9ba8a4253e80",
   "metadata": {},
   "outputs": [
    {
     "name": "stdout",
     "output_type": "stream",
     "text": [
      "error: 'nl_massbalanceerronosolid_NR' undefined near line 1, column 1\n",
      "error: 'SPECIESCONCS' undefined near line 1, column 1\n",
      "error: 'H' undefined near line 1, column 1\n"
     ]
    }
   ],
   "source": [
    "% start of tableau (problem definition)\n",
    "% you can change this part\n",
    "\n",
    "AT=0.01; pKa=4.75;\n",
    "\n",
    "Tableau=[...\n",
    "%H  HA logK phase species\n",
    "1   0   0    0     {'H'}\n",
    "0   1   0    0     {'HA'}\n",
    "-1  0   -14  0     {'OH'}\n",
    "-1  1   -pKa 0     {'A'}\n",
    "];\n",
    "\n",
    "T=[1e-10; AT];\n",
    "\n",
    "% end of tableau.  ------------------ %\n",
    "% no changes below this line ----------\n",
    "pH=NaN; pe=NaN;\n",
    "[KSOLID,ASOLID,SOLIDNAMES,KSOLUTION,ASOLUTION,SOLUTIONNAMES]=processtableau(Tableau,pH,pe);\n",
    "%flag1=2; flag2=1; % default to logX solution scheme with analtyical derivatives\n",
    "%database=[]; % deacivated PHREEQC solver.\n",
    "[SPECIESCONCS,SPECIATIONNAMES,MASSERR,X]=nl_massbalancerronosolid_NR(T,ASOLUTION,KSOLUTION,T);\n",
    "\n",
    "% this will generate the outputs\n",
    "\n",
    "for k=1:size(SPECIESCONCS,1)\n",
    "      txt=[SPECIATIONNAMES(k,:),'=SPECIESCONCS(k)'];\n",
    "      eval(txt)\n",
    "end\n",
    "\n",
    "pH=-log10(H)\n"
   ]
  },
  {
   "cell_type": "code",
   "execution_count": null,
   "id": "ca063c98-3f78-4b1d-9d10-9b55e9a3494a",
   "metadata": {},
   "outputs": [],
   "source": []
  }
 ],
 "metadata": {
  "kernelspec": {
   "display_name": "Octave",
   "language": "octave",
   "name": "octave"
  },
  "language_info": {
   "file_extension": ".m",
   "help_links": [
    {
     "text": "GNU Octave",
     "url": "https://www.gnu.org/software/octave/support.html"
    },
    {
     "text": "Octave Kernel",
     "url": "https://github.com/Calysto/octave_kernel"
    },
    {
     "text": "MetaKernel Magics",
     "url": "https://metakernel.readthedocs.io/en/latest/source/README.html"
    }
   ],
   "mimetype": "text/x-octave",
   "name": "octave",
   "version": "6.4.0"
  }
 },
 "nbformat": 4,
 "nbformat_minor": 5
}
