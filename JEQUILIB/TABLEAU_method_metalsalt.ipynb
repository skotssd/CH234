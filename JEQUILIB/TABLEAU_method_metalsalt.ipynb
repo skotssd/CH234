{
 "cells": [
  {
   "cell_type": "code",
   "execution_count": 1,
   "id": "16ba4d47-6066-48c0-af76-1f509a12c559",
   "metadata": {},
   "outputs": [],
   "source": [
    "% some housekeeping stuff\n",
    "register_graphics_toolkit (\"gnuplot\");\n",
    "available_graphics_toolkits ();\n",
    "graphics_toolkit (\"gnuplot\")\n",
    "clear\n",
    "% load packages\n",
    "pkg load statistics\n",
    "% clear and warning off\n",
    "clear\n",
    "warning off\n",
    "% end of housekeeping"
   ]
  },
  {
   "cell_type": "markdown",
   "id": "3e7822de-a3ed-4977-8402-cbacd5ae9937",
   "metadata": {},
   "source": [
    "### simple example\n",
    "\n",
    "solve for pH of aluminum salt.  pKa=5.00, assume total concentration of 0.01.\n",
    "\n",
    "check the charge balance (so you need to include the anion as a component)\n"
   ]
  },
  {
   "cell_type": "code",
   "execution_count": 8,
   "id": "427bc6af-2c1a-4ab7-a3a6-9ba8a4253e80",
   "metadata": {},
   "outputs": [
    {
     "name": "stdout",
     "output_type": "stream",
     "text": [
      "check = 3.1225e-13\n",
      "H = 3.1127e-04\n",
      "Al = 9.6887e-03\n",
      "Cl = 0.030000\n",
      "OH = 3.2127e-11\n",
      "AlOH = 3.1127e-04\n",
      "pH = 3.5069\n",
      "chargebalance = 6.6763e-17\n"
     ]
    }
   ],
   "source": [
    "% start of tableau (problem definition)\n",
    "% you can change this part--------------\n",
    "\n",
    "AlT=0.01; ClT=3*AlT; pKa=5.00;\n",
    "\n",
    "TABLEAU=[...\n",
    "%H  Al3+   Cl-   logK species\n",
    "1   0      0      0    {'H'}\n",
    "0   1      0      0    {'Al'}\n",
    "0   0      1      0    {'Cl'}\n",
    "-1  0      0     -14   {'OH'}\n",
    "-1  1      0     -pKa  {'AlOH'}\n",
    "];\n",
    "\n",
    "T=[0; AlT; ClT];\n",
    "\n",
    "% end of tableau.  ------------------ %\n",
    "% no changes below this line ----------\n",
    "[N,M]=size(TABLEAU);\n",
    "\n",
    "ASOLUTION=cell2mat(TABLEAU(1:N,1:M-2));\n",
    "KSOLUTION=cell2mat(TABLEAU(1:N,M-1));\n",
    "SOLUTIONNAMES=strvcat(TABLEAU(1:N,M));\n",
    "T(T==0)=1e-30;\n",
    "[X,F,J,SPECIESCONCS]=nl_massbalancerrnosolid_NR(T,ASOLUTION,KSOLUTION,T);\n",
    "check=100*(max(F./T)) %worst case error in%\n",
    "% this will generate the outputs\n",
    "\n",
    "for k=1:size(SPECIESCONCS,1)\n",
    "      txt=[SOLUTIONNAMES(k,:),'=SPECIESCONCS(k)'];\n",
    "      eval(txt)\n",
    "end\n",
    "\n",
    "pH=-log10(H)\n",
    "chargebalance=H+3*Al+2*AlOH-Cl-OH\n"
   ]
  },
  {
   "cell_type": "code",
   "execution_count": null,
   "id": "20c387f0-c532-4372-8cd9-b515c6017d33",
   "metadata": {},
   "outputs": [],
   "source": []
  }
 ],
 "metadata": {
  "kernelspec": {
   "display_name": "Octave",
   "language": "octave",
   "name": "octave"
  },
  "language_info": {
   "file_extension": ".m",
   "help_links": [
    {
     "text": "GNU Octave",
     "url": "https://www.gnu.org/software/octave/support.html"
    },
    {
     "text": "Octave Kernel",
     "url": "https://github.com/Calysto/octave_kernel"
    },
    {
     "text": "MetaKernel Magics",
     "url": "https://metakernel.readthedocs.io/en/latest/source/README.html"
    }
   ],
   "mimetype": "text/x-octave",
   "name": "octave",
   "version": "6.4.0"
  }
 },
 "nbformat": 4,
 "nbformat_minor": 5
}
