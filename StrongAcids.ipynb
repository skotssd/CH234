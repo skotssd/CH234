{
 "cells": [
  {
   "cell_type": "code",
   "execution_count": null,
   "metadata": {},
   "outputs": [],
   "source": [
    "% some housekeeping stuff\n",
    "register_graphics_toolkit (\"gnuplot\");\n",
    "available_graphics_toolkits ();\n",
    "graphics_toolkit (\"gnuplot\")\n",
"clear"
   ]
  },
  {
   "cell_type": "markdown",
   "metadata": {},
   "source": [
    "# Strong Acids\n",
    "\n",
    "For HCl in water (for example) the electroneutrality expression can be written:\n",
    "\n",
    "$[\\mathrm{H}^+]=[\\mathrm{OH}^-]+[\\mathrm{Cl}^-]$\n",
    "\n",
    "And with substitution of the Kw expression for [H+] and substituting in the total chloride for [Cl-]\n",
    "\n",
    "$[\\mathrm{H}^+]=\\dfrac{K_w}{[\\mathrm{H}^+]}+\\mathrm{Cl_T}$\n",
    "\n",
    "Depnding on the $\\mathrm{Cl_T}$ value we can solve the quadratic equation to determine pH, or use the simplifying assumption that [H+]>>[OH-] and solve the reduced equation [H+]=ClT."
   ]
  },
  {
   "cell_type": "code",
   "execution_count": 2,
   "metadata": {},
   "outputs": [
    {
     "name": "stderr",
     "output_type": "stream",
     "text": [
      "\u001b[1;31mError in calling magic 'plot' on line:\n",
      "    octave-cli not found, please see README\n",
      "    args: []\n",
      "    kwargs: {'height': None, 'width': None, 'resolution': None, 'backend': 'inline', 'format': 'svg', 'size': (800, 800)}\n",
      "\u001b[0m\u001b[1;31mTraceback (most recent call last):\n",
      "  File \"C:\\anaconda3\\lib\\site-packages\\metakernel\\magic.py\", line 94, in call_magic\n",
      "    func(*args, **kwargs)\n",
      "  File \"C:\\anaconda3\\lib\\site-packages\\metakernel\\magics\\plot_magic.py\", line 58, in line_plot\n",
      "    self.kernel.handle_plot_settings()\n",
      "  File \"C:\\anaconda3\\lib\\site-packages\\octave_kernel\\kernel.py\", line 156, in handle_plot_settings\n",
      "    self.octave_engine.plot_settings = self.plot_settings\n",
      "  File \"C:\\anaconda3\\lib\\site-packages\\octave_kernel\\kernel.py\", line 96, in octave_engine\n",
      "    logger=self.log)\n",
      "  File \"C:\\anaconda3\\lib\\site-packages\\octave_kernel\\kernel.py\", line 170, in __init__\n",
      "    self.executable = self._get_executable()\n",
      "  File \"C:\\anaconda3\\lib\\site-packages\\octave_kernel\\kernel.py\", line 457, in _get_executable\n",
      "    raise OSError('octave-cli not found, please see README')\n",
      "OSError: octave-cli not found, please see README\n",
      "\n",
      "\u001b[0m\u001b[1;31m%plot [options] backend - configure plotting for the session.\n",
      "\n",
      "This line magic will configure the plot settings for this\n",
      "language.\n",
      "\n",
      "Examples:\n",
      "    %plot qt --format=png\n",
      "    %plot inline -w 640\n",
      "\n",
      "Note: not all languages may support the %plot magic, and not all\n",
      "options may be supported.\n",
      "\n",
      "Options:\n",
      "-------\n",
      "-h --height    Plot height in pixels\n",
      "-w --width     Plot width in pixels\n",
      "-r --resolution Resolution in pixels per inch\n",
      "-b --backend   Backend selection [default: inline]\n",
      "-f --format    Plot format (png, svg or jpg).\n",
      "-s --size      Pixel size of plots, \"width,height\"\n",
      "\u001b[0m"
     ]
    }
   ],
   "source": [
    "%plot -s 800,800 -f 'svg'\n",
    "logClT=-9:0.1:-2; ClT=10.^logClT;\n",
    "Kw=1e-14;\n",
    "for i=1:size(logClT,2)\n",
    "    a=1; b=-ClT(i); c=-Kw;\n",
    "    t=roots([a b c]);\n",
    "    H=t(real(t)>0&imag(t)==0);\n",
    "    pHexact(i)=-log10(H);\n",
    "end\n",
    "plot(logClT,pHexact,'linewidth',2)\n",
    "set(gca,'linewidth',2,'fontsize',12)\n",
    "xlabel('logCl_T','fontsize',12)\n",
    "ylabel('pH','fontsize',12)\n",
    "title('solve full quadratic (exact solution)','fontsize',14)\n",
    "    "
   ]
  },
  {
   "cell_type": "code",
   "execution_count": 3,
   "metadata": {},
   "outputs": [
    {
     "name": "stderr",
     "output_type": "stream",
     "text": [
      "\u001b[1;31mError in calling magic 'plot' on line:\n",
      "    octave-cli not found, please see README\n",
      "    args: []\n",
      "    kwargs: {'height': None, 'width': None, 'resolution': None, 'backend': 'inline', 'format': 'svg', 'size': (800, 800)}\n",
      "\u001b[0m\u001b[1;31mTraceback (most recent call last):\n",
      "  File \"C:\\anaconda3\\lib\\site-packages\\metakernel\\magic.py\", line 94, in call_magic\n",
      "    func(*args, **kwargs)\n",
      "  File \"C:\\anaconda3\\lib\\site-packages\\metakernel\\magics\\plot_magic.py\", line 58, in line_plot\n",
      "    self.kernel.handle_plot_settings()\n",
      "  File \"C:\\anaconda3\\lib\\site-packages\\octave_kernel\\kernel.py\", line 156, in handle_plot_settings\n",
      "    self.octave_engine.plot_settings = self.plot_settings\n",
      "  File \"C:\\anaconda3\\lib\\site-packages\\octave_kernel\\kernel.py\", line 96, in octave_engine\n",
      "    logger=self.log)\n",
      "  File \"C:\\anaconda3\\lib\\site-packages\\octave_kernel\\kernel.py\", line 170, in __init__\n",
      "    self.executable = self._get_executable()\n",
      "  File \"C:\\anaconda3\\lib\\site-packages\\octave_kernel\\kernel.py\", line 457, in _get_executable\n",
      "    raise OSError('octave-cli not found, please see README')\n",
      "OSError: octave-cli not found, please see README\n",
      "\n",
      "\u001b[0m\u001b[1;31m%plot [options] backend - configure plotting for the session.\n",
      "\n",
      "This line magic will configure the plot settings for this\n",
      "language.\n",
      "\n",
      "Examples:\n",
      "    %plot qt --format=png\n",
      "    %plot inline -w 640\n",
      "\n",
      "Note: not all languages may support the %plot magic, and not all\n",
      "options may be supported.\n",
      "\n",
      "Options:\n",
      "-------\n",
      "-h --height    Plot height in pixels\n",
      "-w --width     Plot width in pixels\n",
      "-r --resolution Resolution in pixels per inch\n",
      "-b --backend   Backend selection [default: inline]\n",
      "-f --format    Plot format (png, svg or jpg).\n",
      "-s --size      Pixel size of plots, \"width,height\"\n",
      "\u001b[0m"
     ]
    }
   ],
   "source": [
    "%plot -s 800,800 -f 'svg'\n",
    "for i=1:size(logClT,2)\n",
    "    H=ClT(i);\n",
    "    pHapprox(i)=-log10(H);\n",
    "end\n",
    "plot(logClT,pHexact,'linewidth',2,logClT,pHapprox,'g','linewidth',2)\n",
    "legend('exact','approx')\n",
    "set(gca,'linewidth',2,'fontsize',12)\n",
    "xlabel('logCl_T','fontsize',12)\n",
    "ylabel('pH','fontsize',12)\n",
    "title('... also approx solution','fontsize',14)"
   ]
  },
  {
   "cell_type": "code",
   "execution_count": null,
   "metadata": {},
   "outputs": [],
   "source": []
  }
 ],
 "metadata": {
  "kernelspec": {
   "display_name": "Octave",
   "language": "octave",
   "name": "octave"
  },
  "language_info": {
   "file_extension": ".m",
   "help_links": [
    {
     "text": "GNU Octave",
     "url": "https://www.gnu.org/software/octave/support.html"
    },
    {
     "text": "Octave Kernel",
     "url": "https://github.com/Calysto/octave_kernel"
    },
    {
     "text": "MetaKernel Magics",
     "url": "https://metakernel.readthedocs.io/en/latest/source/README.html"
    }
   ],
   "mimetype": "text/x-octave",
   "name": "octave",
   "version": "5.1.0"
  }
 },
 "nbformat": 4,
 "nbformat_minor": 2
}
