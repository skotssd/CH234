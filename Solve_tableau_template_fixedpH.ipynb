{
 "cells": [
  {
   "cell_type": "code",
   "execution_count": 5,
   "metadata": {},
   "outputs": [],
   "source": [
    "% some housekeeping stuff\n",
    "register_graphics_toolkit (\"gnuplot\");\n",
    "available_graphics_toolkits ();\n",
    "graphics_toolkit (\"gnuplot\")\n",
    "clear\n",
    "% end of housekeeping"
   ]
  },
  {
   "cell_type": "code",
   "execution_count": 6,
   "metadata": {},
   "outputs": [
    {
     "name": "stdout",
     "output_type": "stream",
     "text": [
      "concs =\r\n",
      "\r\n",
      "   1.7783e-05\r\n",
      "   5.0000e-04\r\n",
      "   5.6234e-10\r\n",
      "   5.0000e-04\r\n",
      "\r\n"
     ]
    }
   ],
   "source": [
    "[KSOLUTION,ASOLUTION,SOLUTIONNAMES]=get_equilib_defn;\n",
    "\n",
    "warning ('off')\n",
    "\n",
    "ASOLUTION=[1 0 %H\n",
    "           0 1 %Ac\n",
    "          -1 0 %OH\n",
    "          1  1 %HAc\n",
    "          ];\n",
    "KSOLUTION=[0\n",
    "           0\n",
    "          -14\n",
    "           4.75\n",
    "           ];\n",
    "\n",
    "Asolution=ASOLUTION; Ksolution=KSOLUTION;\n",
    "\n",
    "pH=4.75;\n",
    "\n",
    "[Ksolution,Asolution]=get_equilib_fixed_pH(KSOLUTION,ASOLUTION,pH);\n",
    "\n",
    "T=[1e-3]; % needs to be a column vector. use \";\" to seperate entries\n",
    "\n",
    "format short e\n",
    "\n",
    "X=T./10; [xans,masserr,J,C] = nl_massbalancerrnosolid_NR(X,Asolution,Ksolution,T);\n",
    "\n",
    "concs=C"
   ]
  }
 ],
 "metadata": {
  "kernelspec": {
   "display_name": "Octave",
   "language": "octave",
   "name": "octave"
  },
  "language_info": {
   "file_extension": ".m",
   "help_links": [
    {
     "text": "GNU Octave",
     "url": "https://www.gnu.org/software/octave/support.html"
    },
    {
     "text": "Octave Kernel",
     "url": "https://github.com/Calysto/octave_kernel"
    },
    {
     "text": "MetaKernel Magics",
     "url": "https://metakernel.readthedocs.io/en/latest/source/README.html"
    }
   ],
   "mimetype": "text/x-octave",
   "name": "octave",
   "version": "5.2.0"
  }
 },
 "nbformat": 4,
 "nbformat_minor": 2
}
