{
 "cells": [
  {
   "cell_type": "code",
   "execution_count": 27,
   "metadata": {},
   "outputs": [],
   "source": [
    "% some housekeeping stuff\n",
    "register_graphics_toolkit (\"gnuplot\");\n",
    "available_graphics_toolkits ();\n",
    "graphics_toolkit (\"gnuplot\")\n",
    "warning ('off')\n",
    "clear\n",
    "% end of housekeeping"
   ]
  },
  {
   "cell_type": "code",
   "execution_count": 28,
   "metadata": {},
   "outputs": [
    {
     "name": "stdout",
     "output_type": "stream",
     "text": [
      "concs =\r\n",
      "\r\n",
      "   1.0000e-01\r\n",
      "   2.9596e-02\r\n",
      "   1.0000e-03\r\n",
      "   3.0285e-01\r\n",
      "   1.4833e+01\r\n",
      "   2.9596e+01\r\n",
      "   2.9596e-01\r\n",
      "   4.2264e+00\r\n",
      "\r\n"
     ]
    }
   ],
   "source": [
    "% INPUT THE TABLEAU & pH -----------------------------------------------------------\n",
    "\n",
    "AlT=1e-3; pH=6;\n",
    "\n",
    "TABLEAU=[...\n",
    "%H+   Al     logK\n",
    "1     0      0       %H\n",
    "0     1      0       %Al\n",
    "-1    0      -14     %OH\n",
    "-1    1      -4.99   %AlOH\n",
    "-2    1      -9.3    %AlOH2\n",
    "-3    1      -15     %AlOH3\n",
    "-4    1      -23     %AlOH4\n",
    "-32   13     -111.5  %Al13OH32\n",
    "0     AlT   0       %TOTALS\n",
    "];\n",
    "\n",
    "\n",
    "% now take TABLEAU apart --------------------------------------------------\n",
    "\n",
    "[N,M]=size(TABLEAU);\n",
    "\n",
    "ASOLUTION=TABLEAU(1:N-1,1:M-1);\n",
    "KSOLUTION=TABLEAU(1:N-1,M);\n",
    "T=TABLEAU(N,2:M-1);T(T==0)=1e-30;\n",
    "\n",
    "% fixed pH\n",
    "\n",
    "[Ksolution,Asolution]=get_equilib_fixed_pH(KSOLUTION,ASOLUTION,pH);\n",
    "\n",
    "format short e\n",
    "\n",
    "X=T./10; [xans,masserr,J,C] = nl_massbalancerrnosolid_NR(X,Asolution,Ksolution,T);\n",
    "\n",
    "concs=100*(C./T)"
   ]
  }
 ],
 "metadata": {
  "kernelspec": {
   "display_name": "Octave",
   "language": "octave",
   "name": "octave"
  },
  "language_info": {
   "file_extension": ".m",
   "help_links": [
    {
     "text": "GNU Octave",
     "url": "https://www.gnu.org/software/octave/support.html"
    },
    {
     "text": "Octave Kernel",
     "url": "https://github.com/Calysto/octave_kernel"
    },
    {
     "text": "MetaKernel Magics",
     "url": "https://metakernel.readthedocs.io/en/latest/source/README.html"
    }
   ],
   "mimetype": "text/x-octave",
   "name": "octave",
   "version": "6.2.0"
  }
 },
 "nbformat": 4,
 "nbformat_minor": 2
}
