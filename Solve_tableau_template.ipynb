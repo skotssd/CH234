{
 "cells": [
  {
   "cell_type": "code",
   "execution_count": 3,
   "metadata": {},
   "outputs": [],
   "source": [
    "% some housekeeping stuff\n",
    "register_graphics_toolkit (\"gnuplot\");\n",
    "available_graphics_toolkits ();\n",
    "graphics_toolkit (\"gnuplot\")\n",
    "clear\n",
    "% end of housekeeping"
   ]
  },
  {
   "cell_type": "code",
   "execution_count": 4,
   "metadata": {},
   "outputs": [
    {
     "name": "stdout",
     "output_type": "stream",
     "text": [
      "concentrations =\r\n",
      "\r\n",
      "   1.0000e-07\r\n",
      "   1.0000e-07\r\n",
      "\r\n"
     ]
    }
   ],
   "source": [
    "[KSOLUTION,ASOLUTION,SOLUTIONNAMES]=get_equilib_defn;\n",
    "\n",
    "warning ('off')\n",
    "\n",
    "ASOLUTION=[1 %H\n",
    "          -1 %OH\n",
    "          ];\n",
    "KSOLUTION=[0\n",
    "           -14\n",
    "           ];\n",
    "\n",
    "Asolution=ASOLUTION; Ksolution=KSOLUTION;\n",
    "%pH=6;\n",
    "%[Ksolution,Asolution]=get_equilib_fixed_pH(KSOLUTION,ASOLUTION,pH);\n",
    "\n",
    "T=[1e-30]; % needs to be a column vector so seperate by \";\" also you can't use 0 so use 1e-30 instead\n",
    "\n",
    "format short e\n",
    "\n",
    "X=T./10; [xguess,masserr,J,C] = nl_massbalancerrnosolid_NR(X,Asolution,Ksolution,T);\n",
    "\n",
    "concentrations=C"
   ]
  }
 ],
 "metadata": {
  "kernelspec": {
   "display_name": "Octave",
   "language": "octave",
   "name": "octave"
  },
  "language_info": {
   "file_extension": ".m",
   "help_links": [
    {
     "text": "GNU Octave",
     "url": "https://www.gnu.org/software/octave/support.html"
    },
    {
     "text": "Octave Kernel",
     "url": "https://github.com/Calysto/octave_kernel"
    },
    {
     "text": "MetaKernel Magics",
     "url": "https://metakernel.readthedocs.io/en/latest/source/README.html"
    }
   ],
   "mimetype": "text/x-octave",
   "name": "octave",
   "version": "5.2.0"
  }
 },
 "nbformat": 4,
 "nbformat_minor": 2
}
