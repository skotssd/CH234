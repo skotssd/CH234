{
 "cells": [
  {
   "cell_type": "code",
   "execution_count": 39,
   "metadata": {},
   "outputs": [],
   "source": [
    "% some housekeeping stuff\n",
    "register_graphics_toolkit (\"gnuplot\");\n",
    "available_graphics_toolkits ();\n",
    "graphics_toolkit (\"gnuplot\")\n",
    "clear\n",
    "% end of housekeeping"
   ]
  },
  {
   "cell_type": "code",
   "execution_count": 40,
   "metadata": {},
   "outputs": [
    {
     "name": "stdout",
     "output_type": "stream",
     "text": [
      "xguess =           NaN\n",
      "masserr =           NaN\n",
      "J =           NaN\n",
      "C =\n",
      "\n",
      "          NaN\n",
      "          NaN\n",
      "\n",
      "ans =           NaN\n"
     ]
    }
   ],
   "source": [
    "[KSOLUTION,ASOLUTION,SOLUTIONNAMES]=get_equilib_defn;\n",
    "\n",
    "warning ('off')\n",
    "\n",
    "ASOLUTION=[1 \n",
    "          -1\n",
    "          ];\n",
    "KSOLUTION=[0\n",
    "           -14\n",
    "           ];\n",
    "\n",
    "Asolution=ASOLUTION; Ksolution=KSOLUTION;\n",
    "%pH=6;\n",
    "%[Ksolution,Asolution]=get_equilib_fixed_pH(KSOLUTION,ASOLUTION,pH);\n",
    "\n",
    "T=[0]; % needs to be a column vector\n",
    "\n",
    "format short e\n",
    "\n",
    "X=T./10; [xguess,masserr,J,C] = nl_massbalancerrnosolid_NR(X,Asolution,Ksolution,T)\n",
    "\n",
    "log10(xguess)"
   ]
  }
 ],
 "metadata": {
  "kernelspec": {
   "display_name": "Octave",
   "language": "octave",
   "name": "octave"
  },
  "language_info": {
   "file_extension": ".m",
   "help_links": [
    {
     "text": "GNU Octave",
     "url": "https://www.gnu.org/software/octave/support.html"
    },
    {
     "text": "Octave Kernel",
     "url": "https://github.com/Calysto/octave_kernel"
    },
    {
     "text": "MetaKernel Magics",
     "url": "https://github.com/calysto/metakernel/blob/master/metakernel/magics/README.md"
    }
   ],
   "mimetype": "text/x-octave",
   "name": "octave",
   "version": "4.4.1"
  }
 },
 "nbformat": 4,
 "nbformat_minor": 2
}
