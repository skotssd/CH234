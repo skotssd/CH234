{
 "cells": [
  {
   "cell_type": "code",
   "execution_count": 15,
   "metadata": {},
   "outputs": [],
   "source": [
    "% some housekeeping stuff\n",
    "register_graphics_toolkit (\"gnuplot\");\n",
    "available_graphics_toolkits ();\n",
    "graphics_toolkit (\"gnuplot\")\n",
    "warning ('off')\n",
    "clear\n",
    "% end of housekeeping"
   ]
  },
  {
   "cell_type": "code",
   "execution_count": 16,
   "metadata": {},
   "outputs": [
    {
     "name": "stdout",
     "output_type": "stream",
     "text": [
      "concs =\n",
      "\n",
      "   3.0003e-02\n",
      "   9.9967e-03\n",
      "   3.3330e-13\n",
      "   3.3319e-06\n",
      "\n",
      "pH = 1.5228e+00\n"
     ]
    }
   ],
   "source": [
    "%pKa1=6.3; pKa2=10.3; CT=0.01;\n",
    "\n",
    "TABLEAU=[...\n",
    "%H+   Al3+ logK\n",
    "1     0    0         %H\n",
    "0     1    0         %Al3+\n",
    "-1    0    -14       %OH\n",
    "-1    1    -5      %AlOH2+\n",
    "0.03  0.01   0         %TOTALS \n",
    "];\n",
    "\n",
    "% now take TABLEAU apart --------------------------------------------------\n",
    "\n",
    "[N,M]=size(TABLEAU);\n",
    "\n",
    "ASOLUTION=TABLEAU(1:N-1,1:M-1);\n",
    "KSOLUTION=TABLEAU(1:N-1,M);\n",
    "T=TABLEAU(N,1:M-1)'; T(T==0)=1e-30;\n",
    "\n",
    "format short e\n",
    "\n",
    "X=T./10; [xans,masserr,J,C] = nl_massbalancerrnosolid_NR(X,ASOLUTION,KSOLUTION,T);\n",
    "\n",
    "concs=C\n",
    "pH=-log10(C(1))"
   ]
  }
 ],
 "metadata": {
  "kernelspec": {
   "display_name": "Octave",
   "language": "octave",
   "name": "octave"
  },
  "language_info": {
   "file_extension": ".m",
   "help_links": [
    {
     "text": "GNU Octave",
     "url": "https://www.gnu.org/software/octave/support.html"
    },
    {
     "text": "Octave Kernel",
     "url": "https://github.com/Calysto/octave_kernel"
    },
    {
     "text": "MetaKernel Magics",
     "url": "https://metakernel.readthedocs.io/en/latest/source/README.html"
    }
   ],
   "mimetype": "text/x-octave",
   "name": "octave",
   "version": "6.2.0"
  }
 },
 "nbformat": 4,
 "nbformat_minor": 2
}
