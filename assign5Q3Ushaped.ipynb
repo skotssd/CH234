{
 "cells": [
  {
   "cell_type": "code",
   "execution_count": 9,
   "metadata": {},
   "outputs": [
    {
     "name": "stdout",
     "output_type": "stream",
     "text": [
      "ans =\r\n",
      "{\r\n",
      "  [1,1] = fltk\r\n",
      "  [1,2] = gnuplot\r\n",
      "}\r\n",
      "\r\n"
     ]
    }
   ],
   "source": [
    "% some housekeeping stuff\n",
    "register_graphics_toolkit (\"gnuplot\");\n",
    "available_graphics_toolkits ()\n",
    "graphics_toolkit(\"gnuplot\")\n",
    "clear\n",
    "% end of housekeeping"
   ]
  },
  {
   "cell_type": "markdown",
   "metadata": {},
   "source": [
    "# U shaped solubility diagram\n",
    "\n",
    "compare FeOH2 and FeOH3 solubility diagrams using B values given with assignment\n"
   ]
  },
  {
   "cell_type": "code",
   "execution_count": 10,
   "metadata": {
    "scrolled": true
   },
   "outputs": [
    {
     "name": "stdout",
     "output_type": "stream",
     "text": [
      "error: /usr/lib/octave/6.1.0/oct/x86_64-pc-linux-gnu/__init_fltk__.oct: failed to load: libfltk_gl.so.1.3: cannot open shared object file: No such file or directory\n",
      "error: called from\n",
      "    graphics_toolkit at line 98 column 5\n",
      "    figure at line 96 column 7\n",
      "    newplot at line 124 column 10\n",
      "    semilogy at line 58 column 9\n",
      "error: /usr/lib/octave/6.1.0/oct/x86_64-pc-linux-gnu/__init_fltk__.oct: failed to load: libfltk_gl.so.1.3: cannot open shared object file: No such file or directory\n",
      "error: called from\n",
      "    graphics_toolkit at line 98 column 5\n",
      "    figure at line 96 column 7\n",
      "    gcf at line 68 column 9\n",
      "    gca at line 61 column 7\n",
      "error: /usr/lib/octave/6.1.0/oct/x86_64-pc-linux-gnu/__init_fltk__.oct: failed to load: libfltk_gl.so.1.3: cannot open shared object file: No such file or directory\n",
      "error: called from\n",
      "    graphics_toolkit at line 98 column 5\n",
      "    figure at line 96 column 7\n",
      "    gcf at line 68 column 9\n",
      "    gca at line 61 column 7\n",
      "    xlabel at line 52 column 9\n",
      "error: /usr/lib/octave/6.1.0/oct/x86_64-pc-linux-gnu/__init_fltk__.oct: failed to load: libfltk_gl.so.1.3: cannot open shared object file: No such file or directory\n",
      "error: called from\n",
      "    graphics_toolkit at line 98 column 5\n",
      "    figure at line 96 column 7\n",
      "    gcf at line 68 column 9\n",
      "    gca at line 61 column 7\n",
      "    ylabel at line 54 column 9\n",
      "error: /usr/lib/octave/6.1.0/oct/x86_64-pc-linux-gnu/__init_fltk__.oct: failed to load: libfltk_gl.so.1.3: cannot open shared object file: No such file or directory\n",
      "error: called from\n",
      "    graphics_toolkit at line 98 column 5\n",
      "    figure at line 96 column 7\n",
      "    gcf at line 68 column 9\n",
      "    gca at line 61 column 7\n",
      "    __gnuplot_legend__ at line 157 column 10\n",
      "    legend at line 198 column 37\n"
     ]
    }
   ],
   "source": [
    "%plot -s 600,500 -f 'svg'\n",
    "pH=2:0.1:12; H=10.^-pH; OH=1e-14./H;\n",
    "Ksp=10^-38.6;\n",
    "Bf1=10^11.81;\n",
    "Bf2=10^22.4;\n",
    "Bf3=10^30.2;\n",
    "Bf4=10^34.4;\n",
    "Fe=Ksp./OH.^3;\n",
    "FeOH=Fe.*OH*Bf1;\n",
    "FeOH2=Fe.*OH.^2*Bf2;\n",
    "FeOH3=Fe.*OH.^3*Bf3;\n",
    "FeOH4=Fe.*OH.^4*Bf4;\n",
    "FeTIII=Fe+FeOH+FeOH2+FeOH3+FeOH4; \n",
    "semilogy(pH,Fe,'linewidth',2,pH,FeOH,'linewidth',2,pH,FeOH2,'linewidth',2,...\n",
    "pH,FeOH3,'linewidth',2,pH,FeOH4,'linewidth',2,pH,FeTIII,'linewidth',2)\n",
    "set(gca,'linewidth',2,'fontsize',12)\n",
    "xlabel('pH','fontsize',12)\n",
    "ylabel('log[species]','fontsize',12)\n",
    "legend('Fe^{3+}','FeOH^{2+}','Fe(OH)_2^+','Fe(OH)_3','Fe(OH)_4^-','Fe_T','location','southwest')"
   ]
  },
  {
   "cell_type": "code",
   "execution_count": 11,
   "metadata": {},
   "outputs": [
    {
     "name": "stdout",
     "output_type": "stream",
     "text": [
      "error: /usr/lib/octave/6.1.0/oct/x86_64-pc-linux-gnu/__init_fltk__.oct: failed to load: libfltk_gl.so.1.3: cannot open shared object file: No such file or directory\n",
      "error: called from\n",
      "    graphics_toolkit at line 98 column 5\n",
      "    figure at line 96 column 7\n",
      "    newplot at line 124 column 10\n",
      "    semilogy at line 58 column 9\n",
      "error: /usr/lib/octave/6.1.0/oct/x86_64-pc-linux-gnu/__init_fltk__.oct: failed to load: libfltk_gl.so.1.3: cannot open shared object file: No such file or directory\n",
      "error: called from\n",
      "    graphics_toolkit at line 98 column 5\n",
      "    figure at line 96 column 7\n",
      "    gcf at line 68 column 9\n",
      "    gca at line 61 column 7\n",
      "error: /usr/lib/octave/6.1.0/oct/x86_64-pc-linux-gnu/__init_fltk__.oct: failed to load: libfltk_gl.so.1.3: cannot open shared object file: No such file or directory\n",
      "error: called from\n",
      "    graphics_toolkit at line 98 column 5\n",
      "    figure at line 96 column 7\n",
      "    gcf at line 68 column 9\n",
      "    gca at line 61 column 7\n",
      "    xlabel at line 52 column 9\n",
      "error: /usr/lib/octave/6.1.0/oct/x86_64-pc-linux-gnu/__init_fltk__.oct: failed to load: libfltk_gl.so.1.3: cannot open shared object file: No such file or directory\n",
      "error: called from\n",
      "    graphics_toolkit at line 98 column 5\n",
      "    figure at line 96 column 7\n",
      "    gcf at line 68 column 9\n",
      "    gca at line 61 column 7\n",
      "    ylabel at line 54 column 9\n",
      "error: /usr/lib/octave/6.1.0/oct/x86_64-pc-linux-gnu/__init_fltk__.oct: failed to load: libfltk_gl.so.1.3: cannot open shared object file: No such file or directory\n",
      "error: called from\n",
      "    graphics_toolkit at line 98 column 5\n",
      "    figure at line 96 column 7\n",
      "    gcf at line 68 column 9\n",
      "    gca at line 61 column 7\n",
      "    __gnuplot_legend__ at line 157 column 10\n",
      "    legend at line 198 column 37\n"
     ]
    }
   ],
   "source": [
    "%plot -s 600,500 -f 'svg'\n",
    "pH=2:0.1:12; H=10.^-pH; OH=1e-14./H;\n",
    "Ksp=10^-14.5;\n",
    "Bf1=10^4.2;\n",
    "Bf2=10^7.4;\n",
    "Bf3=10^11;\n",
    "Fe=Ksp./OH.^2;\n",
    "FeOH=Fe.*OH*Bf1;\n",
    "FeOH2=Fe.*OH.^2*Bf2;\n",
    "FeOH3=Fe.*OH.^3*Bf3;\n",
    "FeTII=Fe+FeOH+FeOH2+FeOH3; \n",
    "semilogy(pH,Fe,'linewidth',2,pH,FeOH,'linewidth',2,pH,FeOH2,'linewidth',2,...\n",
    "pH,FeOH3,'linewidth',2,pH,FeTII,'linewidth',2)\n",
    "set(gca,'linewidth',2,'fontsize',12)\n",
    "xlabel('pH','fontsize',12)\n",
    "ylabel('log[species]','fontsize',12)\n",
    "legend('Fe^{2+}','FeOH^{+}','Fe(OH)_2','Fe(OH)_3^-','Fe_T','location','southwest')"
   ]
  },
  {
   "cell_type": "markdown",
   "metadata": {},
   "source": [
    "COMPARE THE u'S"
   ]
  },
  {
   "cell_type": "code",
   "execution_count": 12,
   "metadata": {},
   "outputs": [
    {
     "name": "stdout",
     "output_type": "stream",
     "text": [
      "error: /usr/lib/octave/6.1.0/oct/x86_64-pc-linux-gnu/__init_fltk__.oct: failed to load: libfltk_gl.so.1.3: cannot open shared object file: No such file or directory\n",
      "error: called from\n",
      "    graphics_toolkit at line 98 column 5\n",
      "    figure at line 96 column 7\n",
      "    newplot at line 124 column 10\n",
      "    semilogy at line 58 column 9\n",
      "error: /usr/lib/octave/6.1.0/oct/x86_64-pc-linux-gnu/__init_fltk__.oct: failed to load: libfltk_gl.so.1.3: cannot open shared object file: No such file or directory\n",
      "error: called from\n",
      "    graphics_toolkit at line 98 column 5\n",
      "    figure at line 96 column 7\n",
      "    gcf at line 68 column 9\n",
      "    gca at line 61 column 7\n",
      "error: /usr/lib/octave/6.1.0/oct/x86_64-pc-linux-gnu/__init_fltk__.oct: failed to load: libfltk_gl.so.1.3: cannot open shared object file: No such file or directory\n",
      "error: called from\n",
      "    graphics_toolkit at line 98 column 5\n",
      "    figure at line 96 column 7\n",
      "    gcf at line 68 column 9\n",
      "    gca at line 61 column 7\n",
      "    xlabel at line 52 column 9\n",
      "error: /usr/lib/octave/6.1.0/oct/x86_64-pc-linux-gnu/__init_fltk__.oct: failed to load: libfltk_gl.so.1.3: cannot open shared object file: No such file or directory\n",
      "error: called from\n",
      "    graphics_toolkit at line 98 column 5\n",
      "    figure at line 96 column 7\n",
      "    gcf at line 68 column 9\n",
      "    gca at line 61 column 7\n",
      "    ylabel at line 54 column 9\n",
      "error: /usr/lib/octave/6.1.0/oct/x86_64-pc-linux-gnu/__init_fltk__.oct: failed to load: libfltk_gl.so.1.3: cannot open shared object file: No such file or directory\n",
      "error: called from\n",
      "    graphics_toolkit at line 98 column 5\n",
      "    figure at line 96 column 7\n",
      "    gcf at line 68 column 9\n",
      "    gca at line 61 column 7\n",
      "    __gnuplot_legend__ at line 157 column 10\n",
      "    legend at line 198 column 37\n"
     ]
    }
   ],
   "source": [
    "semilogy(pH,FeTII,'k--','linewidth',2,pH,FeTIII,'linewidth',2)\n",
    "set(gca,'linewidth',2,'fontsize',12)\n",
    "xlabel('pH','fontsize',12)\n",
    "ylabel('log[species]','fontsize',12)\n",
    "legend('Fe^{2+} TOTAL','Fe^{3+} TOTAL','location','southwest')"
   ]
  }
 ],
 "metadata": {
  "kernelspec": {
   "display_name": "Octave",
   "language": "octave",
   "name": "octave"
  },
  "language_info": {
   "file_extension": ".m",
   "help_links": [
    {
     "text": "GNU Octave",
     "url": "https://www.gnu.org/software/octave/support.html"
    },
    {
     "text": "Octave Kernel",
     "url": "https://github.com/Calysto/octave_kernel"
    },
    {
     "text": "MetaKernel Magics",
     "url": "https://metakernel.readthedocs.io/en/latest/source/README.html"
    }
   ],
   "mimetype": "text/x-octave",
   "name": "octave",
   "version": "6.1.0"
  }
 },
 "nbformat": 4,
 "nbformat_minor": 2
}
