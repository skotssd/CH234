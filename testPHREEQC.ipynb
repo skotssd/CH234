{
 "cells": [
  {
   "cell_type": "markdown",
   "metadata": {},
   "source": [
    "# TEST PHREEQC\n"
   ]
  },
  {
   "cell_type": "code",
   "execution_count": 5,
   "metadata": {},
   "outputs": [],
   "source": [
    "% some housekeeping stuff\n",
    "register_graphics_toolkit (\"gnuplot\");\n",
    "available_graphics_toolkits ();\n",
    "graphics_toolkit (\"gnuplot\")\n",
    "clear\n",
    "% end of housekeeping"
   ]
  },
  {
   "cell_type": "code",
   "execution_count": 6,
   "metadata": {},
   "outputs": [
    {
     "name": "stdout",
     "output_type": "stream",
     "text": [
      "Input file: runphreeqc.txt\r\n",
      "\r\n",
      "Output file: out.txt\r\n",
      "\r\n",
      "Database file: PHREEQC.dat\r\n",
      "\r\n",
      "\r\n",
      "Initializing...                                                                 \r\n",
      "\r\n",
      "End of Run after 0.006109 Seconds.\r\n"
     ]
    }
   ],
   "source": [
    "system(\"chmod +x phreeqc\");\n",
    "system(\"./phreeqc runphreeqc.txt out.txt PHREEQC.dat\");"
   ]
  },
  {
   "cell_type": "code",
   "execution_count": 7,
   "metadata": {},
   "outputs": [
    {
     "name": "stdout",
     "output_type": "stream",
     "text": [
      "          pH\t          pe\t    m_FeHPO4\t  m_FeH2PO4+\t     m_FeOH+\t   Vivianite\t d_Vivianite\t  Fe(OH)3(a)\td_Fe(OH)3(a)\t\r\n",
      "          12\t         9.5\t  0.0000e+00\t  0.0000e+00\t  0.0000e+00\t  0.0000e+00\t  0.0000e+00\t  0.0000e+00\t  0.0000e+00\t\r\n",
      "          12\t         9.5\t  2.2392e-30\t  4.9176e-36\t  4.3432e-26\t  1.0000e+01\t  0.0000e+00\t  1.0000e+01\t  0.0000e+00\t\r\n"
     ]
    }
   ],
   "source": [
    "system(\"cat selected.out\");"
   ]
  },
  {
   "cell_type": "code",
   "execution_count": 8,
   "metadata": {},
   "outputs": [
    {
     "name": "stdout",
     "output_type": "stream",
     "text": [
      "alpha_diprotic_acid.ipynb\r\n",
      "alpha_diprotic_acid.m\r\n",
      "Alpha_weak_acid.ipynb\r\n",
      "Alpha_weak_Acid.m\r\n",
      "apt.txt\r\n",
      "assign5Q3Ushaped.ipynb\r\n",
      "BLM.ipynb\r\n",
      "Cd_chlorocomplexation.ipynb\r\n",
      "Cd_hydroxycomplexation.ipynb\r\n",
      "CH234W2021_assignment1_generate_answerkey.ipynb\r\n",
      "environment.yml\r\n",
      "Example_tableau_Fe_hydroxide_speciation.ipynb\r\n",
      "get_equilib_defn.m\r\n",
      "get_equilib_fixed_pH.m\r\n",
      "index.ipynb\r\n",
      "LICENSE\r\n",
      "nl_massbalancerrnosolid_NR.m\r\n",
      "open_CO2_speciation_diagram.m\r\n",
      "Open_CO2_system.ipynb\r\n",
      "out.txt\r\n",
      "phreeqc\r\n",
      "PHREEQC.dat\r\n",
      "phreeqc.log\r\n",
      "Positive_Real_Roots_Quadratic.ipynb\r\n",
      "Positive_Real_Roots_Quadratic.m\r\n",
      "random_number_generator.ipynb\r\n",
      "README.md\r\n",
      "runphreeqc.txt\r\n",
      "selected.out\r\n",
      "Sodium_carbonate_titration.ipynb\r\n",
      "sodium_carbonate_titration.m\r\n",
      "Solve_tableau_template_fixedpH.ipynb\r\n",
      "Solve_tableau_template.ipynb\r\n",
      "StrongAcids.ipynb\r\n",
      "StrongAcids.m\r\n",
      "strongstrongtitration_andbuffering.m\r\n",
      "StrongTitration_andBuffering.ipynb\r\n",
      "test_calc_alpha.ipynb\r\n",
      "testPHREEQC.ipynb\r\n",
      "Untitled1.ipynb\r\n",
      "Untitled2.ipynb\r\n",
      "Untitled3.ipynb\r\n",
      "Untitled4.ipynb\r\n",
      "Untitled.ipynb\r\n",
      "Ushaped_solubility_diagram.ipynb\r\n",
      "weakacidbuffering.m\r\n",
      "WeakTitration_AndBuffering.ipynb\r\n",
      "ans = 0\r\n"
     ]
    }
   ],
   "source": [
    "system(\"ls\")"
   ]
  }
 ],
 "metadata": {
  "kernelspec": {
   "display_name": "Octave",
   "language": "octave",
   "name": "octave"
  },
  "language_info": {
   "file_extension": ".m",
   "help_links": [
    {
     "text": "GNU Octave",
     "url": "https://www.gnu.org/software/octave/support.html"
    },
    {
     "text": "Octave Kernel",
     "url": "https://github.com/Calysto/octave_kernel"
    },
    {
     "text": "MetaKernel Magics",
     "url": "https://metakernel.readthedocs.io/en/latest/source/README.html"
    }
   ],
   "mimetype": "text/x-octave",
   "name": "octave",
   "version": "6.1.0"
  }
 },
 "nbformat": 4,
 "nbformat_minor": 2
}
