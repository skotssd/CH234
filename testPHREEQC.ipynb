{
 "cells": [
  {
   "cell_type": "markdown",
   "metadata": {},
   "source": [
    "# TEST PHREEQC\n"
   ]
  },
  {
   "cell_type": "code",
   "execution_count": 21,
   "metadata": {},
   "outputs": [],
   "source": [
    "% some housekeeping stuff\n",
    "register_graphics_toolkit (\"gnuplot\");\n",
    "available_graphics_toolkits ();\n",
    "graphics_toolkit (\"gnuplot\")\n",
    "clear\n",
    "% end of housekeeping"
   ]
  },
  {
   "cell_type": "code",
   "execution_count": 22,
   "metadata": {},
   "outputs": [
    {
     "name": "stdout",
     "output_type": "stream",
     "text": [
      "Input file: runphreeqc.txt\r\n",
      "\r\n",
      "Output file: out.txt\r\n",
      "\r\n",
      "Database file: PHREEQC.dat\r\n",
      "\r\n",
      "\r\n",
      "Initializing...                                                                 \r\n",
      "\r\n",
      "End of Run after 0.011112 Seconds.\r\n"
     ]
    }
   ],
   "source": [
    "system(\"chmod +x phreeqc\");\n",
    "system(\"./phreeqc runphreeqc.txt out.txt PHREEQC.dat\");"
   ]
  },
  {
   "cell_type": "code",
   "execution_count": 23,
   "metadata": {},
   "outputs": [
    {
     "name": "stdout",
     "output_type": "stream",
     "text": [
      "          pH\t          pe\t    m_FeHPO4\t  m_FeH2PO4+\t     m_FeOH+\t   Vivianite\t d_Vivianite\t  Fe(OH)3(a)\td_Fe(OH)3(a)\t\r\n",
      "          12\t         9.5\t  0.0000e+00\t  0.0000e+00\t  0.0000e+00\t  0.0000e+00\t  0.0000e+00\t  0.0000e+00\t  0.0000e+00\t\r\n",
      "          12\t         9.5\t  2.2392e-30\t  4.9176e-36\t  4.3432e-26\t  1.0000e+01\t  0.0000e+00\t  1.0000e+01\t  0.0000e+00\t\r\n"
     ]
    }
   ],
   "source": [
    "system(\"cat selected.out\");"
   ]
  },
  {
   "cell_type": "code",
   "execution_count": 24,
   "metadata": {},
   "outputs": [
    {
     "name": "stdout",
     "output_type": "stream",
     "text": [
      "alpha_diprotic_acid.ipynb\t     README.md\r\n",
      "Alpha_weak_acid.ipynb\t\t     runphreeqc.txt\r\n",
      "apt.txt\t\t\t\t     selected.out\r\n",
      "environment.yml\t\t\t     Sodium_carbonate_titration.ipynb\r\n",
      "index.ipynb\t\t\t     StrongAcids.ipynb\r\n",
      "LICENSE\t\t\t\t     StrongTitration_andBuffering.ipynb\r\n",
      "Open_CO2_system.ipynb\t\t     test_calc_alpha.ipynb\r\n",
      "out.txt\t\t\t\t     testPHREEQC.ipynb\r\n",
      "phreeqc\t\t\t\t     Untitled1.ipynb\r\n",
      "PHREEQC.dat\t\t\t     Untitled2.ipynb\r\n",
      "phreeqc.log\t\t\t     Untitled.ipynb\r\n",
      "Positive_Real_Roots_Quadratic.ipynb  WeakTitration_AndBuffering.ipynb\r\n",
      "ans = 0\r\n"
     ]
    }
   ],
   "source": [
    "system(\"ls\")"
   ]
  }
 ],
 "metadata": {
  "kernelspec": {
   "display_name": "Octave",
   "language": "octave",
   "name": "octave"
  },
  "language_info": {
   "file_extension": ".m",
   "help_links": [
    {
     "text": "GNU Octave",
     "url": "https://www.gnu.org/software/octave/support.html"
    },
    {
     "text": "Octave Kernel",
     "url": "https://github.com/Calysto/octave_kernel"
    },
    {
     "text": "MetaKernel Magics",
     "url": "https://metakernel.readthedocs.io/en/latest/source/README.html"
    }
   ],
   "mimetype": "text/x-octave",
   "name": "octave",
   "version": "5.1.0"
  }
 },
 "nbformat": 4,
 "nbformat_minor": 2
}
