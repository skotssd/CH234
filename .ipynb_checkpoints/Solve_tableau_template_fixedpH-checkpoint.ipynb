{
 "cells": [
  {
   "cell_type": "code",
   "execution_count": 7,
   "metadata": {},
   "outputs": [],
   "source": [
    "% some housekeeping stuff\n",
    "register_graphics_toolkit (\"gnuplot\");\n",
    "available_graphics_toolkits ();\n",
    "graphics_toolkit (\"gnuplot\")\n",
    "warning ('off')\n",
    "clear\n",
    "% end of housekeeping"
   ]
  },
  {
   "cell_type": "code",
   "execution_count": 8,
   "metadata": {},
   "outputs": [
    {
     "name": "stdout",
     "output_type": "stream",
     "text": [
      "concs =\r\n",
      "\r\n",
      "   1.7783e-05\r\n",
      "   5.0000e-04\r\n",
      "   5.6234e-10\r\n",
      "   5.0000e-04\r\n",
      "\r\n"
     ]
    }
   ],
   "source": [
    "% INPUT THE TABLEAU & pH -----------------------------------------------------------\n",
    "\n",
    "TABLEAU=[...\n",
    "1    0     0     %H\n",
    "0    1     0     %Ac\n",
    "-1   0     -14   %OH\n",
    "1    1     4.75  %HAc\n",
    "1e-3 1e-3  0   %TOTALS (first entry not actually here used because pH is fixed)\n",
    "];\n",
    "\n",
    "pH =4.75;\n",
    "\n",
    "% now take TABLEAU apart --------------------------------------------------\n",
    "\n",
    "[N,M]=size(TABLEAU);\n",
    "\n",
    "ASOLUTION=TABLEAU(1:N-1,1:M-1);\n",
    "KSOLUTION=TABLEAU(1:N-1,M);\n",
    "T=TABLEAU(N,2:M-1);T(T==0)=1e-30; T=T';\n",
    "\n",
    "% fixed pH\n",
    "\n",
    "[Ksolution,Asolution]=get_equilib_fixed_pH(KSOLUTION,ASOLUTION,pH);\n",
    "\n",
    "format short e\n",
    "\n",
    "X=T./10; [xans,masserr,J,C] = nl_massbalancerrnosolid_NR(X,Asolution,Ksolution,T);\n",
    "\n",
    "concs=C"
   ]
  }
 ],
 "metadata": {
  "kernelspec": {
   "display_name": "Octave",
   "language": "octave",
   "name": "octave"
  },
  "language_info": {
   "file_extension": ".m",
   "help_links": [
    {
     "text": "GNU Octave",
     "url": "https://www.gnu.org/software/octave/support.html"
    },
    {
     "text": "Octave Kernel",
     "url": "https://github.com/Calysto/octave_kernel"
    },
    {
     "text": "MetaKernel Magics",
     "url": "https://metakernel.readthedocs.io/en/latest/source/README.html"
    }
   ],
   "mimetype": "text/x-octave",
   "name": "octave",
   "version": "6.2.0"
  }
 },
 "nbformat": 4,
 "nbformat_minor": 2
}
