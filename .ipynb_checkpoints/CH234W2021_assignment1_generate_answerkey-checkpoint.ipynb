{
 "cells": [
  {
   "cell_type": "markdown",
   "metadata": {},
   "source": [
    "# assignment one. generate answers from concentration"
   ]
  },
  {
   "cell_type": "code",
   "execution_count": null,
   "metadata": {},
   "outputs": [],
   "source": [
    "M=0.02606;"
   ]
  },
  {
   "cell_type": "code",
   "execution_count": null,
   "metadata": {},
   "outputs": [],
   "source": [
    "pH=7; value1=pH;\n",
    "pH=-log10(M);\n",
    "value2=pH;\n",
    "pH=-log10(1e-14/M); value3=pH;\n",
    "pH=-log10(M*2); value4=pH;\n",
    "\n",
    "a=1; b=M*1e-6; c=-1*1e-14; t=roots([a b c]);\n",
    "t(imag(t)==0); %sets any imaginary roots to zero\n",
    "% display the positive real root\n",
    "t=t(t>0);\n",
    "\n",
    "pH=-log10(t); value5=pH;\n",
    "\n",
    "pH=7.000; value6=pH;\n",
    " \n",
    "format short\n",
    "I=[value1 value2 value3 value4 value5 value6]\n",
    " \n",
    "MM=M;\n",
    "\n",
    "value1=1e-7;\n",
    "Cl=MM; value2=Cl;\n",
    "Na=MM; value3=Na;\n",
    "SO4=MM; value4=SO4;\n",
    "\n",
    "a=1; b=MM*1e-6; c=-1*1e-14; t=roots([a b c]);\n",
    "t(imag(t)==0); %sets any imaginary roots to zero\n",
    "% display the positive real root\n",
    "t=t(t>0);\n",
    "\n",
    "H=t; value5=H;\n",
    "\n",
    "Na1=0.01*0.01; Na2=0.01*MM*2; Na=(Na1+Na2)/0.02;\n",
    "\n",
    "value6=Na;\n",
    "\n",
    "format short e\n",
    "I=[value1 value2 value3 value4 value5 value6]\n"
   ]
  }
 ],
 "metadata": {
  "kernelspec": {
   "display_name": "Octave",
   "language": "octave",
   "name": "octave"
  },
  "language_info": {
   "file_extension": ".m",
   "help_links": [
    {
     "text": "GNU Octave",
     "url": "https://www.gnu.org/software/octave/support.html"
    },
    {
     "text": "Octave Kernel",
     "url": "https://github.com/Calysto/octave_kernel"
    },
    {
     "text": "MetaKernel Magics",
     "url": "https://metakernel.readthedocs.io/en/latest/source/README.html"
    }
   ],
   "mimetype": "text/x-octave",
   "name": "octave",
   "version": "6.1.0"
  }
 },
 "nbformat": 4,
 "nbformat_minor": 4
}
