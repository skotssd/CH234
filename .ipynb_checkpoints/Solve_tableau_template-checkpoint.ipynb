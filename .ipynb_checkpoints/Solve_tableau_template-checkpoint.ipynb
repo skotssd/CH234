{
 "cells": [
  {
   "cell_type": "code",
   "execution_count": 27,
   "metadata": {},
   "outputs": [],
   "source": [
    "% some housekeeping stuff\n",
    "register_graphics_toolkit (\"gnuplot\");\n",
    "available_graphics_toolkits ();\n",
    "graphics_toolkit (\"gnuplot\")\n",
    "clear\n",
    "% end of housekeeping"
   ]
  },
  {
   "cell_type": "code",
   "execution_count": 28,
   "metadata": {},
   "outputs": [
    {
     "name": "stdout",
     "output_type": "stream",
     "text": [
      "xguess =\r\n",
      "\r\n",
      "   0.00000000099808\r\n",
      "   0.00000900916507\r\n",
      "\r\n",
      "masserr =\r\n",
      "\r\n",
      "   8.9891e-17\r\n",
      "   8.9962e-17\r\n",
      "\r\n",
      "J =\r\n",
      "\r\n",
      "   1001.926507      0.099808\r\n",
      "    900.916507     11.099808\r\n",
      "\r\n",
      "C =\r\n",
      "\r\n",
      "   1.0000e-06\r\n",
      "   9.9808e-10\r\n",
      "   9.0092e-06\r\n",
      "   9.9808e-12\r\n",
      "   9.9808e-08\r\n",
      "   8.9918e-07\r\n",
      "   9.0092e-05\r\n",
      "\r\n"
     ]
    }
   ],
   "source": [
    "[KSOLUTION,ASOLUTION,SOLUTIONNAMES]=get_equilib_defn;\n",
    "\n",
    "ASOLUTION=[1 0 0 %H\n",
    "           0 1 0 %L\n",
    "           0 0 1 %M\n",
    "           1 1 0 %HL\n",
    "           2 1 0 %H2L\n",
    "           0 1 1 %ML\n",
    "           -1 0 1]; %MOH\n",
    "KSOLUTION=[0\n",
    "           0 \n",
    "           0\n",
    "           4\n",
    "           14\n",
    "           8\n",
    "           -5];\n",
    "\n",
    "pH=6;\n",
    "\n",
    "[Ksolution,Asolution]=get_equilib_fixed_pH(KSOLUTION,ASOLUTION,pH);\n",
    "\n",
    "T=[1e-6; 1e-6];\n",
    "\n",
    "X=T./10; [xguess,masserr,J,C] = nl_massbalancerrnosolid_NR(X,Asolution,Ksolution,T)\n"
   ]
  }
 ],
 "metadata": {
  "kernelspec": {
   "display_name": "Octave",
   "language": "octave",
   "name": "octave"
  },
  "language_info": {
   "file_extension": ".m",
   "help_links": [
    {
     "text": "GNU Octave",
     "url": "https://www.gnu.org/software/octave/support.html"
    },
    {
     "text": "Octave Kernel",
     "url": "https://github.com/Calysto/octave_kernel"
    },
    {
     "text": "MetaKernel Magics",
     "url": "https://metakernel.readthedocs.io/en/latest/source/README.html"
    }
   ],
   "mimetype": "text/x-octave",
   "name": "octave",
   "version": "5.2.0"
  }
 },
 "nbformat": 4,
 "nbformat_minor": 2
}
