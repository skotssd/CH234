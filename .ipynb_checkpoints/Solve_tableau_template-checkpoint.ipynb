{
 "cells": [
  {
   "cell_type": "code",
   "execution_count": 3,
   "metadata": {},
   "outputs": [],
   "source": [
    "% some housekeeping stuff\n",
    "register_graphics_toolkit (\"gnuplot\");\n",
    "available_graphics_toolkits ();\n",
    "graphics_toolkit (\"gnuplot\")\n",
    "warning ('off')\n",
    "clear\n",
    "% end of housekeeping"
   ]
  },
  {
   "cell_type": "code",
   "execution_count": 4,
   "metadata": {},
   "outputs": [
    {
     "name": "stdout",
     "output_type": "stream",
     "text": [
      "concs =\n",
      "\n",
      "   7.0545e-05\n",
      "   5.0119e-11\n",
      "   1.4175e-10\n",
      "   7.0544e-05\n",
      "   9.9295e-03\n",
      "\n",
      "pH = 4.1515e+00\n"
     ]
    }
   ],
   "source": [
    "pKa1=6.3; pKa2=10.3; CT=1e-2;\n",
    "\n",
    "TABLEAU=[...\n",
    "%H+  CO3   logK\n",
    "1    0     0         %H\n",
    "0    1     0         %CO3\n",
    "-1   0     -14       %OH\n",
    "1    1     pKa2      %HCO3\n",
    "2    1     pKa1+pKa2 %H2CO3 \n",
    "2*CT CT    0         %TOTALS \n",
    "];\n",
    "\n",
    "% now take TABLEAU apart --------------------------------------------------\n",
    "\n",
    "[N,M]=size(TABLEAU);\n",
    "\n",
    "ASOLUTION=TABLEAU(1:N-1,1:M-1);\n",
    "KSOLUTION=TABLEAU(1:N-1,M);\n",
    "T=TABLEAU(N,1:M-1)'; T(T==0)=1e-30; T=T';\n",
    "\n",
    "format short e\n",
    "\n",
    "X=T./10; [xans,masserr,J,C] = nl_massbalancerrnosolid_NR(X,ASOLUTION,KSOLUTION,T);\n",
    "\n",
    "concs=C\n",
    "pH=-log10(C(1))"
   ]
  }
 ],
 "metadata": {
  "kernelspec": {
   "display_name": "Octave",
   "language": "octave",
   "name": "octave"
  },
  "language_info": {
   "file_extension": ".m",
   "help_links": [
    {
     "text": "GNU Octave",
     "url": "https://www.gnu.org/software/octave/support.html"
    },
    {
     "text": "Octave Kernel",
     "url": "https://github.com/Calysto/octave_kernel"
    },
    {
     "text": "MetaKernel Magics",
     "url": "https://metakernel.readthedocs.io/en/latest/source/README.html"
    }
   ],
   "mimetype": "text/x-octave",
   "name": "octave",
   "version": "6.2.0"
  }
 },
 "nbformat": 4,
 "nbformat_minor": 2
}
