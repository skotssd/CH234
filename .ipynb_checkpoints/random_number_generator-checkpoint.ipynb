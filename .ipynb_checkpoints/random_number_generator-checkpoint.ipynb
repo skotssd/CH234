{
 "cells": [
  {
   "cell_type": "code",
   "execution_count": 37,
   "metadata": {},
   "outputs": [],
   "source": [
    "% some housekeeping stuff\n",
    "register_graphics_toolkit (\"gnuplot\");\n",
    "available_graphics_toolkits ();\n",
    "graphics_toolkit (\"gnuplot\")\n",
    "clear\n",
    "% end of housekeeping"
   ]
  },
  {
   "cell_type": "code",
   "execution_count": 38,
   "metadata": {},
   "outputs": [
    {
     "name": "stdout",
     "output_type": "stream",
     "text": [
      "N =  100\n",
      "check =  10\n",
      "n =\n",
      "\n",
      " Columns 1 through 16:\n",
      "\n",
      "    6    3    3    6    4   10    9    4    4    7    5    3    9    7    2    8\n",
      "\n",
      " Columns 17 through 32:\n",
      "\n",
      "   10    2    3    6    4    3    9    9    6    6    5    6    4    9    5    1\n",
      "\n",
      " Columns 33 through 48:\n",
      "\n",
      "    4    6    7    5   10    3    5    2    4    3   10    6    5    3    6    2\n",
      "\n",
      " Columns 49 through 64:\n",
      "\n",
      "    4    4    3    2    1    1    4    5    6    4    9    1    8    1    3    1\n",
      "\n",
      " Columns 65 through 80:\n",
      "\n",
      "    2    8    5    4    2    4    4   10    4    8    5    8    7   10    7    9\n",
      "\n",
      " Columns 81 through 96:\n",
      "\n",
      "    2    8    1    4    9   10    7    1    1    9    7    6   10    7   10    4\n",
      "\n",
      " Columns 97 through 100:\n",
      "\n",
      "    6    9    5    4\n",
      "\n",
      "c =  9\n"
     ]
    }
   ],
   "source": [
    "% this will pick as many integer number between 1 and 10 as  you tell it to\n",
    "% and it will count how many times a specified number shows up\n",
    "\n",
    "% total number of numbers\n",
    "N=100\n",
    "\n",
    "% test number to count\n",
    "check=10\n",
    "\n",
    "c=0; % initialize the counter\n",
    "for i=1:N\n",
    "    n(i)=randi([1,10]); if n(i)==check; c=c+1; end\n",
    "end\n",
    "\n",
    "n\n",
    "c\n",
    "\n",
    "\n",
    "\n",
    "\n"
   ]
  }
 ],
 "metadata": {
  "kernelspec": {
   "display_name": "Octave",
   "language": "octave",
   "name": "octave"
  },
  "language_info": {
   "file_extension": ".m",
   "help_links": [
    {
     "text": "GNU Octave",
     "url": "https://www.gnu.org/software/octave/support.html"
    },
    {
     "text": "Octave Kernel",
     "url": "https://github.com/Calysto/octave_kernel"
    },
    {
     "text": "MetaKernel Magics",
     "url": "https://metakernel.readthedocs.io/en/latest/source/README.html"
    }
   ],
   "mimetype": "text/x-octave",
   "name": "octave",
   "version": "5.2.0"
  }
 },
 "nbformat": 4,
 "nbformat_minor": 2
}
