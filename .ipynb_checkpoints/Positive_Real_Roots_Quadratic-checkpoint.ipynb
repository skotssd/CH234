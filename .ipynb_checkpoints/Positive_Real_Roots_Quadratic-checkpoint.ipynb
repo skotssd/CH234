{
 "cells": [
  {
   "cell_type": "code",
   "execution_count": 5,
   "metadata": {},
   "outputs": [],
   "source": [
    "% some housekeeping stuff\n",
    "register_graphics_toolkit (\"gnuplot\");\n",
    "available_graphics_toolkits ();\n",
    "graphics_toolkit(\"gnuplot\")\n",
    "clear\n",
    "% end of housekeeping"
   ]
  },
  {
   "cell_type": "markdown",
   "metadata": {},
   "source": [
    "# Roots of a quadratic equation\n",
    "\n",
    "The general form of a quadratic equation is :\n",
    "\n",
    "$ax^2 + bx+c=0$\n",
    "\n",
    "it is possible to solve for the roots (x values where y=0) using the quadratic equation.  You can also solve numerically using this script.  Just input the values for a, b and c in the code below.\n",
    "\n",
    "This might be useful for doing assignments in CH234"
   ]
  },
  {
   "cell_type": "code",
   "execution_count": 6,
   "metadata": {},
   "outputs": [
    {
     "name": "stdout",
     "output_type": "stream",
     "text": [
      "t = 7.4987e-06\n",
      "pt = 5.1250\n"
     ]
    }
   ],
   "source": [
    "%plot -s 600,500 -f 'svg'\n",
    "a=1; Ka=10^-4.75; AT=5.626e-3;\n",
    "b=Ka; c=-Ka*AT;\n",
    "t=roots([a b c]); %finds the roots\n",
    "t=t(imag(t)==0); %sets any imaginary roots to zero\n",
    "% display the positive real root\n",
    "\n",
    "t=t(t>0)\n",
    "\n",
    "% take minus log in case that might be useful\n",
    "\n",
    "pt=-log10(t)"
   ]
  },
  {
   "cell_type": "code",
   "execution_count": 7,
   "metadata": {},
   "outputs": [
    {
     "data": {
      "image/svg+xml": [
       "<svg xmlns=\"http://www.w3.org/2000/svg\" xmlns:xlink=\"http://www.w3.org/1999/xlink\" width=\"600px\" height=\"500px\" viewBox=\"0 0 560 420\">\n",
       "\n",
       "<title>Gnuplot</title>\n",
       "<desc>Produced by GNUPLOT 5.2 patchlevel 7 </desc>\n",
       "\n",
       "<g id=\"gnuplot_canvas\">\n",
       "\n",
       "<rect x=\"0\" y=\"0\" width=\"560\" height=\"420\" fill=\"none\"/>\n",
       "<defs>\n",
       "\n",
       "\t<circle id=\"gpDot\" r=\"0.5\" stroke-width=\"0.5\" stroke=\"currentColor\"/>\n",
       "\t<path id=\"gpPt0\" stroke-width=\"0.222\" stroke=\"currentColor\" d=\"M-1,0 h2 M0,-1 v2\"/>\n",
       "\t<path id=\"gpPt1\" stroke-width=\"0.222\" stroke=\"currentColor\" d=\"M-1,-1 L1,1 M1,-1 L-1,1\"/>\n",
       "\t<path id=\"gpPt2\" stroke-width=\"0.222\" stroke=\"currentColor\" d=\"M-1,0 L1,0 M0,-1 L0,1 M-1,-1 L1,1 M-1,1 L1,-1\"/>\n",
       "\t<rect id=\"gpPt3\" stroke-width=\"0.222\" stroke=\"currentColor\" x=\"-1\" y=\"-1\" width=\"2\" height=\"2\"/>\n",
       "\t<rect id=\"gpPt4\" stroke-width=\"0.222\" stroke=\"currentColor\" fill=\"currentColor\" x=\"-1\" y=\"-1\" width=\"2\" height=\"2\"/>\n",
       "\t<circle id=\"gpPt5\" stroke-width=\"0.222\" stroke=\"currentColor\" cx=\"0\" cy=\"0\" r=\"1\"/>\n",
       "\t<use xlink:href=\"#gpPt5\" id=\"gpPt6\" fill=\"currentColor\" stroke=\"none\"/>\n",
       "\t<path id=\"gpPt7\" stroke-width=\"0.222\" stroke=\"currentColor\" d=\"M0,-1.33 L-1.33,0.67 L1.33,0.67 z\"/>\n",
       "\t<use xlink:href=\"#gpPt7\" id=\"gpPt8\" fill=\"currentColor\" stroke=\"none\"/>\n",
       "\t<use xlink:href=\"#gpPt7\" id=\"gpPt9\" stroke=\"currentColor\" transform=\"rotate(180)\"/>\n",
       "\t<use xlink:href=\"#gpPt9\" id=\"gpPt10\" fill=\"currentColor\" stroke=\"none\"/>\n",
       "\t<use xlink:href=\"#gpPt3\" id=\"gpPt11\" stroke=\"currentColor\" transform=\"rotate(45)\"/>\n",
       "\t<use xlink:href=\"#gpPt11\" id=\"gpPt12\" fill=\"currentColor\" stroke=\"none\"/>\n",
       "\t<path id=\"gpPt13\" stroke-width=\"0.222\" stroke=\"currentColor\" d=\"M0,1.330 L1.265,0.411 L0.782,-1.067 L-0.782,-1.076 L-1.265,0.411 z\"/>\n",
       "\t<use xlink:href=\"#gpPt13\" id=\"gpPt14\" fill=\"currentColor\" stroke=\"none\"/>\n",
       "\t<filter id=\"textbox\" filterUnits=\"objectBoundingBox\" x=\"0\" y=\"0\" height=\"1\" width=\"1\">\n",
       "\t  <feFlood flood-color=\"white\" flood-opacity=\"1\" result=\"bgnd\"/>\n",
       "\t  <feComposite in=\"SourceGraphic\" in2=\"bgnd\" operator=\"atop\"/>\n",
       "\t</filter>\n",
       "\t<filter id=\"greybox\" filterUnits=\"objectBoundingBox\" x=\"0\" y=\"0\" height=\"1\" width=\"1\">\n",
       "\t  <feFlood flood-color=\"lightgrey\" flood-opacity=\"1\" result=\"grey\"/>\n",
       "\t  <feComposite in=\"SourceGraphic\" in2=\"grey\" operator=\"atop\"/>\n",
       "\t</filter>\n",
       "</defs>\n",
       "<g fill=\"none\" color=\"white\" stroke=\"currentColor\" stroke-width=\"1.00\" stroke-linecap=\"butt\" stroke-linejoin=\"miter\">\n",
       "</g>\n",
       "<g fill=\"none\" color=\"black\" stroke=\"currentColor\" stroke-width=\"1.00\" stroke-linecap=\"butt\" stroke-linejoin=\"miter\">\n",
       "\t<g stroke=\"none\" shape-rendering=\"crispEdges\">\n",
       "\t\t<polygon fill=\"rgb(255, 255, 255)\" points=\"70.5,384.0 526.7,384.0 526.7,18.2 70.5,18.2 \"/>\n",
       "\t</g>\n",
       "</g>\n",
       "<g fill=\"none\" color=\"black\" stroke=\"currentColor\" stroke-width=\"1.00\" stroke-linecap=\"butt\" stroke-linejoin=\"miter\">\n",
       "\t<path stroke=\"rgb(  0,   0,   0)\" d=\"M70.5,384.0 L83.0,384.0 M526.8,384.0 L514.3,384.0  \"/>\t<g transform=\"translate(62.2,387.3)\" stroke=\"none\" fill=\"rgb(38,38,38)\" font-family=\"Arial\" font-size=\"10.00\" text-anchor=\"end\">\n",
       "\t\t<text><tspan font-family=\"Arial\">-2e-09</tspan></text>\n",
       "\t</g>\n",
       "</g>\n",
       "<g fill=\"none\" color=\"black\" stroke=\"currentColor\" stroke-width=\"1.00\" stroke-linecap=\"butt\" stroke-linejoin=\"miter\">\n",
       "\t<path stroke=\"rgb(  0,   0,   0)\" d=\"M70.5,310.8 L83.0,310.8 M526.8,310.8 L514.3,310.8  \"/>\t<g transform=\"translate(62.2,314.1)\" stroke=\"none\" fill=\"rgb(38,38,38)\" font-family=\"Arial\" font-size=\"10.00\" text-anchor=\"end\">\n",
       "\t\t<text><tspan font-family=\"Arial\">0</tspan></text>\n",
       "\t</g>\n",
       "</g>\n",
       "<g fill=\"none\" color=\"black\" stroke=\"currentColor\" stroke-width=\"1.00\" stroke-linecap=\"butt\" stroke-linejoin=\"miter\">\n",
       "\t<path stroke=\"rgb(  0,   0,   0)\" d=\"M70.5,237.6 L83.0,237.6 M526.8,237.6 L514.3,237.6  \"/>\t<g transform=\"translate(62.2,240.9)\" stroke=\"none\" fill=\"rgb(38,38,38)\" font-family=\"Arial\" font-size=\"10.00\" text-anchor=\"end\">\n",
       "\t\t<text><tspan font-family=\"Arial\">2e-09</tspan></text>\n",
       "\t</g>\n",
       "</g>\n",
       "<g fill=\"none\" color=\"black\" stroke=\"currentColor\" stroke-width=\"1.00\" stroke-linecap=\"butt\" stroke-linejoin=\"miter\">\n",
       "\t<path stroke=\"rgb(  0,   0,   0)\" d=\"M70.5,164.5 L83.0,164.5 M526.8,164.5 L514.3,164.5  \"/>\t<g transform=\"translate(62.2,167.8)\" stroke=\"none\" fill=\"rgb(38,38,38)\" font-family=\"Arial\" font-size=\"10.00\" text-anchor=\"end\">\n",
       "\t\t<text><tspan font-family=\"Arial\">4e-09</tspan></text>\n",
       "\t</g>\n",
       "</g>\n",
       "<g fill=\"none\" color=\"black\" stroke=\"currentColor\" stroke-width=\"1.00\" stroke-linecap=\"butt\" stroke-linejoin=\"miter\">\n",
       "\t<path stroke=\"rgb(  0,   0,   0)\" d=\"M70.5,91.3 L83.0,91.3 M526.8,91.3 L514.3,91.3  \"/>\t<g transform=\"translate(62.2,94.6)\" stroke=\"none\" fill=\"rgb(38,38,38)\" font-family=\"Arial\" font-size=\"10.00\" text-anchor=\"end\">\n",
       "\t\t<text><tspan font-family=\"Arial\">6e-09</tspan></text>\n",
       "\t</g>\n",
       "</g>\n",
       "<g fill=\"none\" color=\"black\" stroke=\"currentColor\" stroke-width=\"1.00\" stroke-linecap=\"butt\" stroke-linejoin=\"miter\">\n",
       "\t<path stroke=\"rgb(  0,   0,   0)\" d=\"M70.5,18.1 L83.0,18.1 M526.8,18.1 L514.3,18.1  \"/>\t<g transform=\"translate(62.2,21.4)\" stroke=\"none\" fill=\"rgb(38,38,38)\" font-family=\"Arial\" font-size=\"10.00\" text-anchor=\"end\">\n",
       "\t\t<text><tspan font-family=\"Arial\">8e-09</tspan></text>\n",
       "\t</g>\n",
       "</g>\n",
       "<g fill=\"none\" color=\"black\" stroke=\"currentColor\" stroke-width=\"1.00\" stroke-linecap=\"butt\" stroke-linejoin=\"miter\">\n",
       "\t<path stroke=\"rgb(  0,   0,   0)\" d=\"M70.5,384.0 L70.5,371.5 M70.5,18.1 L70.5,30.6  \"/>\t<g transform=\"translate(70.5,405.3)\" stroke=\"none\" fill=\"rgb(38,38,38)\" font-family=\"Arial\" font-size=\"10.00\" text-anchor=\"middle\">\n",
       "\t\t<text><tspan font-family=\"Arial\">-0.0001</tspan></text>\n",
       "\t</g>\n",
       "</g>\n",
       "<g fill=\"none\" color=\"black\" stroke=\"currentColor\" stroke-width=\"1.00\" stroke-linecap=\"butt\" stroke-linejoin=\"miter\">\n",
       "\t<path stroke=\"rgb(  0,   0,   0)\" d=\"M184.6,384.0 L184.6,371.5 M184.6,18.1 L184.6,30.6  \"/>\t<g transform=\"translate(184.6,405.3)\" stroke=\"none\" fill=\"rgb(38,38,38)\" font-family=\"Arial\" font-size=\"10.00\" text-anchor=\"middle\">\n",
       "\t\t<text><tspan font-family=\"Arial\">-5e-05</tspan></text>\n",
       "\t</g>\n",
       "</g>\n",
       "<g fill=\"none\" color=\"black\" stroke=\"currentColor\" stroke-width=\"1.00\" stroke-linecap=\"butt\" stroke-linejoin=\"miter\">\n",
       "\t<path stroke=\"rgb(  0,   0,   0)\" d=\"M298.7,384.0 L298.7,371.5 M298.7,18.1 L298.7,30.6  \"/>\t<g transform=\"translate(298.7,405.3)\" stroke=\"none\" fill=\"rgb(38,38,38)\" font-family=\"Arial\" font-size=\"10.00\" text-anchor=\"middle\">\n",
       "\t\t<text><tspan font-family=\"Arial\">0</tspan></text>\n",
       "\t</g>\n",
       "</g>\n",
       "<g fill=\"none\" color=\"black\" stroke=\"currentColor\" stroke-width=\"1.00\" stroke-linecap=\"butt\" stroke-linejoin=\"miter\">\n",
       "\t<path stroke=\"rgb(  0,   0,   0)\" d=\"M412.7,384.0 L412.7,371.5 M412.7,18.1 L412.7,30.6  \"/>\t<g transform=\"translate(412.7,405.3)\" stroke=\"none\" fill=\"rgb(38,38,38)\" font-family=\"Arial\" font-size=\"10.00\" text-anchor=\"middle\">\n",
       "\t\t<text><tspan font-family=\"Arial\">5e-05</tspan></text>\n",
       "\t</g>\n",
       "</g>\n",
       "<g fill=\"none\" color=\"black\" stroke=\"currentColor\" stroke-width=\"1.00\" stroke-linecap=\"butt\" stroke-linejoin=\"miter\">\n",
       "\t<path stroke=\"rgb(  0,   0,   0)\" d=\"M526.8,384.0 L526.8,371.5 M526.8,18.1 L526.8,30.6  \"/>\t<g transform=\"translate(526.8,405.3)\" stroke=\"none\" fill=\"rgb(38,38,38)\" font-family=\"Arial\" font-size=\"10.00\" text-anchor=\"middle\">\n",
       "\t\t<text><tspan font-family=\"Arial\">0.0001</tspan></text>\n",
       "\t</g>\n",
       "</g>\n",
       "<g fill=\"none\" color=\"black\" stroke=\"currentColor\" stroke-width=\"1.00\" stroke-linecap=\"butt\" stroke-linejoin=\"miter\">\n",
       "</g>\n",
       "<g fill=\"none\" color=\"black\" stroke=\"currentColor\" stroke-width=\"1.00\" stroke-linecap=\"butt\" stroke-linejoin=\"miter\">\n",
       "</g>\n",
       "\t<g id=\"gnuplot_plot_1a\"><title>gnuplot_plot_1a</title>\n",
       "<g fill=\"none\" color=\"white\" stroke=\"rgb(  0,   0,   0)\" stroke-width=\"2.00\" stroke-linecap=\"butt\" stroke-linejoin=\"miter\">\n",
       "</g>\n",
       "<g fill=\"none\" color=\"black\" stroke=\"currentColor\" stroke-width=\"2.00\" stroke-linecap=\"butt\" stroke-linejoin=\"miter\">\n",
       "\t<path stroke=\"rgb(  0,   0, 255)\" d=\"M127.6,107.1 L129.3,111.2 L131.0,115.3 L132.7,119.3 L134.4,123.3 L136.1,127.2 L137.8,131.1 L139.5,134.9   L141.3,138.7 L143.0,142.5 L144.7,146.2 L146.4,149.9 L148.1,153.5 L149.8,157.2 L151.5,160.7 L153.2,164.2   L154.9,167.7 L156.7,171.1 L158.4,174.5 L160.1,177.9 L161.8,181.2 L163.5,184.5 L165.2,187.7 L166.9,190.9   L168.6,194.0 L170.3,197.1 L172.0,200.2 L173.8,203.2 L175.5,206.2 L177.2,209.2 L178.9,212.1 L180.6,214.9   L182.3,217.7 L184.0,220.5 L185.7,223.3 L187.4,226.0 L189.2,228.6 L190.9,231.2 L192.6,233.8 L194.3,236.3   L196.0,238.8 L197.7,241.3 L199.4,243.7 L201.1,246.0 L202.8,248.4 L204.6,250.6 L206.3,252.9 L208.0,255.1   L209.7,257.2 L211.4,259.4 L213.1,261.4 L214.8,263.5 L216.5,265.5 L218.2,267.4 L220.0,269.3 L221.7,271.2   L223.4,273.0 L225.1,274.8 L226.8,276.6 L228.5,278.3 L230.2,280.0 L231.9,281.6 L233.6,283.2 L235.3,284.7   L237.1,286.2 L238.8,287.7 L240.5,289.1 L242.2,290.5 L243.9,291.8 L245.6,293.1 L247.3,294.4 L249.0,295.6   L250.7,296.7 L252.5,297.9 L254.2,299.0 L255.9,300.0 L257.6,301.0 L259.3,302.0 L261.0,302.9 L262.7,303.8   L264.4,304.6 L266.1,305.5 L267.9,306.2 L269.6,306.9 L271.3,307.6 L273.0,308.2 L274.7,308.8 L276.4,309.4   L278.1,309.9 L279.8,310.4 L281.5,310.8 L283.3,311.2 L285.0,311.6 L286.7,311.9 L288.4,312.1 L290.1,312.4   L291.8,312.5 L293.5,312.7 L295.2,312.8 L296.9,312.9 L298.7,312.9 L300.4,312.9 L302.1,312.8 L303.8,312.7   L305.5,312.5 L307.2,312.4 L308.9,312.1 L310.6,311.9 L312.3,311.6 L314.0,311.2 L315.8,310.8 L317.5,310.4   L319.2,309.9 L320.9,309.4 L322.6,308.8 L324.3,308.2 L326.0,307.6 L327.7,306.9 L329.4,306.2 L331.2,305.4   L332.9,304.6 L334.6,303.8 L336.3,302.9 L338.0,302.0 L339.7,301.0 L341.4,300.0 L343.1,299.0 L344.8,297.9   L346.6,296.7 L348.3,295.6 L350.0,294.4 L351.7,293.1 L353.4,291.8 L355.1,290.5 L356.8,289.1 L358.5,287.7   L360.2,286.2 L362.0,284.7 L363.7,283.2 L365.4,281.6 L367.1,280.0 L368.8,278.3 L370.5,276.6 L372.2,274.8   L373.9,273.0 L375.6,271.2 L377.3,269.3 L379.1,267.4 L380.8,265.5 L382.5,263.5 L384.2,261.4 L385.9,259.4   L387.6,257.2 L389.3,255.1 L391.0,252.9 L392.7,250.6 L394.5,248.4 L396.2,246.0 L397.9,243.7 L399.6,241.3   L401.3,238.8 L403.0,236.3 L404.7,233.8 L406.4,231.2 L408.1,228.6 L409.9,225.9 L411.6,223.3 L413.3,220.5   L415.0,217.7 L416.7,214.9 L418.4,212.1 L420.1,209.2 L421.8,206.2 L423.5,203.2 L425.3,200.2 L427.0,197.1   L428.7,194.0 L430.4,190.9 L432.1,187.7 L433.8,184.5 L435.5,181.2 L437.2,177.9 L438.9,174.5 L440.6,171.1   L442.4,167.7 L444.1,164.2 L445.8,160.7 L447.5,157.1 L449.2,153.5 L450.9,149.9 L452.6,146.2 L454.3,142.5   L456.0,138.7 L457.8,134.9 L459.5,131.1 L461.2,127.2 L462.9,123.3 L464.6,119.3 L466.3,115.3 L468.0,111.2   L469.7,107.1  \"/></g>\n",
       "\t</g>\n",
       "\t<g id=\"gnuplot_plot_2a\"><title>gnuplot_plot_2a</title>\n",
       "<g fill=\"none\" color=\"black\" stroke=\"currentColor\" stroke-width=\"2.00\" stroke-linecap=\"butt\" stroke-linejoin=\"miter\">\n",
       "\t<path stroke=\"rgb(255,   0,   0)\" d=\"M315.8,333.2 L315.8,107.1  \"/></g>\n",
       "\t</g>\n",
       "\t<g id=\"gnuplot_plot_3a\"><title>gnuplot_plot_3a</title>\n",
       "<g fill=\"none\" color=\"black\" stroke=\"currentColor\" stroke-width=\"2.00\" stroke-linecap=\"butt\" stroke-linejoin=\"miter\">\n",
       "\t<path stroke=\"rgb(  0,   0,   0)\" d=\"M127.6,310.8 L129.3,310.8 L131.0,310.8 L132.7,310.8 L134.4,310.8 L136.1,310.8 L137.8,310.8 L139.5,310.8   L141.3,310.8 L143.0,310.8 L144.7,310.8 L146.4,310.8 L148.1,310.8 L149.8,310.8 L151.5,310.8 L153.2,310.8   L154.9,310.8 L156.7,310.8 L158.4,310.8 L160.1,310.8 L161.8,310.8 L163.5,310.8 L165.2,310.8 L166.9,310.8   L168.6,310.8 L170.3,310.8 L172.0,310.8 L173.8,310.8 L175.5,310.8 L177.2,310.8 L178.9,310.8 L180.6,310.8   L182.3,310.8 L184.0,310.8 L185.7,310.8 L187.4,310.8 L189.2,310.8 L190.9,310.8 L192.6,310.8 L194.3,310.8   L196.0,310.8 L197.7,310.8 L199.4,310.8 L201.1,310.8 L202.8,310.8 L204.6,310.8 L206.3,310.8 L208.0,310.8   L209.7,310.8 L211.4,310.8 L213.1,310.8 L214.8,310.8 L216.5,310.8 L218.2,310.8 L220.0,310.8 L221.7,310.8   L223.4,310.8 L225.1,310.8 L226.8,310.8 L228.5,310.8 L230.2,310.8 L231.9,310.8 L233.6,310.8 L235.3,310.8   L237.1,310.8 L238.8,310.8 L240.5,310.8 L242.2,310.8 L243.9,310.8 L245.6,310.8 L247.3,310.8 L249.0,310.8   L250.7,310.8 L252.5,310.8 L254.2,310.8 L255.9,310.8 L257.6,310.8 L259.3,310.8 L261.0,310.8 L262.7,310.8   L264.4,310.8 L266.1,310.8 L267.9,310.8 L269.6,310.8 L271.3,310.8 L273.0,310.8 L274.7,310.8 L276.4,310.8   L278.1,310.8 L279.8,310.8 L281.5,310.8 L283.3,310.8 L285.0,310.8 L286.7,310.8 L288.4,310.8 L290.1,310.8   L291.8,310.8 L293.5,310.8 L295.2,310.8 L296.9,310.8 L298.7,310.8 L300.4,310.8 L302.1,310.8 L303.8,310.8   L305.5,310.8 L307.2,310.8 L308.9,310.8 L310.6,310.8 L312.3,310.8 L314.0,310.8 L315.8,310.8 L317.5,310.8   L319.2,310.8 L320.9,310.8 L322.6,310.8 L324.3,310.8 L326.0,310.8 L327.7,310.8 L329.4,310.8 L331.2,310.8   L332.9,310.8 L334.6,310.8 L336.3,310.8 L338.0,310.8 L339.7,310.8 L341.4,310.8 L343.1,310.8 L344.8,310.8   L346.6,310.8 L348.3,310.8 L350.0,310.8 L351.7,310.8 L353.4,310.8 L355.1,310.8 L356.8,310.8 L358.5,310.8   L360.2,310.8 L362.0,310.8 L363.7,310.8 L365.4,310.8 L367.1,310.8 L368.8,310.8 L370.5,310.8 L372.2,310.8   L373.9,310.8 L375.6,310.8 L377.3,310.8 L379.1,310.8 L380.8,310.8 L382.5,310.8 L384.2,310.8 L385.9,310.8   L387.6,310.8 L389.3,310.8 L391.0,310.8 L392.7,310.8 L394.5,310.8 L396.2,310.8 L397.9,310.8 L399.6,310.8   L401.3,310.8 L403.0,310.8 L404.7,310.8 L406.4,310.8 L408.1,310.8 L409.9,310.8 L411.6,310.8 L413.3,310.8   L415.0,310.8 L416.7,310.8 L418.4,310.8 L420.1,310.8 L421.8,310.8 L423.5,310.8 L425.3,310.8 L427.0,310.8   L428.7,310.8 L430.4,310.8 L432.1,310.8 L433.8,310.8 L435.5,310.8 L437.2,310.8 L438.9,310.8 L440.6,310.8   L442.4,310.8 L444.1,310.8 L445.8,310.8 L447.5,310.8 L449.2,310.8 L450.9,310.8 L452.6,310.8 L454.3,310.8   L456.0,310.8 L457.8,310.8 L459.5,310.8 L461.2,310.8 L462.9,310.8 L464.6,310.8 L466.3,310.8 L468.0,310.8   L469.7,310.8  \"/></g>\n",
       "\t</g>\n",
       "<g fill=\"none\" color=\"black\" stroke=\"currentColor\" stroke-width=\"2.00\" stroke-linecap=\"butt\" stroke-linejoin=\"miter\">\n",
       "</g>\n",
       "<g fill=\"none\" color=\"black\" stroke=\"black\" stroke-width=\"0.50\" stroke-linecap=\"butt\" stroke-linejoin=\"miter\">\n",
       "\t<path stroke=\"rgb( 38,  38,  38)\" d=\"M70.5,384.0 L526.8,384.0 M70.5,18.1 L526.8,18.1 M70.5,384.0 L70.5,18.1 M526.8,384.0 L526.8,18.1    \"/></g>\n",
       "<g fill=\"none\" color=\"black\" stroke=\"rgb( 38,  38,  38)\" stroke-width=\"1.00\" stroke-linecap=\"butt\" stroke-linejoin=\"miter\">\n",
       "</g>\n",
       "<g fill=\"none\" color=\"black\" stroke=\"currentColor\" stroke-width=\"1.00\" stroke-linecap=\"butt\" stroke-linejoin=\"miter\">\n",
       "</g>\n",
       "</g>\n",
       "</svg>"
      ],
      "text/plain": [
       "<IPython.core.display.SVG object>"
      ]
     },
     "metadata": {},
     "output_type": "display_data"
    }
   ],
   "source": [
    "%plot -s 600,500 -f 'svg'\n",
    "\n",
    "x=[-10*t:t/10:t*10];\n",
    "y=a*x.^2+b.*x+c;\n",
    "\n",
    "plot(x,y,'b-','linewidth',2)\n",
    "hold on\n",
    "plot([t t],[min(y)-0.1*max(y) max(y)],'r','linewidth',2)\n",
    "plot(x,zeros(size(x)),'k','linewidth',2)"
   ]
  },
  {
   "cell_type": "code",
   "execution_count": null,
   "metadata": {},
   "outputs": [],
   "source": []
  }
 ],
 "metadata": {
  "kernelspec": {
   "display_name": "Octave",
   "language": "octave",
   "name": "octave"
  },
  "language_info": {
   "file_extension": ".m",
   "help_links": [
    {
     "text": "GNU Octave",
     "url": "https://www.gnu.org/software/octave/support.html"
    },
    {
     "text": "Octave Kernel",
     "url": "https://github.com/Calysto/octave_kernel"
    },
    {
     "text": "MetaKernel Magics",
     "url": "https://metakernel.readthedocs.io/en/latest/source/README.html"
    }
   ],
   "mimetype": "text/x-octave",
   "name": "octave",
   "version": "6.1.0"
  }
 },
 "nbformat": 4,
 "nbformat_minor": 2
}
