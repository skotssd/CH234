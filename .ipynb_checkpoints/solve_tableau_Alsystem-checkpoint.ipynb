{
 "cells": [
  {
   "cell_type": "code",
   "execution_count": 33,
   "metadata": {},
   "outputs": [],
   "source": [
    "% some housekeeping stuff\n",
    "register_graphics_toolkit (\"gnuplot\");\n",
    "available_graphics_toolkits ();\n",
    "graphics_toolkit (\"gnuplot\")\n",
    "warning ('off')\n",
    "clear\n",
    "% end of housekeeping"
   ]
  },
  {
   "cell_type": "code",
   "execution_count": 34,
   "metadata": {},
   "outputs": [
    {
     "name": "stdout",
     "output_type": "stream",
     "text": [
      "concs =\n",
      "\n",
      "   4.2137e-09\n",
      "   9.9976e-03\n",
      "   2.3732e-06\n",
      "   2.3690e-06\n",
      "\n",
      "pH = 8.3753e+00\n"
     ]
    }
   ],
   "source": [
    "TABLEAU=[...\n",
    "%H+  A     logK\n",
    "1    0     0       %H\n",
    "0    1     0       %Ac\n",
    "-1   0     -14     %OH\n",
    "1    1     4.75    %HAc\n",
    "0    1e-2  0       %TOTALS \n",
    "];\n",
    "\n",
    "% now take TABLEAU apart --------------------------------------------------\n",
    "\n",
    "[N,M]=size(TABLEAU);\n",
    "\n",
    "ASOLUTION=TABLEAU(1:N-1,1:M-1);\n",
    "KSOLUTION=TABLEAU(1:N-1,M);\n",
    "T=TABLEAU(N,1:M-1)'; T(T==0)=1e-30;\n",
    "\n",
    "format short e\n",
    "\n",
    "X=T./10; [xans,masserr,J,C] = nl_massbalancerrnosolid_NR(X,ASOLUTION,KSOLUTION,T);\n",
    "\n",
    "concs=C\n",
    "pH=-log10(C(1))"
   ]
  }
 ],
 "metadata": {
  "kernelspec": {
   "display_name": "Octave",
   "language": "octave",
   "name": "octave"
  },
  "language_info": {
   "file_extension": ".m",
   "help_links": [
    {
     "text": "GNU Octave",
     "url": "https://www.gnu.org/software/octave/support.html"
    },
    {
     "text": "Octave Kernel",
     "url": "https://github.com/Calysto/octave_kernel"
    },
    {
     "text": "MetaKernel Magics",
     "url": "https://metakernel.readthedocs.io/en/latest/source/README.html"
    }
   ],
   "mimetype": "text/x-octave",
   "name": "octave",
   "version": "6.2.0"
  }
 },
 "nbformat": 4,
 "nbformat_minor": 2
}
