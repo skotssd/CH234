{
 "cells": [
  {
   "cell_type": "code",
   "execution_count": 8,
   "metadata": {},
   "outputs": [],
   "source": [
    "% some housekeeping stuff\n",
    "register_graphics_toolkit (\"gnuplot\");\n",
    "available_graphics_toolkits ();\n",
    "graphics_toolkit (\"gnuplot\")\n",
    "clear"
   ]
  },
  {
   "cell_type": "markdown",
   "metadata": {},
   "source": [
    "# Weak acid speciation versus pH\n",
    "\n",
    "In class we derived the equations for $\\alpha$ versus pH\n",
    "\n",
    "$\\alpha_{HA}=\\dfrac{[\\mathrm{H}^+]}{[\\mathrm{H}^+]+K_a}$\n",
    "\n",
    "$\\alpha_{A}=\\dfrac{K_a}{[\\mathrm{H}^+]+K_a}$"
   ]
  },
  {
   "cell_type": "code",
   "execution_count": 11,
   "metadata": {},
   "outputs": [],
   "source": [
    "pKa=4; % you can change this value"
   ]
  },
  {
   "cell_type": "code",
   "execution_count": null,
   "metadata": {},
   "outputs": [],
   "source": [
    "%plot -s 600,500 -f 'svg'\n",
    "Ka=10^-pKa;\n",
    "pH=2:0.2:12; H=10.^-pH;\n",
    "alphaHL=H./(Ka+H);\n",
    "alphaL=Ka./(Ka+H);\n",
    "plot(pH,alphaHL,'linewidth',2,pH,alphaL,\"linewidth\", 2)\n",
    "set(gca,'linewidth',2,'fontsize',12)\n",
    "xlabel('pH')\n",
    "ylabel('alpha')\n",
    "legend('HL','L')"
   ]
  },
  {
   "cell_type": "code",
   "execution_count": null,
   "metadata": {},
   "outputs": [],
   "source": []
  }
 ],
 "metadata": {
  "kernelspec": {
   "display_name": "Octave",
   "language": "octave",
   "name": "octave"
  },
  "language_info": {
   "file_extension": ".m",
   "help_links": [
    {
     "text": "GNU Octave",
     "url": "https://www.gnu.org/software/octave/support.html"
    },
    {
     "text": "Octave Kernel",
     "url": "https://github.com/Calysto/octave_kernel"
    },
    {
     "text": "MetaKernel Magics",
     "url": "https://github.com/calysto/metakernel/blob/master/metakernel/magics/README.md"
    }
   ],
   "mimetype": "text/x-octave",
   "name": "octave",
   "version": "4.4.1"
  }
 },
 "nbformat": 4,
 "nbformat_minor": 2
}
