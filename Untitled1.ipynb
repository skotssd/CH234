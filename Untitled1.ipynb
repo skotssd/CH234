{
 "cells": [
  {
   "cell_type": "code",
   "execution_count": 3,
   "metadata": {},
   "outputs": [],
   "source": [
    "% some housekeeping stuff\n",
    "register_graphics_toolkit (\"gnuplot\");\n",
    "available_graphics_toolkits ();\n",
    "graphics_toolkit (\"gnuplot\")\n",
    "clear\n",
    "% end of housekeeping"
   ]
  },
  {
   "cell_type": "markdown",
   "metadata": {},
   "source": [
    "# Strong-Strong Titrations and Buffering\n",
    "\n",
    "For HCl in water (for example) the electroneutrality expression can be written:\n",
    "\n",
    "$[\\mathrm{H}^+]=[\\mathrm{OH}^-]+[\\mathrm{Cl}^-]$\n",
    "\n",
    "And with substitution of the Kw expression for [H+] and substituting in the total chloride for [Cl-]\n",
    "\n",
    "$[\\mathrm{H}^+]=\\dfrac{K_w}{[\\mathrm{H}^+]}+\\mathrm{Cl_T}$\n",
    "\n",
    "Depnding on the $\\mathrm{Cl_T}$ value we can solve the quadratic equation to determine pH, or use the simplifying assumption that [H+]>>[OH-] and solve the reduced equation [H+]=ClT."
   ]
  },
  {
   "cell_type": "markdown",
   "metadata": {},
   "source": []
  }
 ],
 "metadata": {
  "kernelspec": {
   "display_name": "Octave",
   "language": "octave",
   "name": "octave"
  },
  "language_info": {
   "file_extension": ".m",
   "help_links": [
    {
     "text": "GNU Octave",
     "url": "https://www.gnu.org/software/octave/support.html"
    },
    {
     "text": "Octave Kernel",
     "url": "https://github.com/Calysto/octave_kernel"
    },
    {
     "text": "MetaKernel Magics",
     "url": "https://metakernel.readthedocs.io/en/latest/source/README.html"
    }
   ],
   "mimetype": "text/x-octave",
   "name": "octave",
   "version": "5.1.0"
  }
 },
 "nbformat": 4,
 "nbformat_minor": 2
}
